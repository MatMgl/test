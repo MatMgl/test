{
 "cells": [
  {
   "cell_type": "code",
   "execution_count": 3,
   "id": "ead25c8c-7ecb-4a20-a74d-11561caf6f5f",
   "metadata": {},
   "outputs": [],
   "source": [
    "library('boot')\n",
    "library('ggplot2')\n",
    "#install.packages('corrplot')\n",
    "options(repr.plot.width=6, repr.plot.height=4) "
   ]
  },
  {
   "cell_type": "markdown",
   "id": "2de18036-3971-4d38-b12e-0caadefdee5f",
   "metadata": {},
   "source": [
    "## Preparations"
   ]
  },
  {
   "cell_type": "markdown",
   "id": "a4130c0d-1842-4743-94fa-b9b73394d1b4",
   "metadata": {},
   "source": [
    "### 1. Loading and Cleaning the Data"
   ]
  },
  {
   "cell_type": "markdown",
   "id": "629e245f-7d2b-4877-824e-db852af69ff1",
   "metadata": {},
   "source": [
    "#### Loading the data and initial inspection"
   ]
  },
  {
   "cell_type": "code",
   "execution_count": 8,
   "id": "3146dc00-fbdf-4a31-b320-e70952d76c3c",
   "metadata": {},
   "outputs": [
    {
     "data": {
      "text/html": [
       "<table>\n",
       "<thead><tr><th scope=col>model</th><th scope=col>year</th><th scope=col>price</th><th scope=col>transmission</th><th scope=col>mileage</th><th scope=col>fuelType</th><th scope=col>tax</th><th scope=col>mpg</th><th scope=col>engineSize</th></tr></thead>\n",
       "<tbody>\n",
       "\t<tr><td> Octavia     </td><td>2017         </td><td>10550        </td><td>Manual       </td><td>25250        </td><td>Petrol       </td><td>150          </td><td>54.3         </td><td>1.4          </td></tr>\n",
       "\t<tr><td> Citigo      </td><td>2018         </td><td> 8200        </td><td>Manual       </td><td> 1264        </td><td>Petrol       </td><td>145          </td><td>67.3         </td><td>1.0          </td></tr>\n",
       "\t<tr><td> Octavia     </td><td>2019         </td><td>15650        </td><td>Automatic    </td><td> 6825        </td><td>Diesel       </td><td>145          </td><td>67.3         </td><td>2.0          </td></tr>\n",
       "\t<tr><td> Yeti Outdoor</td><td>2015         </td><td>14000        </td><td>Automatic    </td><td>28431        </td><td>Diesel       </td><td>165          </td><td>51.4         </td><td>2.0          </td></tr>\n",
       "\t<tr><td> Superb      </td><td>2019         </td><td>18350        </td><td>Manual       </td><td>10912        </td><td>Petrol       </td><td>150          </td><td>40.9         </td><td>1.5          </td></tr>\n",
       "\t<tr><td> Yeti Outdoor</td><td>2017         </td><td>13250        </td><td>Automatic    </td><td>47005        </td><td>Diesel       </td><td>145          </td><td>51.4         </td><td>2.0          </td></tr>\n",
       "</tbody>\n",
       "</table>\n"
      ],
      "text/latex": [
       "\\begin{tabular}{r|lllllllll}\n",
       " model & year & price & transmission & mileage & fuelType & tax & mpg & engineSize\\\\\n",
       "\\hline\n",
       "\t  Octavia      & 2017          & 10550         & Manual        & 25250         & Petrol        & 150           & 54.3          & 1.4          \\\\\n",
       "\t  Citigo       & 2018          &  8200         & Manual        &  1264         & Petrol        & 145           & 67.3          & 1.0          \\\\\n",
       "\t  Octavia      & 2019          & 15650         & Automatic     &  6825         & Diesel        & 145           & 67.3          & 2.0          \\\\\n",
       "\t  Yeti Outdoor & 2015          & 14000         & Automatic     & 28431         & Diesel        & 165           & 51.4          & 2.0          \\\\\n",
       "\t  Superb       & 2019          & 18350         & Manual        & 10912         & Petrol        & 150           & 40.9          & 1.5          \\\\\n",
       "\t  Yeti Outdoor & 2017          & 13250         & Automatic     & 47005         & Diesel        & 145           & 51.4          & 2.0          \\\\\n",
       "\\end{tabular}\n"
      ],
      "text/markdown": [
       "\n",
       "| model | year | price | transmission | mileage | fuelType | tax | mpg | engineSize |\n",
       "|---|---|---|---|---|---|---|---|---|\n",
       "|  Octavia      | 2017          | 10550         | Manual        | 25250         | Petrol        | 150           | 54.3          | 1.4           |\n",
       "|  Citigo       | 2018          |  8200         | Manual        |  1264         | Petrol        | 145           | 67.3          | 1.0           |\n",
       "|  Octavia      | 2019          | 15650         | Automatic     |  6825         | Diesel        | 145           | 67.3          | 2.0           |\n",
       "|  Yeti Outdoor | 2015          | 14000         | Automatic     | 28431         | Diesel        | 165           | 51.4          | 2.0           |\n",
       "|  Superb       | 2019          | 18350         | Manual        | 10912         | Petrol        | 150           | 40.9          | 1.5           |\n",
       "|  Yeti Outdoor | 2017          | 13250         | Automatic     | 47005         | Diesel        | 145           | 51.4          | 2.0           |\n",
       "\n"
      ],
      "text/plain": [
       "  model         year price transmission mileage fuelType tax mpg  engineSize\n",
       "1  Octavia      2017 10550 Manual       25250   Petrol   150 54.3 1.4       \n",
       "2  Citigo       2018  8200 Manual        1264   Petrol   145 67.3 1.0       \n",
       "3  Octavia      2019 15650 Automatic     6825   Diesel   145 67.3 2.0       \n",
       "4  Yeti Outdoor 2015 14000 Automatic    28431   Diesel   165 51.4 2.0       \n",
       "5  Superb       2019 18350 Manual       10912   Petrol   150 40.9 1.5       \n",
       "6  Yeti Outdoor 2017 13250 Automatic    47005   Diesel   145 51.4 2.0       "
      ]
     },
     "metadata": {},
     "output_type": "display_data"
    },
    {
     "data": {
      "text/plain": [
       "           model           year          price          transmission \n",
       "  Fabia       :1571   Min.   :2004   Min.   :  995   Automatic:1104  \n",
       "  Octavia     :1477   1st Qu.:2017   1st Qu.: 9495   Manual   :3754  \n",
       "  Superb      : 791   Median :2018   Median :12998   Other    :   1  \n",
       "  Kodiaq      : 472   Mean   :2018   Mean   :14275   Semi-Auto:1408  \n",
       "  Citigo      : 470   3rd Qu.:2019   3rd Qu.:17990                   \n",
       "  Yeti Outdoor: 458   Max.   :2020   Max.   :91874                   \n",
       " (Other)      :1028                                                  \n",
       "    mileage         fuelType         tax             mpg        \n",
       " Min.   :     5   Diesel:2069   Min.   :  0.0   Min.   : 30.10  \n",
       " 1st Qu.:  5812   Hybrid:  18   1st Qu.:125.0   1st Qu.: 50.40  \n",
       " Median : 14653   Other :   9   Median :145.0   Median : 57.70  \n",
       " Mean   : 20118   Petrol:4171   Mean   :117.4   Mean   : 56.59  \n",
       " 3rd Qu.: 28000                 3rd Qu.:145.0   3rd Qu.: 62.80  \n",
       " Max.   :300000                 Max.   :325.0   Max.   :201.80  \n",
       "                                                                \n",
       "   engineSize   \n",
       " Min.   :0.000  \n",
       " 1st Qu.:1.000  \n",
       " Median :1.400  \n",
       " Mean   :1.434  \n",
       " 3rd Qu.:2.000  \n",
       " Max.   :2.500  \n",
       "                "
      ]
     },
     "metadata": {},
     "output_type": "display_data"
    }
   ],
   "source": [
    "data <- read.csv(file=\"skoda.csv\")\n",
    "\n",
    "head(data)\n",
    "summary(data)"
   ]
  },
  {
   "cell_type": "code",
   "execution_count": 10,
   "id": "68d30734-0049-443b-bcb6-00f4cd6cb3d2",
   "metadata": {},
   "outputs": [
    {
     "data": {
      "image/png": "[encoded data removed]",
      "text/plain": [
       "plot without title"
      ]
     },
     "metadata": {},
     "output_type": "display_data"
    }
   ],
   "source": [
    "pairs(data)"
   ]
  },
  {
   "cell_type": "markdown",
   "id": "ccad2498-59e1-4482-9e91-3c8d36ef292c",
   "metadata": {},
   "source": [
    "#### Problem: enginesize = 0\n",
    "What does it mean? Is it an electric car?"
   ]
  },
  {
   "cell_type": "code",
   "execution_count": 13,
   "id": "3c19c4bb-aa86-489d-afc3-26ac5505e677",
   "metadata": {},
   "outputs": [
    {
     "data": {
      "text/plain": [
       "\n",
       "   0    1  1.2  1.4  1.5  1.6  1.8  1.9    2  2.5 \n",
       "   5 1939  958  420  626  672    4    7 1635    1 "
      ]
     },
     "metadata": {},
     "output_type": "display_data"
    },
    {
     "data": {
      "text/html": [
       "<table>\n",
       "<thead><tr><th></th><th scope=col>model</th><th scope=col>year</th><th scope=col>price</th><th scope=col>transmission</th><th scope=col>mileage</th><th scope=col>fuelType</th><th scope=col>tax</th><th scope=col>mpg</th><th scope=col>engineSize</th></tr></thead>\n",
       "<tbody>\n",
       "\t<tr><th scope=row>5189</th><td> Octavia </td><td>2017     </td><td>16000    </td><td>Automatic</td><td>16166    </td><td>Diesel   </td><td>145      </td><td>61.4     </td><td>0        </td></tr>\n",
       "\t<tr><th scope=row>5277</th><td> Octavia </td><td>2017     </td><td>10700    </td><td>Manual   </td><td>38552    </td><td>Petrol   </td><td>150      </td><td>55.4     </td><td>0        </td></tr>\n",
       "\t<tr><th scope=row>5335</th><td> Fabia   </td><td>2014     </td><td> 7500    </td><td>Automatic</td><td>26008    </td><td>Petrol   </td><td>125      </td><td>53.3     </td><td>0        </td></tr>\n",
       "\t<tr><th scope=row>5374</th><td> Fabia   </td><td>2018     </td><td>11500    </td><td>Manual   </td><td>10720    </td><td>Petrol   </td><td>150      </td><td>64.2     </td><td>0        </td></tr>\n",
       "\t<tr><th scope=row>5441</th><td> Octavia </td><td>2017     </td><td>15400    </td><td>Automatic</td><td>19576    </td><td>Diesel   </td><td>145      </td><td>61.4     </td><td>0        </td></tr>\n",
       "</tbody>\n",
       "</table>\n"
      ],
      "text/latex": [
       "\\begin{tabular}{r|lllllllll}\n",
       "  & model & year & price & transmission & mileage & fuelType & tax & mpg & engineSize\\\\\n",
       "\\hline\n",
       "\t5189 &  Octavia  & 2017      & 16000     & Automatic & 16166     & Diesel    & 145       & 61.4      & 0        \\\\\n",
       "\t5277 &  Octavia  & 2017      & 10700     & Manual    & 38552     & Petrol    & 150       & 55.4      & 0        \\\\\n",
       "\t5335 &  Fabia    & 2014      &  7500     & Automatic & 26008     & Petrol    & 125       & 53.3      & 0        \\\\\n",
       "\t5374 &  Fabia    & 2018      & 11500     & Manual    & 10720     & Petrol    & 150       & 64.2      & 0        \\\\\n",
       "\t5441 &  Octavia  & 2017      & 15400     & Automatic & 19576     & Diesel    & 145       & 61.4      & 0        \\\\\n",
       "\\end{tabular}\n"
      ],
      "text/markdown": [
       "\n",
       "| <!--/--> | model | year | price | transmission | mileage | fuelType | tax | mpg | engineSize |\n",
       "|---|---|---|---|---|---|---|---|---|---|\n",
       "| 5189 |  Octavia  | 2017      | 16000     | Automatic | 16166     | Diesel    | 145       | 61.4      | 0         |\n",
       "| 5277 |  Octavia  | 2017      | 10700     | Manual    | 38552     | Petrol    | 150       | 55.4      | 0         |\n",
       "| 5335 |  Fabia    | 2014      |  7500     | Automatic | 26008     | Petrol    | 125       | 53.3      | 0         |\n",
       "| 5374 |  Fabia    | 2018      | 11500     | Manual    | 10720     | Petrol    | 150       | 64.2      | 0         |\n",
       "| 5441 |  Octavia  | 2017      | 15400     | Automatic | 19576     | Diesel    | 145       | 61.4      | 0         |\n",
       "\n"
      ],
      "text/plain": [
       "     model    year price transmission mileage fuelType tax mpg  engineSize\n",
       "5189  Octavia 2017 16000 Automatic    16166   Diesel   145 61.4 0         \n",
       "5277  Octavia 2017 10700 Manual       38552   Petrol   150 55.4 0         \n",
       "5335  Fabia   2014  7500 Automatic    26008   Petrol   125 53.3 0         \n",
       "5374  Fabia   2018 11500 Manual       10720   Petrol   150 64.2 0         \n",
       "5441  Octavia 2017 15400 Automatic    19576   Diesel   145 61.4 0         "
      ]
     },
     "metadata": {},
     "output_type": "display_data"
    }
   ],
   "source": [
    "data$engineSize <- as.factor(data$engineSize)\n",
    "table(data$engineSize)\n",
    "index <- which(data$engineSize == 0)\n",
    "data[index,]"
   ]
  },
  {
   "cell_type": "markdown",
   "id": "4ca23ef5-7465-4876-9e48-e30e2316064b",
   "metadata": {},
   "source": [
    "Conclusion: we remove these few observations"
   ]
  },
  {
   "cell_type": "code",
   "execution_count": 16,
   "id": "058f754f-78b8-4ae5-a4e6-0841a190aa60",
   "metadata": {},
   "outputs": [
    {
     "data": {
      "text/plain": [
       "           model           year          price          transmission \n",
       "  Fabia       :1569   Min.   :2004   Min.   :  995   Automatic:1101  \n",
       "  Octavia     :1474   1st Qu.:2017   1st Qu.: 9495   Manual   :3752  \n",
       "  Superb      : 791   Median :2018   Median :12998   Other    :   1  \n",
       "  Kodiaq      : 472   Mean   :2018   Mean   :14277   Semi-Auto:1408  \n",
       "  Citigo      : 470   3rd Qu.:2019   3rd Qu.:17990                   \n",
       "  Yeti Outdoor: 458   Max.   :2020   Max.   :91874                   \n",
       " (Other)      :1028                                                  \n",
       "    mileage         fuelType         tax             mpg           engineSize  \n",
       " Min.   :     5   Diesel:2067   Min.   :  0.0   Min.   : 30.10   1      :1939  \n",
       " 1st Qu.:  5808   Hybrid:  18   1st Qu.:125.0   1st Qu.: 50.40   2      :1635  \n",
       " Median : 14652   Other :   9   Median :145.0   Median : 57.70   1.2    : 958  \n",
       " Mean   : 20117   Petrol:4168   Mean   :117.4   Mean   : 56.59   1.6    : 672  \n",
       " 3rd Qu.: 28000                 3rd Qu.:145.0   3rd Qu.: 62.80   1.5    : 626  \n",
       " Max.   :300000                 Max.   :325.0   Max.   :201.80   1.4    : 420  \n",
       "                                                                 (Other):  12  "
      ]
     },
     "metadata": {},
     "output_type": "display_data"
    }
   ],
   "source": [
    "data2 <- data[-index,]\n",
    "row.names(data2) <- NULL  # reset indices\n",
    "\n",
    "summary(data2)"
   ]
  },
  {
   "cell_type": "markdown",
   "id": "d6e0d970-bd43-4c57-9815-077a6ada32f4",
   "metadata": {},
   "source": [
    "#### Another problem:\n",
    "one item costs $91874$, while the rest of the summary suggests this might be an outlier (inflated or incorrect value)."
   ]
  },
  {
   "cell_type": "code",
   "execution_count": 19,
   "id": "be124921-367c-4747-affd-1f27b6f21e32",
   "metadata": {},
   "outputs": [
    {
     "data": {
      "text/html": [
       "<table>\n",
       "<thead><tr><th></th><th scope=col>model</th><th scope=col>year</th><th scope=col>price</th><th scope=col>transmission</th><th scope=col>mileage</th><th scope=col>fuelType</th><th scope=col>tax</th><th scope=col>mpg</th><th scope=col>engineSize</th></tr></thead>\n",
       "<tbody>\n",
       "\t<tr><th scope=row>4994</th><td> Karoq   </td><td>2019     </td><td>91874    </td><td>Automatic</td><td>3764     </td><td>Petrol   </td><td>145      </td><td>40.9     </td><td>1.5      </td></tr>\n",
       "\t<tr><th scope=row>4353</th><td> Superb  </td><td>2019     </td><td>39001    </td><td>Semi-Auto</td><td>5000     </td><td>Petrol   </td><td>145      </td><td>32.5     </td><td>2        </td></tr>\n",
       "\t<tr><th scope=row>3331</th><td> Kodiaq  </td><td>2020     </td><td>38990    </td><td>Automatic</td><td> 493     </td><td>Diesel   </td><td>145      </td><td>34.9     </td><td>2        </td></tr>\n",
       "\t<tr><th scope=row>4561</th><td> Kodiaq  </td><td>2020     </td><td>37999    </td><td>Automatic</td><td>5600     </td><td>Diesel   </td><td>150      </td><td>34.9     </td><td>2        </td></tr>\n",
       "\t<tr><th scope=row>6121</th><td> Kodiaq  </td><td>2020     </td><td>36999    </td><td>Semi-Auto</td><td>1000     </td><td>Diesel   </td><td>145      </td><td>39.2     </td><td>2        </td></tr>\n",
       "\t<tr><th scope=row>2489</th><td> Kodiaq  </td><td>2019     </td><td>36995    </td><td>Automatic</td><td>2261     </td><td>Diesel   </td><td>145      </td><td>35.3     </td><td>2        </td></tr>\n",
       "</tbody>\n",
       "</table>\n"
      ],
      "text/latex": [
       "\\begin{tabular}{r|lllllllll}\n",
       "  & model & year & price & transmission & mileage & fuelType & tax & mpg & engineSize\\\\\n",
       "\\hline\n",
       "\t4994 &  Karoq    & 2019      & 91874     & Automatic & 3764      & Petrol    & 145       & 40.9      & 1.5      \\\\\n",
       "\t4353 &  Superb   & 2019      & 39001     & Semi-Auto & 5000      & Petrol    & 145       & 32.5      & 2        \\\\\n",
       "\t3331 &  Kodiaq   & 2020      & 38990     & Automatic &  493      & Diesel    & 145       & 34.9      & 2        \\\\\n",
       "\t4561 &  Kodiaq   & 2020      & 37999     & Automatic & 5600      & Diesel    & 150       & 34.9      & 2        \\\\\n",
       "\t6121 &  Kodiaq   & 2020      & 36999     & Semi-Auto & 1000      & Diesel    & 145       & 39.2      & 2        \\\\\n",
       "\t2489 &  Kodiaq   & 2019      & 36995     & Automatic & 2261      & Diesel    & 145       & 35.3      & 2        \\\\\n",
       "\\end{tabular}\n"
      ],
      "text/markdown": [
       "\n",
       "| <!--/--> | model | year | price | transmission | mileage | fuelType | tax | mpg | engineSize |\n",
       "|---|---|---|---|---|---|---|---|---|---|\n",
       "| 4994 |  Karoq    | 2019      | 91874     | Automatic | 3764      | Petrol    | 145       | 40.9      | 1.5       |\n",
       "| 4353 |  Superb   | 2019      | 39001     | Semi-Auto | 5000      | Petrol    | 145       | 32.5      | 2         |\n",
       "| 3331 |  Kodiaq   | 2020      | 38990     | Automatic |  493      | Diesel    | 145       | 34.9      | 2         |\n",
       "| 4561 |  Kodiaq   | 2020      | 37999     | Automatic | 5600      | Diesel    | 150       | 34.9      | 2         |\n",
       "| 6121 |  Kodiaq   | 2020      | 36999     | Semi-Auto | 1000      | Diesel    | 145       | 39.2      | 2         |\n",
       "| 2489 |  Kodiaq   | 2019      | 36995     | Automatic | 2261      | Diesel    | 145       | 35.3      | 2         |\n",
       "\n"
      ],
      "text/plain": [
       "     model   year price transmission mileage fuelType tax mpg  engineSize\n",
       "4994  Karoq  2019 91874 Automatic    3764    Petrol   145 40.9 1.5       \n",
       "4353  Superb 2019 39001 Semi-Auto    5000    Petrol   145 32.5 2         \n",
       "3331  Kodiaq 2020 38990 Automatic     493    Diesel   145 34.9 2         \n",
       "4561  Kodiaq 2020 37999 Automatic    5600    Diesel   150 34.9 2         \n",
       "6121  Kodiaq 2020 36999 Semi-Auto    1000    Diesel   145 39.2 2         \n",
       "2489  Kodiaq 2019 36995 Automatic    2261    Diesel   145 35.3 2         "
      ]
     },
     "metadata": {},
     "output_type": "display_data"
    },
    {
     "data": {
      "text/html": [
       "<table>\n",
       "<thead><tr><th></th><th scope=col>model</th><th scope=col>year</th><th scope=col>price</th><th scope=col>transmission</th><th scope=col>mileage</th><th scope=col>fuelType</th><th scope=col>tax</th><th scope=col>mpg</th><th scope=col>engineSize</th></tr></thead>\n",
       "<tbody>\n",
       "\t<tr><th scope=row>4994</th><td> Karoq   </td><td>2019     </td><td>91874    </td><td>Automatic</td><td>3764     </td><td>Petrol   </td><td>145      </td><td>40.9     </td><td>1.5      </td></tr>\n",
       "\t<tr><th scope=row>6215</th><td> Karoq   </td><td>2020     </td><td>31990    </td><td>Semi-Auto</td><td>2000     </td><td>Petrol   </td><td>145      </td><td>33.2     </td><td>2        </td></tr>\n",
       "\t<tr><th scope=row>1118</th><td> Karoq   </td><td>2019     </td><td>30843    </td><td>Manual   </td><td>4521     </td><td>Diesel   </td><td>145      </td><td>42.8     </td><td>2        </td></tr>\n",
       "\t<tr><th scope=row>2907</th><td> Karoq   </td><td>2020     </td><td>30490    </td><td>Automatic</td><td>6560     </td><td>Diesel   </td><td>145      </td><td>41.5     </td><td>2        </td></tr>\n",
       "\t<tr><th scope=row>309</th><td> Karoq   </td><td>2019     </td><td>30000    </td><td>Manual   </td><td> 766     </td><td>Diesel   </td><td>145      </td><td>42.8     </td><td>2        </td></tr>\n",
       "\t<tr><th scope=row>2949</th><td> Karoq   </td><td>2019     </td><td>29995    </td><td>Automatic</td><td>4786     </td><td>Diesel   </td><td>145      </td><td>41.5     </td><td>2        </td></tr>\n",
       "\t<tr><th scope=row>3619</th><td> Karoq   </td><td>2019     </td><td>29995    </td><td>Manual   </td><td>4000     </td><td>Diesel   </td><td>145      </td><td>42.8     </td><td>2        </td></tr>\n",
       "\t<tr><th scope=row>3878</th><td> Karoq   </td><td>2020     </td><td>29995    </td><td>Manual   </td><td>2000     </td><td>Diesel   </td><td>145      </td><td>42.8     </td><td>2        </td></tr>\n",
       "\t<tr><th scope=row>1205</th><td> Karoq   </td><td>2019     </td><td>29838    </td><td>Manual   </td><td>3489     </td><td>Diesel   </td><td>145      </td><td>42.8     </td><td>2        </td></tr>\n",
       "\t<tr><th scope=row>1521</th><td> Karoq   </td><td>2019     </td><td>29700    </td><td>Automatic</td><td>9393     </td><td>Diesel   </td><td>145      </td><td>41.5     </td><td>2        </td></tr>\n",
       "</tbody>\n",
       "</table>\n"
      ],
      "text/latex": [
       "\\begin{tabular}{r|lllllllll}\n",
       "  & model & year & price & transmission & mileage & fuelType & tax & mpg & engineSize\\\\\n",
       "\\hline\n",
       "\t4994 &  Karoq    & 2019      & 91874     & Automatic & 3764      & Petrol    & 145       & 40.9      & 1.5      \\\\\n",
       "\t6215 &  Karoq    & 2020      & 31990     & Semi-Auto & 2000      & Petrol    & 145       & 33.2      & 2        \\\\\n",
       "\t1118 &  Karoq    & 2019      & 30843     & Manual    & 4521      & Diesel    & 145       & 42.8      & 2        \\\\\n",
       "\t2907 &  Karoq    & 2020      & 30490     & Automatic & 6560      & Diesel    & 145       & 41.5      & 2        \\\\\n",
       "\t309 &  Karoq    & 2019      & 30000     & Manual    &  766      & Diesel    & 145       & 42.8      & 2        \\\\\n",
       "\t2949 &  Karoq    & 2019      & 29995     & Automatic & 4786      & Diesel    & 145       & 41.5      & 2        \\\\\n",
       "\t3619 &  Karoq    & 2019      & 29995     & Manual    & 4000      & Diesel    & 145       & 42.8      & 2        \\\\\n",
       "\t3878 &  Karoq    & 2020      & 29995     & Manual    & 2000      & Diesel    & 145       & 42.8      & 2        \\\\\n",
       "\t1205 &  Karoq    & 2019      & 29838     & Manual    & 3489      & Diesel    & 145       & 42.8      & 2        \\\\\n",
       "\t1521 &  Karoq    & 2019      & 29700     & Automatic & 9393      & Diesel    & 145       & 41.5      & 2        \\\\\n",
       "\\end{tabular}\n"
      ],
      "text/markdown": [
       "\n",
       "| <!--/--> | model | year | price | transmission | mileage | fuelType | tax | mpg | engineSize |\n",
       "|---|---|---|---|---|---|---|---|---|---|\n",
       "| 4994 |  Karoq    | 2019      | 91874     | Automatic | 3764      | Petrol    | 145       | 40.9      | 1.5       |\n",
       "| 6215 |  Karoq    | 2020      | 31990     | Semi-Auto | 2000      | Petrol    | 145       | 33.2      | 2         |\n",
       "| 1118 |  Karoq    | 2019      | 30843     | Manual    | 4521      | Diesel    | 145       | 42.8      | 2         |\n",
       "| 2907 |  Karoq    | 2020      | 30490     | Automatic | 6560      | Diesel    | 145       | 41.5      | 2         |\n",
       "| 309 |  Karoq    | 2019      | 30000     | Manual    |  766      | Diesel    | 145       | 42.8      | 2         |\n",
       "| 2949 |  Karoq    | 2019      | 29995     | Automatic | 4786      | Diesel    | 145       | 41.5      | 2         |\n",
       "| 3619 |  Karoq    | 2019      | 29995     | Manual    | 4000      | Diesel    | 145       | 42.8      | 2         |\n",
       "| 3878 |  Karoq    | 2020      | 29995     | Manual    | 2000      | Diesel    | 145       | 42.8      | 2         |\n",
       "| 1205 |  Karoq    | 2019      | 29838     | Manual    | 3489      | Diesel    | 145       | 42.8      | 2         |\n",
       "| 1521 |  Karoq    | 2019      | 29700     | Automatic | 9393      | Diesel    | 145       | 41.5      | 2         |\n",
       "\n"
      ],
      "text/plain": [
       "     model  year price transmission mileage fuelType tax mpg  engineSize\n",
       "4994  Karoq 2019 91874 Automatic    3764    Petrol   145 40.9 1.5       \n",
       "6215  Karoq 2020 31990 Semi-Auto    2000    Petrol   145 33.2 2         \n",
       "1118  Karoq 2019 30843 Manual       4521    Diesel   145 42.8 2         \n",
       "2907  Karoq 2020 30490 Automatic    6560    Diesel   145 41.5 2         \n",
       "309   Karoq 2019 30000 Manual        766    Diesel   145 42.8 2         \n",
       "2949  Karoq 2019 29995 Automatic    4786    Diesel   145 41.5 2         \n",
       "3619  Karoq 2019 29995 Manual       4000    Diesel   145 42.8 2         \n",
       "3878  Karoq 2020 29995 Manual       2000    Diesel   145 42.8 2         \n",
       "1205  Karoq 2019 29838 Manual       3489    Diesel   145 42.8 2         \n",
       "1521  Karoq 2019 29700 Automatic    9393    Diesel   145 41.5 2         "
      ]
     },
     "metadata": {},
     "output_type": "display_data"
    }
   ],
   "source": [
    "# a few observations sorted by price\n",
    "head(data2[order(data2$price, decreasing = TRUE),])\n",
    "\n",
    "# a few observations of the Karoq model sorted by price\n",
    "index <- which(data2$model == \" Karoq\")\n",
    "temp <- data2[index,]\n",
    "temp <- temp[order(temp$price, decreasing = TRUE),]\n",
    "temp[1:10,]"
   ]
  },
  {
   "cell_type": "markdown",
   "id": "3f0b634b-9ef5-47b1-8428-5212209f92b4",
   "metadata": {},
   "source": [
    "Conclusion: we remove one observation"
   ]
  },
  {
   "cell_type": "code",
   "execution_count": 22,
   "id": "80ebabe3-ca19-44b4-9aeb-ff787f66b4c1",
   "metadata": {},
   "outputs": [],
   "source": [
    "index <- which(data2$price==91874)\n",
    "\n",
    "data3 <- data2[-index,]\n",
    "row.names(data3) <- NULL"
   ]
  },
  {
   "cell_type": "code",
   "execution_count": 24,
   "id": "700aff39-d78d-4d88-b011-991426a85407",
   "metadata": {},
   "outputs": [
    {
     "data": {
      "text/plain": [
       "           model           year          price          transmission \n",
       "  Fabia       :1569   Min.   :2004   Min.   :  995   Automatic:1100  \n",
       "  Octavia     :1474   1st Qu.:2017   1st Qu.: 9495   Manual   :3752  \n",
       "  Superb      : 791   Median :2018   Median :12998   Other    :   1  \n",
       "  Kodiaq      : 472   Mean   :2018   Mean   :14265   Semi-Auto:1408  \n",
       "  Citigo      : 470   3rd Qu.:2019   3rd Qu.:17990                   \n",
       "  Yeti Outdoor: 458   Max.   :2020   Max.   :39001                   \n",
       " (Other)      :1027                                                  \n",
       "    mileage         fuelType         tax             mpg           engineSize  \n",
       " Min.   :     5   Diesel:2067   Min.   :  0.0   Min.   : 30.10   1      :1939  \n",
       " 1st Qu.:  5810   Hybrid:  18   1st Qu.:125.0   1st Qu.: 50.40   2      :1635  \n",
       " Median : 14652   Other :   9   Median :145.0   Median : 57.70   1.2    : 958  \n",
       " Mean   : 20119   Petrol:4167   Mean   :117.4   Mean   : 56.59   1.6    : 672  \n",
       " 3rd Qu.: 28000                 3rd Qu.:145.0   3rd Qu.: 62.80   1.5    : 625  \n",
       " Max.   :300000                 Max.   :325.0   Max.   :201.80   1.4    : 420  \n",
       "                                                                 (Other):  12  "
      ]
     },
     "metadata": {},
     "output_type": "display_data"
    }
   ],
   "source": [
    "summary(data3)"
   ]
  },
  {
   "cell_type": "markdown",
   "id": "f16d48e3-d7a8-4539-ab18-36fd6bed2c1b",
   "metadata": {},
   "source": [
    "#### We create a new variable \"age\" as the age of the car from the year 2020."
   ]
  },
  {
   "cell_type": "code",
   "execution_count": 27,
   "id": "595b9557-bd5e-4811-94ca-fc3bf25a17c9",
   "metadata": {},
   "outputs": [
    {
     "data": {
      "text/plain": [
       "\n",
       "2004 2005 2006 2007 2008 2009 2010 2011 2012 2013 2014 2015 2016 2017 2018 2019 \n",
       "   1    2    3    4    6    6   10   14   17   93  182  285  840 1536  873 2113 \n",
       "2020 \n",
       " 276 "
      ]
     },
     "metadata": {},
     "output_type": "display_data"
    },
    {
     "data": {
      "text/html": [
       "<table>\n",
       "<thead><tr><th scope=col>model</th><th scope=col>year</th><th scope=col>price</th><th scope=col>transmission</th><th scope=col>mileage</th><th scope=col>fuelType</th><th scope=col>tax</th><th scope=col>mpg</th><th scope=col>engineSize</th><th scope=col>age</th></tr></thead>\n",
       "<tbody>\n",
       "\t<tr><td> Octavia     </td><td>2017         </td><td>10550        </td><td>Manual       </td><td>25250        </td><td>Petrol       </td><td>150          </td><td>54.3         </td><td>1.4          </td><td>3            </td></tr>\n",
       "\t<tr><td> Citigo      </td><td>2018         </td><td> 8200        </td><td>Manual       </td><td> 1264        </td><td>Petrol       </td><td>145          </td><td>67.3         </td><td>1            </td><td>2            </td></tr>\n",
       "\t<tr><td> Octavia     </td><td>2019         </td><td>15650        </td><td>Automatic    </td><td> 6825        </td><td>Diesel       </td><td>145          </td><td>67.3         </td><td>2            </td><td>1            </td></tr>\n",
       "\t<tr><td> Yeti Outdoor</td><td>2015         </td><td>14000        </td><td>Automatic    </td><td>28431        </td><td>Diesel       </td><td>165          </td><td>51.4         </td><td>2            </td><td>5            </td></tr>\n",
       "\t<tr><td> Superb      </td><td>2019         </td><td>18350        </td><td>Manual       </td><td>10912        </td><td>Petrol       </td><td>150          </td><td>40.9         </td><td>1.5          </td><td>1            </td></tr>\n",
       "\t<tr><td> Yeti Outdoor</td><td>2017         </td><td>13250        </td><td>Automatic    </td><td>47005        </td><td>Diesel       </td><td>145          </td><td>51.4         </td><td>2            </td><td>3            </td></tr>\n",
       "</tbody>\n",
       "</table>\n"
      ],
      "text/latex": [
       "\\begin{tabular}{r|llllllllll}\n",
       " model & year & price & transmission & mileage & fuelType & tax & mpg & engineSize & age\\\\\n",
       "\\hline\n",
       "\t  Octavia      & 2017          & 10550         & Manual        & 25250         & Petrol        & 150           & 54.3          & 1.4           & 3            \\\\\n",
       "\t  Citigo       & 2018          &  8200         & Manual        &  1264         & Petrol        & 145           & 67.3          & 1             & 2            \\\\\n",
       "\t  Octavia      & 2019          & 15650         & Automatic     &  6825         & Diesel        & 145           & 67.3          & 2             & 1            \\\\\n",
       "\t  Yeti Outdoor & 2015          & 14000         & Automatic     & 28431         & Diesel        & 165           & 51.4          & 2             & 5            \\\\\n",
       "\t  Superb       & 2019          & 18350         & Manual        & 10912         & Petrol        & 150           & 40.9          & 1.5           & 1            \\\\\n",
       "\t  Yeti Outdoor & 2017          & 13250         & Automatic     & 47005         & Diesel        & 145           & 51.4          & 2             & 3            \\\\\n",
       "\\end{tabular}\n"
      ],
      "text/markdown": [
       "\n",
       "| model | year | price | transmission | mileage | fuelType | tax | mpg | engineSize | age |\n",
       "|---|---|---|---|---|---|---|---|---|---|\n",
       "|  Octavia      | 2017          | 10550         | Manual        | 25250         | Petrol        | 150           | 54.3          | 1.4           | 3             |\n",
       "|  Citigo       | 2018          |  8200         | Manual        |  1264         | Petrol        | 145           | 67.3          | 1             | 2             |\n",
       "|  Octavia      | 2019          | 15650         | Automatic     |  6825         | Diesel        | 145           | 67.3          | 2             | 1             |\n",
       "|  Yeti Outdoor | 2015          | 14000         | Automatic     | 28431         | Diesel        | 165           | 51.4          | 2             | 5             |\n",
       "|  Superb       | 2019          | 18350         | Manual        | 10912         | Petrol        | 150           | 40.9          | 1.5           | 1             |\n",
       "|  Yeti Outdoor | 2017          | 13250         | Automatic     | 47005         | Diesel        | 145           | 51.4          | 2             | 3             |\n",
       "\n"
      ],
      "text/plain": [
       "  model         year price transmission mileage fuelType tax mpg  engineSize\n",
       "1  Octavia      2017 10550 Manual       25250   Petrol   150 54.3 1.4       \n",
       "2  Citigo       2018  8200 Manual        1264   Petrol   145 67.3 1         \n",
       "3  Octavia      2019 15650 Automatic     6825   Diesel   145 67.3 2         \n",
       "4  Yeti Outdoor 2015 14000 Automatic    28431   Diesel   165 51.4 2         \n",
       "5  Superb       2019 18350 Manual       10912   Petrol   150 40.9 1.5       \n",
       "6  Yeti Outdoor 2017 13250 Automatic    47005   Diesel   145 51.4 2         \n",
       "  age\n",
       "1 3  \n",
       "2 2  \n",
       "3 1  \n",
       "4 5  \n",
       "5 1  \n",
       "6 3  "
      ]
     },
     "metadata": {},
     "output_type": "display_data"
    }
   ],
   "source": [
    "table(data3$year)\n",
    "data3$age <- 2020 - data3$year\n",
    "head(data3)"
   ]
  },
  {
   "cell_type": "markdown",
   "id": "502e028c-f9cf-4247-a183-3b5c625df3b0",
   "metadata": {},
   "source": [
    "#### Categorical variables"
   ]
  },
  {
   "cell_type": "code",
   "execution_count": 30,
   "id": "7935632f-7669-4c58-b307-c991a2e9ef1d",
   "metadata": {},
   "outputs": [
    {
     "data": {
      "text/plain": [
       "\n",
       "       Citigo         Fabia         Kamiq         Karoq        Kodiaq \n",
       "          470          1569           141           389           472 \n",
       "      Octavia         Rapid      Roomster         Scala        Superb \n",
       "         1474           152            17           192           791 \n",
       "         Yeti  Yeti Outdoor \n",
       "          136           458 "
      ]
     },
     "metadata": {},
     "output_type": "display_data"
    }
   ],
   "source": [
    "#qplot(data3$model, ylab = 'Count', xlab = 'Model')\n",
    "table(data3$model)"
   ]
  },
  {
   "cell_type": "code",
   "execution_count": 32,
   "id": "e3d65e36-d682-4979-872d-6ef0f6d57216",
   "metadata": {},
   "outputs": [
    {
     "data": {
      "text/plain": [
       "\n",
       "Automatic    Manual     Other Semi-Auto \n",
       "     1100      3752         1      1408 "
      ]
     },
     "metadata": {},
     "output_type": "display_data"
    }
   ],
   "source": [
    "table(data3$transmission)\n",
    "#barplot(table(data3$transmission))"
   ]
  },
  {
   "cell_type": "code",
   "execution_count": 34,
   "id": "dba82434-5f12-4e35-9389-bde928b7886f",
   "metadata": {},
   "outputs": [
    {
     "data": {
      "text/plain": [
       "\n",
       "Diesel Hybrid  Other Petrol \n",
       "  2067     18      9   4167 "
      ]
     },
     "metadata": {},
     "output_type": "display_data"
    }
   ],
   "source": [
    "table(data3$fuelType)\n",
    "#barplot(table(data3$fuelType))"
   ]
  },
  {
   "cell_type": "code",
   "execution_count": 36,
   "id": "3e6bde81-374d-4e68-b952-da4e00dcad94",
   "metadata": {},
   "outputs": [
    {
     "data": {
      "text/plain": [
       "\n",
       "   0    1  1.2  1.4  1.5  1.6  1.8  1.9    2  2.5 \n",
       "   0 1939  958  420  625  672    4    7 1635    1 "
      ]
     },
     "metadata": {},
     "output_type": "display_data"
    }
   ],
   "source": [
    "table(data3$engineSize)\n",
    "#barplot(table(data3$engineSize))"
   ]
  },
  {
   "cell_type": "markdown",
   "id": "425fc230-7bd5-4605-8b54-dc0cdb003fff",
   "metadata": {},
   "source": [
    "Question: for which observation do we get 2.5?"
   ]
  },
  {
   "cell_type": "code",
   "execution_count": 39,
   "id": "5bb505e4-9ad7-402f-ad08-c3bcd515b72e",
   "metadata": {},
   "outputs": [
    {
     "data": {
      "text/html": [
       "<table>\n",
       "<thead><tr><th></th><th scope=col>model</th><th scope=col>year</th><th scope=col>price</th><th scope=col>transmission</th><th scope=col>mileage</th><th scope=col>fuelType</th><th scope=col>tax</th><th scope=col>mpg</th><th scope=col>engineSize</th><th scope=col>age</th></tr></thead>\n",
       "<tbody>\n",
       "\t<tr><th scope=row>5774</th><td> Superb  </td><td>2007     </td><td>3495     </td><td>Semi-Auto</td><td>47000    </td><td>Diesel   </td><td>325      </td><td>35.8     </td><td>2.5      </td><td>13       </td></tr>\n",
       "</tbody>\n",
       "</table>\n"
      ],
      "text/latex": [
       "\\begin{tabular}{r|llllllllll}\n",
       "  & model & year & price & transmission & mileage & fuelType & tax & mpg & engineSize & age\\\\\n",
       "\\hline\n",
       "\t5774 &  Superb   & 2007      & 3495      & Semi-Auto & 47000     & Diesel    & 325       & 35.8      & 2.5       & 13       \\\\\n",
       "\\end{tabular}\n"
      ],
      "text/markdown": [
       "\n",
       "| <!--/--> | model | year | price | transmission | mileage | fuelType | tax | mpg | engineSize | age |\n",
       "|---|---|---|---|---|---|---|---|---|---|---|\n",
       "| 5774 |  Superb   | 2007      | 3495      | Semi-Auto | 47000     | Diesel    | 325       | 35.8      | 2.5       | 13        |\n",
       "\n"
      ],
      "text/plain": [
       "     model   year price transmission mileage fuelType tax mpg  engineSize age\n",
       "5774  Superb 2007 3495  Semi-Auto    47000   Diesel   325 35.8 2.5        13 "
      ]
     },
     "metadata": {},
     "output_type": "display_data"
    }
   ],
   "source": [
    "data3[which(data3$engineSize==2.5),]"
   ]
  },
  {
   "cell_type": "markdown",
   "id": "70947b21-a3d3-486c-b2ff-daccf40fb682",
   "metadata": {},
   "source": [
    "#### Cleaned data"
   ]
  },
  {
   "cell_type": "code",
   "execution_count": 42,
   "id": "c6977a4f-4b08-447d-9c6a-791a4a1ca23a",
   "metadata": {},
   "outputs": [
    {
     "data": {
      "text/html": [
       "<table>\n",
       "<thead><tr><th scope=col>model</th><th scope=col>price</th><th scope=col>transmission</th><th scope=col>mileage</th><th scope=col>fuelType</th><th scope=col>tax</th><th scope=col>mpg</th><th scope=col>engineSize</th><th scope=col>age</th></tr></thead>\n",
       "<tbody>\n",
       "\t<tr><td> Octavia     </td><td>10550        </td><td>Manual       </td><td>25250        </td><td>Petrol       </td><td>150          </td><td>54.3         </td><td>1.4          </td><td>3            </td></tr>\n",
       "\t<tr><td> Citigo      </td><td> 8200        </td><td>Manual       </td><td> 1264        </td><td>Petrol       </td><td>145          </td><td>67.3         </td><td>1            </td><td>2            </td></tr>\n",
       "\t<tr><td> Octavia     </td><td>15650        </td><td>Automatic    </td><td> 6825        </td><td>Diesel       </td><td>145          </td><td>67.3         </td><td>2            </td><td>1            </td></tr>\n",
       "\t<tr><td> Yeti Outdoor</td><td>14000        </td><td>Automatic    </td><td>28431        </td><td>Diesel       </td><td>165          </td><td>51.4         </td><td>2            </td><td>5            </td></tr>\n",
       "\t<tr><td> Superb      </td><td>18350        </td><td>Manual       </td><td>10912        </td><td>Petrol       </td><td>150          </td><td>40.9         </td><td>1.5          </td><td>1            </td></tr>\n",
       "\t<tr><td> Yeti Outdoor</td><td>13250        </td><td>Automatic    </td><td>47005        </td><td>Diesel       </td><td>145          </td><td>51.4         </td><td>2            </td><td>3            </td></tr>\n",
       "</tbody>\n",
       "</table>\n"
      ],
      "text/latex": [
       "\\begin{tabular}{r|lllllllll}\n",
       " model & price & transmission & mileage & fuelType & tax & mpg & engineSize & age\\\\\n",
       "\\hline\n",
       "\t  Octavia      & 10550         & Manual        & 25250         & Petrol        & 150           & 54.3          & 1.4           & 3            \\\\\n",
       "\t  Citigo       &  8200         & Manual        &  1264         & Petrol        & 145           & 67.3          & 1             & 2            \\\\\n",
       "\t  Octavia      & 15650         & Automatic     &  6825         & Diesel        & 145           & 67.3          & 2             & 1            \\\\\n",
       "\t  Yeti Outdoor & 14000         & Automatic     & 28431         & Diesel        & 165           & 51.4          & 2             & 5            \\\\\n",
       "\t  Superb       & 18350         & Manual        & 10912         & Petrol        & 150           & 40.9          & 1.5           & 1            \\\\\n",
       "\t  Yeti Outdoor & 13250         & Automatic     & 47005         & Diesel        & 145           & 51.4          & 2             & 3            \\\\\n",
       "\\end{tabular}\n"
      ],
      "text/markdown": [
       "\n",
       "| model | price | transmission | mileage | fuelType | tax | mpg | engineSize | age |\n",
       "|---|---|---|---|---|---|---|---|---|\n",
       "|  Octavia      | 10550         | Manual        | 25250         | Petrol        | 150           | 54.3          | 1.4           | 3             |\n",
       "|  Citigo       |  8200         | Manual        |  1264         | Petrol        | 145           | 67.3          | 1             | 2             |\n",
       "|  Octavia      | 15650         | Automatic     |  6825         | Diesel        | 145           | 67.3          | 2             | 1             |\n",
       "|  Yeti Outdoor | 14000         | Automatic     | 28431         | Diesel        | 165           | 51.4          | 2             | 5             |\n",
       "|  Superb       | 18350         | Manual        | 10912         | Petrol        | 150           | 40.9          | 1.5           | 1             |\n",
       "|  Yeti Outdoor | 13250         | Automatic     | 47005         | Diesel        | 145           | 51.4          | 2             | 3             |\n",
       "\n"
      ],
      "text/plain": [
       "  model         price transmission mileage fuelType tax mpg  engineSize age\n",
       "1  Octavia      10550 Manual       25250   Petrol   150 54.3 1.4        3  \n",
       "2  Citigo        8200 Manual        1264   Petrol   145 67.3 1          2  \n",
       "3  Octavia      15650 Automatic     6825   Diesel   145 67.3 2          1  \n",
       "4  Yeti Outdoor 14000 Automatic    28431   Diesel   165 51.4 2          5  \n",
       "5  Superb       18350 Manual       10912   Petrol   150 40.9 1.5        1  \n",
       "6  Yeti Outdoor 13250 Automatic    47005   Diesel   145 51.4 2          3  "
      ]
     },
     "metadata": {},
     "output_type": "display_data"
    },
    {
     "data": {
      "text/plain": [
       "           model          price          transmission     mileage      \n",
       "  Fabia       :1569   Min.   :  995   Automatic:1100   Min.   :     5  \n",
       "  Octavia     :1474   1st Qu.: 9495   Manual   :3752   1st Qu.:  5810  \n",
       "  Superb      : 791   Median :12998   Other    :   1   Median : 14652  \n",
       "  Kodiaq      : 472   Mean   :14265   Semi-Auto:1408   Mean   : 20119  \n",
       "  Citigo      : 470   3rd Qu.:17990                    3rd Qu.: 28000  \n",
       "  Yeti Outdoor: 458   Max.   :39001                    Max.   :300000  \n",
       " (Other)      :1027                                                    \n",
       "   fuelType         tax             mpg           engineSize        age        \n",
       " Diesel:2067   Min.   :  0.0   Min.   : 30.10   1      :1939   Min.   : 0.000  \n",
       " Hybrid:  18   1st Qu.:125.0   1st Qu.: 50.40   2      :1635   1st Qu.: 1.000  \n",
       " Other :   9   Median :145.0   Median : 57.70   1.2    : 958   Median : 2.000  \n",
       " Petrol:4167   Mean   :117.4   Mean   : 56.59   1.6    : 672   Mean   : 2.497  \n",
       "               3rd Qu.:145.0   3rd Qu.: 62.80   1.5    : 625   3rd Qu.: 3.000  \n",
       "               Max.   :325.0   Max.   :201.80   1.4    : 420   Max.   :16.000  \n",
       "                                                (Other):  12                   "
      ]
     },
     "metadata": {},
     "output_type": "display_data"
    },
    {
     "data": {
      "text/html": [
       "<ol class=list-inline>\n",
       "\t<li>'model'</li>\n",
       "\t<li>'price'</li>\n",
       "\t<li>'transmission'</li>\n",
       "\t<li>'mileage'</li>\n",
       "\t<li>'fuelType'</li>\n",
       "\t<li>'tax'</li>\n",
       "\t<li>'mpg'</li>\n",
       "\t<li>'engineSize'</li>\n",
       "\t<li>'age'</li>\n",
       "</ol>\n"
      ],
      "text/latex": [
       "\\begin{enumerate*}\n",
       "\\item 'model'\n",
       "\\item 'price'\n",
       "\\item 'transmission'\n",
       "\\item 'mileage'\n",
       "\\item 'fuelType'\n",
       "\\item 'tax'\n",
       "\\item 'mpg'\n",
       "\\item 'engineSize'\n",
       "\\item 'age'\n",
       "\\end{enumerate*}\n"
      ],
      "text/markdown": [
       "1. 'model'\n",
       "2. 'price'\n",
       "3. 'transmission'\n",
       "4. 'mileage'\n",
       "5. 'fuelType'\n",
       "6. 'tax'\n",
       "7. 'mpg'\n",
       "8. 'engineSize'\n",
       "9. 'age'\n",
       "\n",
       "\n"
      ],
      "text/plain": [
       "[1] \"model\"        \"price\"        \"transmission\" \"mileage\"      \"fuelType\"    \n",
       "[6] \"tax\"          \"mpg\"          \"engineSize\"   \"age\"         "
      ]
     },
     "metadata": {},
     "output_type": "display_data"
    }
   ],
   "source": [
    "data_clean <- data3[,-2]\n",
    "head(data_clean)\n",
    "summary(data_clean)\n",
    "names(data_clean)"
   ]
  },
  {
   "cell_type": "markdown",
   "id": "d9e49c13-73e5-4aa7-a0d4-6e807a57d884",
   "metadata": {},
   "source": [
    "### 2. Correlation plots, dependency plots"
   ]
  },
  {
   "cell_type": "code",
   "execution_count": 45,
   "id": "bb37864f-04bc-4a17-b64a-fb4e81c5d135",
   "metadata": {},
   "outputs": [
    {
     "name": "stderr",
     "output_type": "stream",
     "text": [
      "`stat_bin()` using `bins = 30`. Pick better value with `binwidth`.\n"
     ]
    },
    {
     "data": {
      "image/png": "[encoded data removed]",
      "text/plain": [
       "plot without title"
      ]
     },
     "metadata": {},
     "output_type": "display_data"
    }
   ],
   "source": [
    "qplot(data_clean$price, xlab = 'Price', ylab = 'Count', main='Frequency Histogram: Price')"
   ]
  },
  {
   "cell_type": "code",
   "execution_count": 47,
   "id": "41ac7481-e6a4-47d9-a6a1-ee871c9e8090",
   "metadata": {},
   "outputs": [
    {
     "ename": "ERROR",
     "evalue": "Error in library(\"corrplot\"): there is no package called 'corrplot'\n",
     "output_type": "error",
     "traceback": [
      "Error in library(\"corrplot\"): there is no package called 'corrplot'\nTraceback:\n",
      "1. library(\"corrplot\")"
     ]
    }
   ],
   "source": [
    "library('corrplot')\n",
    "cor_mat <- cor(data_clean[,-c(1,3,5,8)])\n",
    "\n",
    "corrplot(cor_mat, method = 'color')\n",
    "#corrplot(cor_mat, method = 'number')"
   ]
  },
  {
   "cell_type": "markdown",
   "id": "18198f53-666e-4344-adc1-b7ea60438d24",
   "metadata": {},
   "source": [
    "#### Dependency and lack-of-dependency plots – quantitative variables"
   ]
  },
  {
   "cell_type": "code",
   "execution_count": 50,
   "id": "0066eadb-50ad-47ba-aef1-4e6472da7d2b",
   "metadata": {},
   "outputs": [
    {
     "data": {
      "image/png": "[encoded data removed]",
      "text/plain": [
       "plot without title"
      ]
     },
     "metadata": {},
     "output_type": "display_data"
    }
   ],
   "source": [
    "ggplot(data = data_clean, aes(x = age, y = price)) +\n",
    "  geom_point() +\n",
    "  xlab('Age') +\n",
    "  ylab('Price') +\n",
    "  ggtitle('Age vs. Price')"
   ]
  },
  {
   "cell_type": "code",
   "execution_count": 52,
   "id": "379c4aa0-a2f2-4f54-88b5-cf99a473a829",
   "metadata": {},
   "outputs": [
    {
     "data": {
      "image/png": "[encoded data removed]",
      "text/plain": [
       "plot without title"
      ]
     },
     "metadata": {},
     "output_type": "display_data"
    }
   ],
   "source": [
    "ggplot(data = data_clean, aes(x = mileage, y = price)) +\n",
    "  geom_point() +\n",
    "  xlab('Mileage') +\n",
    "  ylab('Price') +\n",
    "  ggtitle('Mileage vs. Price')"
   ]
  },
  {
   "cell_type": "code",
   "execution_count": 53,
   "id": "632c73de-5b4c-4a71-a1c6-46f433870c10",
   "metadata": {},
   "outputs": [
    {
     "data": {
      "image/png": "[encoded data removed]",
      "text/plain": [
       "plot without title"
      ]
     },
     "metadata": {},
     "output_type": "display_data"
    }
   ],
   "source": [
    "ggplot(data = data_clean, aes(x = mpg, y = price)) +\n",
    "  geom_point() +\n",
    "  xlab('MPG') +\n",
    "  ylab('Price') +\n",
    "  ggtitle('MPG vs. Price')"
   ]
  },
  {
   "cell_type": "markdown",
   "id": "5208f8f6-3409-44a3-b9dd-d8709e2e4a2f",
   "metadata": {},
   "source": [
    "Question: those outlier values on the top right side?"
   ]
  },
  {
   "cell_type": "code",
   "execution_count": 56,
   "id": "ee0be192-7fa7-49c5-b581-063fb62453ef",
   "metadata": {},
   "outputs": [
    {
     "data": {
      "text/html": [
       "<table>\n",
       "<thead><tr><th></th><th scope=col>model</th><th scope=col>year</th><th scope=col>price</th><th scope=col>transmission</th><th scope=col>mileage</th><th scope=col>fuelType</th><th scope=col>tax</th><th scope=col>mpg</th><th scope=col>engineSize</th><th scope=col>age</th></tr></thead>\n",
       "<tbody>\n",
       "\t<tr><th scope=row>427</th><td> Superb  </td><td>2020     </td><td>34232    </td><td>Semi-Auto</td><td>   15    </td><td>Hybrid   </td><td>140      </td><td>201.8    </td><td>1.4      </td><td>0        </td></tr>\n",
       "\t<tr><th scope=row>3970</th><td> Superb  </td><td>2020     </td><td>28332    </td><td>Semi-Auto</td><td> 5000    </td><td>Hybrid   </td><td>135      </td><td>201.8    </td><td>1.4      </td><td>0        </td></tr>\n",
       "\t<tr><th scope=row>4214</th><td> Superb  </td><td>2020     </td><td>29995    </td><td>Semi-Auto</td><td>   15    </td><td>Hybrid   </td><td>140      </td><td>201.8    </td><td>1.4      </td><td>0        </td></tr>\n",
       "\t<tr><th scope=row>5060</th><td> Superb  </td><td>2020     </td><td>29799    </td><td>Automatic</td><td>  897    </td><td>Hybrid   </td><td>135      </td><td>201.8    </td><td>1.4      </td><td>0        </td></tr>\n",
       "\t<tr><th scope=row>6106</th><td> Superb  </td><td>2020     </td><td>26795    </td><td>Automatic</td><td> 3600    </td><td>Hybrid   </td><td>135      </td><td>201.8    </td><td>1.4      </td><td>0        </td></tr>\n",
       "\t<tr><th scope=row>281</th><td> Superb  </td><td>2020     </td><td>28084    </td><td>Semi-Auto</td><td> 9500    </td><td>Hybrid   </td><td>135      </td><td>188.3    </td><td>1.4      </td><td>0        </td></tr>\n",
       "\t<tr><th scope=row>411</th><td> Superb  </td><td>2020     </td><td>28785    </td><td>Semi-Auto</td><td> 1548    </td><td>Hybrid   </td><td>135      </td><td>188.3    </td><td>1.4      </td><td>0        </td></tr>\n",
       "\t<tr><th scope=row>1661</th><td> Superb  </td><td>2020     </td><td>29991    </td><td>Semi-Auto</td><td> 3565    </td><td>Hybrid   </td><td>135      </td><td>188.3    </td><td>1.4      </td><td>0        </td></tr>\n",
       "\t<tr><th scope=row>1887</th><td> Superb  </td><td>2020     </td><td>31795    </td><td>Semi-Auto</td><td> 2000    </td><td>Hybrid   </td><td>135      </td><td>188.3    </td><td>1.4      </td><td>0        </td></tr>\n",
       "\t<tr><th scope=row>1917</th><td> Superb  </td><td>2020     </td><td>27995    </td><td>Semi-Auto</td><td> 4500    </td><td>Hybrid   </td><td>140      </td><td>188.3    </td><td>1.4      </td><td>0        </td></tr>\n",
       "\t<tr><th scope=row>2340</th><td> Superb  </td><td>2020     </td><td>28999    </td><td>Semi-Auto</td><td>12000    </td><td>Hybrid   </td><td>135      </td><td>188.3    </td><td>1.4      </td><td>0        </td></tr>\n",
       "\t<tr><th scope=row>3353</th><td> Superb  </td><td>2020     </td><td>33990    </td><td>Semi-Auto</td><td> 3500    </td><td>Hybrid   </td><td>135      </td><td>188.3    </td><td>1.4      </td><td>0        </td></tr>\n",
       "\t<tr><th scope=row>4213</th><td> Superb  </td><td>2020     </td><td>33795    </td><td>Semi-Auto</td><td> 1000    </td><td>Hybrid   </td><td>140      </td><td>188.3    </td><td>1.4      </td><td>0        </td></tr>\n",
       "\t<tr><th scope=row>4262</th><td> Superb  </td><td>2020     </td><td>31495    </td><td>Semi-Auto</td><td>   15    </td><td>Hybrid   </td><td>135      </td><td>188.3    </td><td>1.4      </td><td>0        </td></tr>\n",
       "\t<tr><th scope=row>4347</th><td> Superb  </td><td>2020     </td><td>36000    </td><td>Semi-Auto</td><td> 6968    </td><td>Hybrid   </td><td>135      </td><td>188.3    </td><td>1.4      </td><td>0        </td></tr>\n",
       "\t<tr><th scope=row>4358</th><td> Superb  </td><td>2020     </td><td>32000    </td><td>Semi-Auto</td><td>  575    </td><td>Hybrid   </td><td>135      </td><td>188.3    </td><td>1.4      </td><td>0        </td></tr>\n",
       "\t<tr><th scope=row>2794</th><td> Superb  </td><td>2020     </td><td>33995    </td><td>Semi-Auto</td><td> 6063    </td><td>Hybrid   </td><td>135      </td><td>176.6    </td><td>1.4      </td><td>0        </td></tr>\n",
       "\t<tr><th scope=row>3980</th><td> Superb  </td><td>2020     </td><td>35990    </td><td>Semi-Auto</td><td> 5000    </td><td>Hybrid   </td><td>135      </td><td>176.6    </td><td>1.4      </td><td>0        </td></tr>\n",
       "\t<tr><th scope=row>362</th><td> Fabia   </td><td>2015     </td><td> 7400    </td><td>Manual   </td><td>32624    </td><td>Diesel   </td><td>  0      </td><td> 83.1    </td><td>1.4      </td><td>5        </td></tr>\n",
       "\t<tr><th scope=row>643</th><td> Fabia   </td><td>2014     </td><td> 5495    </td><td>Manual   </td><td>26561    </td><td>Diesel   </td><td>  0      </td><td> 83.1    </td><td>1.2      </td><td>6        </td></tr>\n",
       "\t<tr><th scope=row>2999</th><td> Fabia   </td><td>2015     </td><td> 6340    </td><td>Manual   </td><td>49175    </td><td>Diesel   </td><td>  0      </td><td> 83.1    </td><td>1.4      </td><td>5        </td></tr>\n",
       "\t<tr><th scope=row>3184</th><td> Fabia   </td><td>2015     </td><td> 6800    </td><td>Manual   </td><td>26300    </td><td>Diesel   </td><td>  0      </td><td> 83.1    </td><td>1.4      </td><td>5        </td></tr>\n",
       "\t<tr><th scope=row>3709</th><td> Fabia   </td><td>2015     </td><td> 6580    </td><td>Manual   </td><td>65902    </td><td>Diesel   </td><td>  0      </td><td> 83.1    </td><td>1.4      </td><td>5        </td></tr>\n",
       "\t<tr><th scope=row>5678</th><td> Fabia   </td><td>2015     </td><td> 6359    </td><td>Manual   </td><td>56162    </td><td>Diesel   </td><td>  0      </td><td> 83.1    </td><td>1.4      </td><td>5        </td></tr>\n",
       "</tbody>\n",
       "</table>\n"
      ],
      "text/latex": [
       "\\begin{tabular}{r|llllllllll}\n",
       "  & model & year & price & transmission & mileage & fuelType & tax & mpg & engineSize & age\\\\\n",
       "\\hline\n",
       "\t427 &  Superb   & 2020      & 34232     & Semi-Auto &    15     & Hybrid    & 140       & 201.8     & 1.4       & 0        \\\\\n",
       "\t3970 &  Superb   & 2020      & 28332     & Semi-Auto &  5000     & Hybrid    & 135       & 201.8     & 1.4       & 0        \\\\\n",
       "\t4214 &  Superb   & 2020      & 29995     & Semi-Auto &    15     & Hybrid    & 140       & 201.8     & 1.4       & 0        \\\\\n",
       "\t5060 &  Superb   & 2020      & 29799     & Automatic &   897     & Hybrid    & 135       & 201.8     & 1.4       & 0        \\\\\n",
       "\t6106 &  Superb   & 2020      & 26795     & Automatic &  3600     & Hybrid    & 135       & 201.8     & 1.4       & 0        \\\\\n",
       "\t281 &  Superb   & 2020      & 28084     & Semi-Auto &  9500     & Hybrid    & 135       & 188.3     & 1.4       & 0        \\\\\n",
       "\t411 &  Superb   & 2020      & 28785     & Semi-Auto &  1548     & Hybrid    & 135       & 188.3     & 1.4       & 0        \\\\\n",
       "\t1661 &  Superb   & 2020      & 29991     & Semi-Auto &  3565     & Hybrid    & 135       & 188.3     & 1.4       & 0        \\\\\n",
       "\t1887 &  Superb   & 2020      & 31795     & Semi-Auto &  2000     & Hybrid    & 135       & 188.3     & 1.4       & 0        \\\\\n",
       "\t1917 &  Superb   & 2020      & 27995     & Semi-Auto &  4500     & Hybrid    & 140       & 188.3     & 1.4       & 0        \\\\\n",
       "\t2340 &  Superb   & 2020      & 28999     & Semi-Auto & 12000     & Hybrid    & 135       & 188.3     & 1.4       & 0        \\\\\n",
       "\t3353 &  Superb   & 2020      & 33990     & Semi-Auto &  3500     & Hybrid    & 135       & 188.3     & 1.4       & 0        \\\\\n",
       "\t4213 &  Superb   & 2020      & 33795     & Semi-Auto &  1000     & Hybrid    & 140       & 188.3     & 1.4       & 0        \\\\\n",
       "\t4262 &  Superb   & 2020      & 31495     & Semi-Auto &    15     & Hybrid    & 135       & 188.3     & 1.4       & 0        \\\\\n",
       "\t4347 &  Superb   & 2020      & 36000     & Semi-Auto &  6968     & Hybrid    & 135       & 188.3     & 1.4       & 0        \\\\\n",
       "\t4358 &  Superb   & 2020      & 32000     & Semi-Auto &   575     & Hybrid    & 135       & 188.3     & 1.4       & 0        \\\\\n",
       "\t2794 &  Superb   & 2020      & 33995     & Semi-Auto &  6063     & Hybrid    & 135       & 176.6     & 1.4       & 0        \\\\\n",
       "\t3980 &  Superb   & 2020      & 35990     & Semi-Auto &  5000     & Hybrid    & 135       & 176.6     & 1.4       & 0        \\\\\n",
       "\t362 &  Fabia    & 2015      &  7400     & Manual    & 32624     & Diesel    &   0       &  83.1     & 1.4       & 5        \\\\\n",
       "\t643 &  Fabia    & 2014      &  5495     & Manual    & 26561     & Diesel    &   0       &  83.1     & 1.2       & 6        \\\\\n",
       "\t2999 &  Fabia    & 2015      &  6340     & Manual    & 49175     & Diesel    &   0       &  83.1     & 1.4       & 5        \\\\\n",
       "\t3184 &  Fabia    & 2015      &  6800     & Manual    & 26300     & Diesel    &   0       &  83.1     & 1.4       & 5        \\\\\n",
       "\t3709 &  Fabia    & 2015      &  6580     & Manual    & 65902     & Diesel    &   0       &  83.1     & 1.4       & 5        \\\\\n",
       "\t5678 &  Fabia    & 2015      &  6359     & Manual    & 56162     & Diesel    &   0       &  83.1     & 1.4       & 5        \\\\\n",
       "\\end{tabular}\n"
      ],
      "text/markdown": [
       "\n",
       "| <!--/--> | model | year | price | transmission | mileage | fuelType | tax | mpg | engineSize | age |\n",
       "|---|---|---|---|---|---|---|---|---|---|---|\n",
       "| 427 |  Superb   | 2020      | 34232     | Semi-Auto |    15     | Hybrid    | 140       | 201.8     | 1.4       | 0         |\n",
       "| 3970 |  Superb   | 2020      | 28332     | Semi-Auto |  5000     | Hybrid    | 135       | 201.8     | 1.4       | 0         |\n",
       "| 4214 |  Superb   | 2020      | 29995     | Semi-Auto |    15     | Hybrid    | 140       | 201.8     | 1.4       | 0         |\n",
       "| 5060 |  Superb   | 2020      | 29799     | Automatic |   897     | Hybrid    | 135       | 201.8     | 1.4       | 0         |\n",
       "| 6106 |  Superb   | 2020      | 26795     | Automatic |  3600     | Hybrid    | 135       | 201.8     | 1.4       | 0         |\n",
       "| 281 |  Superb   | 2020      | 28084     | Semi-Auto |  9500     | Hybrid    | 135       | 188.3     | 1.4       | 0         |\n",
       "| 411 |  Superb   | 2020      | 28785     | Semi-Auto |  1548     | Hybrid    | 135       | 188.3     | 1.4       | 0         |\n",
       "| 1661 |  Superb   | 2020      | 29991     | Semi-Auto |  3565     | Hybrid    | 135       | 188.3     | 1.4       | 0         |\n",
       "| 1887 |  Superb   | 2020      | 31795     | Semi-Auto |  2000     | Hybrid    | 135       | 188.3     | 1.4       | 0         |\n",
       "| 1917 |  Superb   | 2020      | 27995     | Semi-Auto |  4500     | Hybrid    | 140       | 188.3     | 1.4       | 0         |\n",
       "| 2340 |  Superb   | 2020      | 28999     | Semi-Auto | 12000     | Hybrid    | 135       | 188.3     | 1.4       | 0         |\n",
       "| 3353 |  Superb   | 2020      | 33990     | Semi-Auto |  3500     | Hybrid    | 135       | 188.3     | 1.4       | 0         |\n",
       "| 4213 |  Superb   | 2020      | 33795     | Semi-Auto |  1000     | Hybrid    | 140       | 188.3     | 1.4       | 0         |\n",
       "| 4262 |  Superb   | 2020      | 31495     | Semi-Auto |    15     | Hybrid    | 135       | 188.3     | 1.4       | 0         |\n",
       "| 4347 |  Superb   | 2020      | 36000     | Semi-Auto |  6968     | Hybrid    | 135       | 188.3     | 1.4       | 0         |\n",
       "| 4358 |  Superb   | 2020      | 32000     | Semi-Auto |   575     | Hybrid    | 135       | 188.3     | 1.4       | 0         |\n",
       "| 2794 |  Superb   | 2020      | 33995     | Semi-Auto |  6063     | Hybrid    | 135       | 176.6     | 1.4       | 0         |\n",
       "| 3980 |  Superb   | 2020      | 35990     | Semi-Auto |  5000     | Hybrid    | 135       | 176.6     | 1.4       | 0         |\n",
       "| 362 |  Fabia    | 2015      |  7400     | Manual    | 32624     | Diesel    |   0       |  83.1     | 1.4       | 5         |\n",
       "| 643 |  Fabia    | 2014      |  5495     | Manual    | 26561     | Diesel    |   0       |  83.1     | 1.2       | 6         |\n",
       "| 2999 |  Fabia    | 2015      |  6340     | Manual    | 49175     | Diesel    |   0       |  83.1     | 1.4       | 5         |\n",
       "| 3184 |  Fabia    | 2015      |  6800     | Manual    | 26300     | Diesel    |   0       |  83.1     | 1.4       | 5         |\n",
       "| 3709 |  Fabia    | 2015      |  6580     | Manual    | 65902     | Diesel    |   0       |  83.1     | 1.4       | 5         |\n",
       "| 5678 |  Fabia    | 2015      |  6359     | Manual    | 56162     | Diesel    |   0       |  83.1     | 1.4       | 5         |\n",
       "\n"
      ],
      "text/plain": [
       "     model   year price transmission mileage fuelType tax mpg   engineSize age\n",
       "427   Superb 2020 34232 Semi-Auto       15   Hybrid   140 201.8 1.4        0  \n",
       "3970  Superb 2020 28332 Semi-Auto     5000   Hybrid   135 201.8 1.4        0  \n",
       "4214  Superb 2020 29995 Semi-Auto       15   Hybrid   140 201.8 1.4        0  \n",
       "5060  Superb 2020 29799 Automatic      897   Hybrid   135 201.8 1.4        0  \n",
       "6106  Superb 2020 26795 Automatic     3600   Hybrid   135 201.8 1.4        0  \n",
       "281   Superb 2020 28084 Semi-Auto     9500   Hybrid   135 188.3 1.4        0  \n",
       "411   Superb 2020 28785 Semi-Auto     1548   Hybrid   135 188.3 1.4        0  \n",
       "1661  Superb 2020 29991 Semi-Auto     3565   Hybrid   135 188.3 1.4        0  \n",
       "1887  Superb 2020 31795 Semi-Auto     2000   Hybrid   135 188.3 1.4        0  \n",
       "1917  Superb 2020 27995 Semi-Auto     4500   Hybrid   140 188.3 1.4        0  \n",
       "2340  Superb 2020 28999 Semi-Auto    12000   Hybrid   135 188.3 1.4        0  \n",
       "3353  Superb 2020 33990 Semi-Auto     3500   Hybrid   135 188.3 1.4        0  \n",
       "4213  Superb 2020 33795 Semi-Auto     1000   Hybrid   140 188.3 1.4        0  \n",
       "4262  Superb 2020 31495 Semi-Auto       15   Hybrid   135 188.3 1.4        0  \n",
       "4347  Superb 2020 36000 Semi-Auto     6968   Hybrid   135 188.3 1.4        0  \n",
       "4358  Superb 2020 32000 Semi-Auto      575   Hybrid   135 188.3 1.4        0  \n",
       "2794  Superb 2020 33995 Semi-Auto     6063   Hybrid   135 176.6 1.4        0  \n",
       "3980  Superb 2020 35990 Semi-Auto     5000   Hybrid   135 176.6 1.4        0  \n",
       "362   Fabia  2015  7400 Manual       32624   Diesel     0  83.1 1.4        5  \n",
       "643   Fabia  2014  5495 Manual       26561   Diesel     0  83.1 1.2        6  \n",
       "2999  Fabia  2015  6340 Manual       49175   Diesel     0  83.1 1.4        5  \n",
       "3184  Fabia  2015  6800 Manual       26300   Diesel     0  83.1 1.4        5  \n",
       "3709  Fabia  2015  6580 Manual       65902   Diesel     0  83.1 1.4        5  \n",
       "5678  Fabia  2015  6359 Manual       56162   Diesel     0  83.1 1.4        5  "
      ]
     },
     "metadata": {},
     "output_type": "display_data"
    }
   ],
   "source": [
    "data3[which(data3$mpg > 83), ][order(data3[which(data3$mpg > 83), ]$mpg, decreasing = TRUE), ]"
   ]
  },
  {
   "cell_type": "markdown",
   "id": "122df874-7ea2-4579-8938-6667126e2b8d",
   "metadata": {},
   "source": [
    "Comment: all outliers are the Superb model, they are hybrids."
   ]
  },
  {
   "cell_type": "code",
   "execution_count": 59,
   "id": "b910995a-61a3-4695-9877-5abb142fd231",
   "metadata": {},
   "outputs": [
    {
     "data": {
      "image/png": "[encoded data removed]",
      "text/plain": [
       "plot without title"
      ]
     },
     "metadata": {},
     "output_type": "display_data"
    }
   ],
   "source": [
    "ggplot(data = data_clean, aes(x = tax, y = price)) +\n",
    "  geom_point() +\n",
    "  xlab('Tax') +\n",
    "  ylab('Price') +\n",
    "  ggtitle('Tax vs. Price')"
   ]
  },
  {
   "cell_type": "markdown",
   "id": "a4c5a300-2f47-4620-86a8-617b951f79c7",
   "metadata": {},
   "source": [
    "#### Dependency and lack-of-dependency plots – categorical variables"
   ]
  },
  {
   "cell_type": "code",
   "execution_count": 61,
   "id": "0df807f7-2643-41cd-9941-1bbde22aaa63",
   "metadata": {},
   "outputs": [
    {
     "data": {
      "image/png": "[encoded data removed]",
      "text/plain": [
       "plot without title"
      ]
     },
     "metadata": {},
     "output_type": "display_data"
    }
   ],
   "source": [
    "ggplot(data = data_clean, aes(x = model, y = price)) +\n",
    "  geom_point() +\n",
    "  xlab('Model') +\n",
    "  ylab('Price') +\n",
    "  ggtitle('Model vs. Price')"
   ]
  },
  {
   "cell_type": "code",
   "execution_count": 62,
   "id": "d5adc827-6b4d-487d-9b25-0f280d91e64a",
   "metadata": {},
   "outputs": [
    {
     "data": {
      "image/png": "[encoded data removed]",
      "text/plain": [
       "plot without title"
      ]
     },
     "metadata": {},
     "output_type": "display_data"
    }
   ],
   "source": [
    "ggplot(data = data_clean, aes(x = transmission, y = price)) +\n",
    "  geom_point() +\n",
    "  xlab('Transmission') +\n",
    "  ylab('Price') +\n",
    "  ggtitle('Transmission vs. Price')"
   ]
  },
  {
   "cell_type": "code",
   "execution_count": 63,
   "id": "efb3082f-215b-4163-985f-e2b76e7ddc42",
   "metadata": {},
   "outputs": [
    {
     "data": {
      "image/png": "[encoded data removed]",
      "text/plain": [
       "plot without title"
      ]
     },
     "metadata": {},
     "output_type": "display_data"
    }
   ],
   "source": [
    "ggplot(data = data_clean, aes(x = fuelType, y = price)) +\n",
    "  geom_point() +\n",
    "  xlab('Fuel type') +\n",
    "  ylab('Price') +\n",
    "  ggtitle('Fuel type vs. Price')"
   ]
  },
  {
   "cell_type": "code",
   "execution_count": 64,
   "id": "a35da512-62e3-4c7a-bb2b-f6034b1a41bb",
   "metadata": {},
   "outputs": [
    {
     "data": {
      "image/png": "[encoded data removed]",
      "text/plain": [
       "plot without title"
      ]
     },
     "metadata": {},
     "output_type": "display_data"
    }
   ],
   "source": [
    "ggplot(data = data_clean, aes(x = engineSize, y = price)) +\n",
    "  geom_point() +\n",
    "  xlab('Engine size') +\n",
    "  ylab('Price') +\n",
    "  ggtitle('Engine size vs. Price')"
   ]
  },
  {
   "cell_type": "markdown",
   "id": "c9529abb-dc8d-4d2b-9753-3703dac9e26f",
   "metadata": {},
   "source": [
    "### 3. Preparing data for model building"
   ]
  },
  {
   "cell_type": "markdown",
   "id": "4d37ab4e-fdd3-478f-914f-8177dff878ba",
   "metadata": {},
   "source": [
    "#### Dummies – converting categorical variables to binary"
   ]
  },
  {
   "cell_type": "code",
   "execution_count": 68,
   "id": "f60009a2-2d07-456e-97f6-adc6c72f3da5",
   "metadata": {},
   "outputs": [],
   "source": [
    "# cleaning text data from white spaces (there was a problem with model)\n",
    "library(stringr)\n",
    "data_clean$model <- str_trim(data_clean$model)\n",
    "data_clean$transmission <- str_trim(data_clean$transmission)\n",
    "data_clean$fuelType <- str_trim(data_clean$fuelType)"
   ]
  },
  {
   "cell_type": "code",
   "execution_count": 70,
   "id": "f936754c-3f71-4134-86e8-6d48c9263da0",
   "metadata": {},
   "outputs": [
    {
     "data": {
      "text/html": [
       "<ol class=list-inline>\n",
       "\t<li>'model'</li>\n",
       "\t<li>'price'</li>\n",
       "\t<li>'transmission'</li>\n",
       "\t<li>'mileage'</li>\n",
       "\t<li>'fuelType'</li>\n",
       "\t<li>'tax'</li>\n",
       "\t<li>'mpg'</li>\n",
       "\t<li>'engineSize'</li>\n",
       "\t<li>'age'</li>\n",
       "</ol>\n"
      ],
      "text/latex": [
       "\\begin{enumerate*}\n",
       "\\item 'model'\n",
       "\\item 'price'\n",
       "\\item 'transmission'\n",
       "\\item 'mileage'\n",
       "\\item 'fuelType'\n",
       "\\item 'tax'\n",
       "\\item 'mpg'\n",
       "\\item 'engineSize'\n",
       "\\item 'age'\n",
       "\\end{enumerate*}\n"
      ],
      "text/markdown": [
       "1. 'model'\n",
       "2. 'price'\n",
       "3. 'transmission'\n",
       "4. 'mileage'\n",
       "5. 'fuelType'\n",
       "6. 'tax'\n",
       "7. 'mpg'\n",
       "8. 'engineSize'\n",
       "9. 'age'\n",
       "\n",
       "\n"
      ],
      "text/plain": [
       "[1] \"model\"        \"price\"        \"transmission\" \"mileage\"      \"fuelType\"    \n",
       "[6] \"tax\"          \"mpg\"          \"engineSize\"   \"age\"         "
      ]
     },
     "metadata": {},
     "output_type": "display_data"
    },
    {
     "data": {
      "text/html": [
       "<ol class=list-inline>\n",
       "\t<li>6261</li>\n",
       "\t<li>9</li>\n",
       "</ol>\n"
      ],
      "text/latex": [
       "\\begin{enumerate*}\n",
       "\\item 6261\n",
       "\\item 9\n",
       "\\end{enumerate*}\n"
      ],
      "text/markdown": [
       "1. 6261\n",
       "2. 9\n",
       "\n",
       "\n"
      ],
      "text/plain": [
       "[1] 6261    9"
      ]
     },
     "metadata": {},
     "output_type": "display_data"
    }
   ],
   "source": [
    "names(data_clean)\n",
    "\n",
    "# number of observations, number of columns\n",
    "dim(data_clean)"
   ]
  },
  {
   "cell_type": "markdown",
   "id": "230d4786-99e5-4ee0-b041-26e3f9461fde",
   "metadata": {},
   "source": [
    "Categorical variables are:\n",
    "- model\n",
    "- transmission\n",
    "- fuelType\n",
    "- engineSize"
   ]
  },
  {
   "cell_type": "code",
   "execution_count": 73,
   "id": "e1d19385-1f9e-42cd-862a-cfddb6b5ac18",
   "metadata": {},
   "outputs": [
    {
     "data": {
      "text/html": [
       "6261"
      ],
      "text/latex": [
       "6261"
      ],
      "text/markdown": [
       "6261"
      ],
      "text/plain": [
       "[1] 6261"
      ]
     },
     "metadata": {},
     "output_type": "display_data"
    },
    {
     "data": {
      "text/html": [
       "6261"
      ],
      "text/latex": [
       "6261"
      ],
      "text/markdown": [
       "6261"
      ],
      "text/plain": [
       "[1] 6261"
      ]
     },
     "metadata": {},
     "output_type": "display_data"
    },
    {
     "data": {
      "text/html": [
       "6261"
      ],
      "text/latex": [
       "6261"
      ],
      "text/markdown": [
       "6261"
      ],
      "text/plain": [
       "[1] 6261"
      ]
     },
     "metadata": {},
     "output_type": "display_data"
    },
    {
     "data": {
      "text/html": [
       "6261"
      ],
      "text/latex": [
       "6261"
      ],
      "text/markdown": [
       "6261"
      ],
      "text/plain": [
       "[1] 6261"
      ]
     },
     "metadata": {},
     "output_type": "display_data"
    },
    {
     "data": {
      "text/html": [
       "<ol class=list-inline>\n",
       "\t<li>'price'</li>\n",
       "\t<li>'mileage'</li>\n",
       "\t<li>'tax'</li>\n",
       "\t<li>'mpg'</li>\n",
       "\t<li>'age'</li>\n",
       "\t<li>'model_octavia'</li>\n",
       "\t<li>'model_citigo'</li>\n",
       "\t<li>'model_yeti_out'</li>\n",
       "\t<li>'model_superb'</li>\n",
       "\t<li>'model_kodiaq'</li>\n",
       "\t<li>'model_rapid'</li>\n",
       "\t<li>'model_karoq'</li>\n",
       "\t<li>'model_fabia'</li>\n",
       "\t<li>'model_yeti'</li>\n",
       "\t<li>'model_scala'</li>\n",
       "\t<li>'model_roomster'</li>\n",
       "\t<li>'model_kamiq'</li>\n",
       "\t<li>'transmission_manual'</li>\n",
       "\t<li>'transmission_automatic'</li>\n",
       "\t<li>'transmission_semiauto'</li>\n",
       "\t<li>'transmission_other'</li>\n",
       "\t<li>'fuelType_petrol'</li>\n",
       "\t<li>'fuelType_diesel'</li>\n",
       "\t<li>'fuelType_hybrid'</li>\n",
       "\t<li>'fuelType_other'</li>\n",
       "\t<li>'engineSize_2.0'</li>\n",
       "\t<li>'engineSize_1.2'</li>\n",
       "\t<li>'engineSize_1.6'</li>\n",
       "\t<li>'engineSize_1.0'</li>\n",
       "\t<li>'engineSize_1.5'</li>\n",
       "\t<li>'engineSize_1.4'</li>\n",
       "\t<li>'engineSize_1.9'</li>\n",
       "\t<li>'engineSize_1.8'</li>\n",
       "\t<li>'engineSize_2.5'</li>\n",
       "</ol>\n"
      ],
      "text/latex": [
       "\\begin{enumerate*}\n",
       "\\item 'price'\n",
       "\\item 'mileage'\n",
       "\\item 'tax'\n",
       "\\item 'mpg'\n",
       "\\item 'age'\n",
       "\\item 'model\\_octavia'\n",
       "\\item 'model\\_citigo'\n",
       "\\item 'model\\_yeti\\_out'\n",
       "\\item 'model\\_superb'\n",
       "\\item 'model\\_kodiaq'\n",
       "\\item 'model\\_rapid'\n",
       "\\item 'model\\_karoq'\n",
       "\\item 'model\\_fabia'\n",
       "\\item 'model\\_yeti'\n",
       "\\item 'model\\_scala'\n",
       "\\item 'model\\_roomster'\n",
       "\\item 'model\\_kamiq'\n",
       "\\item 'transmission\\_manual'\n",
       "\\item 'transmission\\_automatic'\n",
       "\\item 'transmission\\_semiauto'\n",
       "\\item 'transmission\\_other'\n",
       "\\item 'fuelType\\_petrol'\n",
       "\\item 'fuelType\\_diesel'\n",
       "\\item 'fuelType\\_hybrid'\n",
       "\\item 'fuelType\\_other'\n",
       "\\item 'engineSize\\_2.0'\n",
       "\\item 'engineSize\\_1.2'\n",
       "\\item 'engineSize\\_1.6'\n",
       "\\item 'engineSize\\_1.0'\n",
       "\\item 'engineSize\\_1.5'\n",
       "\\item 'engineSize\\_1.4'\n",
       "\\item 'engineSize\\_1.9'\n",
       "\\item 'engineSize\\_1.8'\n",
       "\\item 'engineSize\\_2.5'\n",
       "\\end{enumerate*}\n"
      ],
      "text/markdown": [
       "1. 'price'\n",
       "2. 'mileage'\n",
       "3. 'tax'\n",
       "4. 'mpg'\n",
       "5. 'age'\n",
       "6. 'model_octavia'\n",
       "7. 'model_citigo'\n",
       "8. 'model_yeti_out'\n",
       "9. 'model_superb'\n",
       "10. 'model_kodiaq'\n",
       "11. 'model_rapid'\n",
       "12. 'model_karoq'\n",
       "13. 'model_fabia'\n",
       "14. 'model_yeti'\n",
       "15. 'model_scala'\n",
       "16. 'model_roomster'\n",
       "17. 'model_kamiq'\n",
       "18. 'transmission_manual'\n",
       "19. 'transmission_automatic'\n",
       "20. 'transmission_semiauto'\n",
       "21. 'transmission_other'\n",
       "22. 'fuelType_petrol'\n",
       "23. 'fuelType_diesel'\n",
       "24. 'fuelType_hybrid'\n",
       "25. 'fuelType_other'\n",
       "26. 'engineSize_2.0'\n",
       "27. 'engineSize_1.2'\n",
       "28. 'engineSize_1.6'\n",
       "29. 'engineSize_1.0'\n",
       "30. 'engineSize_1.5'\n",
       "31. 'engineSize_1.4'\n",
       "32. 'engineSize_1.9'\n",
       "33. 'engineSize_1.8'\n",
       "34. 'engineSize_2.5'\n",
       "\n",
       "\n"
      ],
      "text/plain": [
       " [1] \"price\"                  \"mileage\"                \"tax\"                   \n",
       " [4] \"mpg\"                    \"age\"                    \"model_octavia\"         \n",
       " [7] \"model_citigo\"           \"model_yeti_out\"         \"model_superb\"          \n",
       "[10] \"model_kodiaq\"           \"model_rapid\"            \"model_karoq\"           \n",
       "[13] \"model_fabia\"            \"model_yeti\"             \"model_scala\"           \n",
       "[16] \"model_roomster\"         \"model_kamiq\"            \"transmission_manual\"   \n",
       "[19] \"transmission_automatic\" \"transmission_semiauto\"  \"transmission_other\"    \n",
       "[22] \"fuelType_petrol\"        \"fuelType_diesel\"        \"fuelType_hybrid\"       \n",
       "[25] \"fuelType_other\"         \"engineSize_2.0\"         \"engineSize_1.2\"        \n",
       "[28] \"engineSize_1.6\"         \"engineSize_1.0\"         \"engineSize_1.5\"        \n",
       "[31] \"engineSize_1.4\"         \"engineSize_1.9\"         \"engineSize_1.8\"        \n",
       "[34] \"engineSize_2.5\"        "
      ]
     },
     "metadata": {},
     "output_type": "display_data"
    }
   ],
   "source": [
    "#unique(data_clean$model)\n",
    "data_clean$model_octavia <- ifelse(data_clean$model == \"Octavia\", 1, 0)\n",
    "data_clean$model_citigo <- ifelse(data_clean$model == \"Citigo\", 1, 0)\n",
    "data_clean$model_yeti_out <- ifelse(data_clean$model == \"Yeti Outdoor\", 1, 0)\n",
    "data_clean$model_superb <- ifelse(data_clean$model == \"Superb\", 1, 0)\n",
    "data_clean$model_kodiaq <- ifelse(data_clean$model == \"Kodiaq\", 1, 0)\n",
    "data_clean$model_rapid <- ifelse(data_clean$model == \"Rapid\", 1, 0)\n",
    "data_clean$model_karoq <- ifelse(data_clean$model == \"Karoq\", 1, 0)\n",
    "data_clean$model_fabia <- ifelse(data_clean$model == \"Fabia\", 1, 0)\n",
    "data_clean$model_yeti <- ifelse(data_clean$model == \"Yeti\", 1, 0)\n",
    "data_clean$model_scala <- ifelse(data_clean$model == \"Scala\", 1, 0)\n",
    "data_clean$model_roomster <- ifelse(data_clean$model == \"Roomster\", 1, 0)\n",
    "data_clean$model_kamiq <- ifelse(data_clean$model == \"Kamiq\", 1, 0)\n",
    "\n",
    "test <- data_clean[,c(10:21)]\n",
    "sum(test) #equals the number of observations in data_clean, so it's correct\n",
    "\n",
    "#unique(data_clean$transmission)\n",
    "data_clean$transmission_manual <- ifelse(data_clean$transmission == \"Manual\", 1, 0)\n",
    "data_clean$transmission_automatic <- ifelse(data_clean$transmission == \"Automatic\", 1, 0)\n",
    "data_clean$transmission_semiauto <- ifelse(data_clean$transmission == \"Semi-Auto\", 1, 0)\n",
    "data_clean$transmission_other <- ifelse(data_clean$transmission == \"Other\", 1, 0)\n",
    "\n",
    "test <- data_clean[,c(22:25)]\n",
    "sum(test) #equals the number of observations in data_clean, so it's correct\n",
    "\n",
    "#unique(data_clean$fuelType)\n",
    "data_clean$fuelType_petrol <- ifelse(data_clean$fuelType == \"Petrol\", 1, 0)\n",
    "data_clean$fuelType_diesel <- ifelse(data_clean$fuelType == \"Diesel\", 1, 0)\n",
    "data_clean$fuelType_hybrid <- ifelse(data_clean$fuelType == \"Hybrid\", 1, 0)\n",
    "data_clean$fuelType_other <- ifelse(data_clean$fuelType == \"Other\", 1, 0)\n",
    "\n",
    "test <- data_clean[,c(26:29)]\n",
    "sum(test) #equals the number of observations in data_clean, so it's correct\n",
    "\n",
    "#unique(data_clean$engineSize)\n",
    "data_clean$engineSize_2.0 <- ifelse(data_clean$engineSize == 2.0, 1, 0)\n",
    "data_clean$engineSize_1.2 <- ifelse(data_clean$engineSize == 1.2, 1, 0)\n",
    "data_clean$engineSize_1.6 <- ifelse(data_clean$engineSize == 1.6, 1, 0)\n",
    "data_clean$engineSize_1.0 <- ifelse(data_clean$engineSize == 1.0, 1, 0)\n",
    "data_clean$engineSize_1.5 <- ifelse(data_clean$engineSize == 1.5, 1, 0)\n",
    "data_clean$engineSize_1.4 <- ifelse(data_clean$engineSize == 1.4, 1, 0)\n",
    "data_clean$engineSize_1.9 <- ifelse(data_clean$engineSize == 1.9, 1, 0)\n",
    "data_clean$engineSize_1.8 <- ifelse(data_clean$engineSize == 1.8, 1, 0)\n",
    "data_clean$engineSize_2.5 <- ifelse(data_clean$engineSize == 2.5, 1, 0)\n",
    "test <- data_clean[,c(30:38)]\n",
    "sum(test) #equals the number of observations in data_clean, so it's correct\n",
    "\n",
    "#removing unnecessary columns\n",
    "#names(data_clean)\n",
    "data_clean2 <- data_clean[,-c(1,3,5,8)]\n",
    "names(data_clean2)\n"
   ]
  },
  {
   "cell_type": "markdown",
   "id": "d2bd9255-395c-4258-a5ea-f30817441872",
   "metadata": {},
   "source": [
    "#### Training and test set\n"
   ]
  },
  {
   "cell_type": "code",
   "execution_count": 76,
   "id": "ecf948dc-4c7c-4fa0-86e9-a5951a2c6b77",
   "metadata": {},
   "outputs": [
    {
     "data": {
      "text/html": [
       "4695.75"
      ],
      "text/latex": [
       "4695.75"
      ],
      "text/markdown": [
       "4695.75"
      ],
      "text/plain": [
       "[1] 4695.75"
      ]
     },
     "metadata": {},
     "output_type": "display_data"
    }
   ],
   "source": [
    "set.seed(123) #Setting seed for reproducibility\n",
    "permuted_indices <- sample(nrow(data_clean2)) #Random permutation of indices\n",
    "data_clean2 <- data_clean2[permuted_indices,]\n",
    "length(data_clean2$price)*0.75"
   ]
  },
  {
   "cell_type": "code",
   "execution_count": 78,
   "id": "363fa366-68d8-436a-b482-9d2712718249",
   "metadata": {},
   "outputs": [],
   "source": [
    "# Creating training and test sets:\n",
    "train_indices <- 1:4696\n",
    "test_indices <- 4697:6261\n",
    "\n",
    "train <- data_clean2[train_indices,]\n",
    "test <- data_clean2[-train_indices,]"
   ]
  },
  {
   "cell_type": "code",
   "execution_count": 80,
   "id": "8558fb5e-5ce2-43af-a453-fa73ea01e816",
   "metadata": {},
   "outputs": [
    {
     "data": {
      "text/html": [
       "<table>\n",
       "<thead><tr><th></th><th scope=col>price</th><th scope=col>mileage</th><th scope=col>tax</th><th scope=col>mpg</th><th scope=col>age</th><th scope=col>model_octavia</th><th scope=col>model_citigo</th><th scope=col>model_yeti_out</th><th scope=col>model_superb</th><th scope=col>model_kodiaq</th><th scope=col>...</th><th scope=col>fuelType_other</th><th scope=col>engineSize_2.0</th><th scope=col>engineSize_1.2</th><th scope=col>engineSize_1.6</th><th scope=col>engineSize_1.0</th><th scope=col>engineSize_1.5</th><th scope=col>engineSize_1.4</th><th scope=col>engineSize_1.9</th><th scope=col>engineSize_1.8</th><th scope=col>engineSize_2.5</th></tr></thead>\n",
       "<tbody>\n",
       "\t<tr><th scope=row>2463</th><td>16590</td><td>28691</td><td>125  </td><td>58.9 </td><td>3    </td><td>1    </td><td>0    </td><td>0    </td><td>0    </td><td>0    </td><td>...  </td><td>0    </td><td>1    </td><td>0    </td><td>0    </td><td>0    </td><td>0    </td><td>0    </td><td>0    </td><td>0    </td><td>0    </td></tr>\n",
       "\t<tr><th scope=row>2511</th><td>10999</td><td>33700</td><td>125  </td><td>51.4 </td><td>3    </td><td>0    </td><td>0    </td><td>1    </td><td>0    </td><td>0    </td><td>...  </td><td>0    </td><td>0    </td><td>1    </td><td>0    </td><td>0    </td><td>0    </td><td>0    </td><td>0    </td><td>0    </td><td>0    </td></tr>\n",
       "\t<tr><th scope=row>2227</th><td> 7695</td><td>59465</td><td>  0  </td><td>67.3 </td><td>4    </td><td>0    </td><td>0    </td><td>0    </td><td>0    </td><td>0    </td><td>...  </td><td>0    </td><td>0    </td><td>0    </td><td>1    </td><td>0    </td><td>0    </td><td>0    </td><td>0    </td><td>0    </td><td>0    </td></tr>\n",
       "\t<tr><th scope=row>526</th><td> 9298</td><td>11572</td><td>145  </td><td>57.7 </td><td>2    </td><td>0    </td><td>0    </td><td>0    </td><td>0    </td><td>0    </td><td>...  </td><td>0    </td><td>0    </td><td>0    </td><td>0    </td><td>1    </td><td>0    </td><td>0    </td><td>0    </td><td>0    </td><td>0    </td></tr>\n",
       "\t<tr><th scope=row>4291</th><td>18990</td><td>  483</td><td>150  </td><td>44.1 </td><td>1    </td><td>1    </td><td>0    </td><td>0    </td><td>0    </td><td>0    </td><td>...  </td><td>0    </td><td>0    </td><td>0    </td><td>0    </td><td>0    </td><td>1    </td><td>0    </td><td>0    </td><td>0    </td><td>0    </td></tr>\n",
       "\t<tr><th scope=row>2986</th><td>15750</td><td>32539</td><td>125  </td><td>56.5 </td><td>4    </td><td>1    </td><td>0    </td><td>0    </td><td>0    </td><td>0    </td><td>...  </td><td>0    </td><td>1    </td><td>0    </td><td>0    </td><td>0    </td><td>0    </td><td>0    </td><td>0    </td><td>0    </td><td>0    </td></tr>\n",
       "</tbody>\n",
       "</table>\n"
      ],
      "text/latex": [
       "\\begin{tabular}{r|llllllllllllllllllllllllllllllllll}\n",
       "  & price & mileage & tax & mpg & age & model\\_octavia & model\\_citigo & model\\_yeti\\_out & model\\_superb & model\\_kodiaq & ... & fuelType\\_other & engineSize\\_2.0 & engineSize\\_1.2 & engineSize\\_1.6 & engineSize\\_1.0 & engineSize\\_1.5 & engineSize\\_1.4 & engineSize\\_1.9 & engineSize\\_1.8 & engineSize\\_2.5\\\\\n",
       "\\hline\n",
       "\t2463 & 16590 & 28691 & 125   & 58.9  & 3     & 1     & 0     & 0     & 0     & 0     & ...   & 0     & 1     & 0     & 0     & 0     & 0     & 0     & 0     & 0     & 0    \\\\\n",
       "\t2511 & 10999 & 33700 & 125   & 51.4  & 3     & 0     & 0     & 1     & 0     & 0     & ...   & 0     & 0     & 1     & 0     & 0     & 0     & 0     & 0     & 0     & 0    \\\\\n",
       "\t2227 &  7695 & 59465 &   0   & 67.3  & 4     & 0     & 0     & 0     & 0     & 0     & ...   & 0     & 0     & 0     & 1     & 0     & 0     & 0     & 0     & 0     & 0    \\\\\n",
       "\t526 &  9298 & 11572 & 145   & 57.7  & 2     & 0     & 0     & 0     & 0     & 0     & ...   & 0     & 0     & 0     & 0     & 1     & 0     & 0     & 0     & 0     & 0    \\\\\n",
       "\t4291 & 18990 &   483 & 150   & 44.1  & 1     & 1     & 0     & 0     & 0     & 0     & ...   & 0     & 0     & 0     & 0     & 0     & 1     & 0     & 0     & 0     & 0    \\\\\n",
       "\t2986 & 15750 & 32539 & 125   & 56.5  & 4     & 1     & 0     & 0     & 0     & 0     & ...   & 0     & 1     & 0     & 0     & 0     & 0     & 0     & 0     & 0     & 0    \\\\\n",
       "\\end{tabular}\n"
      ],
      "text/markdown": [
       "\n",
       "| <!--/--> | price | mileage | tax | mpg | age | model_octavia | model_citigo | model_yeti_out | model_superb | model_kodiaq | ... | fuelType_other | engineSize_2.0 | engineSize_1.2 | engineSize_1.6 | engineSize_1.0 | engineSize_1.5 | engineSize_1.4 | engineSize_1.9 | engineSize_1.8 | engineSize_2.5 |\n",
       "|---|---|---|---|---|---|---|---|---|---|---|---|---|---|---|---|---|---|---|---|---|---|\n",
       "| 2463 | 16590 | 28691 | 125   | 58.9  | 3     | 1     | 0     | 0     | 0     | 0     | ...   | 0     | 1     | 0     | 0     | 0     | 0     | 0     | 0     | 0     | 0     |\n",
       "| 2511 | 10999 | 33700 | 125   | 51.4  | 3     | 0     | 0     | 1     | 0     | 0     | ...   | 0     | 0     | 1     | 0     | 0     | 0     | 0     | 0     | 0     | 0     |\n",
       "| 2227 |  7695 | 59465 |   0   | 67.3  | 4     | 0     | 0     | 0     | 0     | 0     | ...   | 0     | 0     | 0     | 1     | 0     | 0     | 0     | 0     | 0     | 0     |\n",
       "| 526 |  9298 | 11572 | 145   | 57.7  | 2     | 0     | 0     | 0     | 0     | 0     | ...   | 0     | 0     | 0     | 0     | 1     | 0     | 0     | 0     | 0     | 0     |\n",
       "| 4291 | 18990 |   483 | 150   | 44.1  | 1     | 1     | 0     | 0     | 0     | 0     | ...   | 0     | 0     | 0     | 0     | 0     | 1     | 0     | 0     | 0     | 0     |\n",
       "| 2986 | 15750 | 32539 | 125   | 56.5  | 4     | 1     | 0     | 0     | 0     | 0     | ...   | 0     | 1     | 0     | 0     | 0     | 0     | 0     | 0     | 0     | 0     |\n",
       "\n"
      ],
      "text/plain": [
       "     price mileage tax mpg  age model_octavia model_citigo model_yeti_out\n",
       "2463 16590 28691   125 58.9 3   1             0            0             \n",
       "2511 10999 33700   125 51.4 3   0             0            1             \n",
       "2227  7695 59465     0 67.3 4   0             0            0             \n",
       "526   9298 11572   145 57.7 2   0             0            0             \n",
       "4291 18990   483   150 44.1 1   1             0            0             \n",
       "2986 15750 32539   125 56.5 4   1             0            0             \n",
       "     model_superb model_kodiaq ... fuelType_other engineSize_2.0 engineSize_1.2\n",
       "2463 0            0            ... 0              1              0             \n",
       "2511 0            0            ... 0              0              1             \n",
       "2227 0            0            ... 0              0              0             \n",
       "526  0            0            ... 0              0              0             \n",
       "4291 0            0            ... 0              0              0             \n",
       "2986 0            0            ... 0              1              0             \n",
       "     engineSize_1.6 engineSize_1.0 engineSize_1.5 engineSize_1.4 engineSize_1.9\n",
       "2463 0              0              0              0              0             \n",
       "2511 0              0              0              0              0             \n",
       "2227 1              0              0              0              0             \n",
       "526  0              1              0              0              0             \n",
       "4291 0              0              1              0              0             \n",
       "2986 0              0              0              0              0             \n",
       "     engineSize_1.8 engineSize_2.5\n",
       "2463 0              0             \n",
       "2511 0              0             \n",
       "2227 0              0             \n",
       "526  0              0             \n",
       "4291 0              0             \n",
       "2986 0              0             "
      ]
     },
     "metadata": {},
     "output_type": "display_data"
    }
   ],
   "source": [
    "head(train)"
   ]
  },
  {
   "cell_type": "markdown",
   "id": "20bf6b40-d10c-49ed-aa5f-74c16b8dad72",
   "metadata": {},
   "source": [
    "## MODELS"
   ]
  },
  {
   "cell_type": "markdown",
   "id": "61dd105a-9056-4f57-8155-5f46c28ef4d6",
   "metadata": {},
   "source": [
    "### 4. Regression models and cross-validation"
   ]
  },
  {
   "cell_type": "code",
   "execution_count": 84,
   "id": "7ef4a513-4a92-4ea7-a447-c27fcfe788ee",
   "metadata": {
    "scrolled": true
   },
   "outputs": [
    {
     "name": "stdout",
     "output_type": "stream",
     "text": [
      "Start:  AIC=83523.59\n",
      "price ~ mileage + tax + mpg + age + model_octavia + model_citigo + \n",
      "    model_yeti_out + model_superb + model_kodiaq + model_rapid + \n",
      "    model_karoq + model_fabia + model_yeti + model_scala + model_roomster + \n",
      "    model_kamiq + transmission_manual + transmission_automatic + \n",
      "    transmission_semiauto + transmission_other + fuelType_petrol + \n",
      "    fuelType_diesel + fuelType_hybrid + fuelType_other + engineSize_2.0 + \n",
      "    engineSize_1.2 + engineSize_1.6 + engineSize_1.0 + engineSize_1.5 + \n",
      "    engineSize_1.4 + engineSize_1.9 + engineSize_1.8 + engineSize_2.5\n",
      "\n",
      "\n",
      "Step:  AIC=83523.59\n",
      "price ~ mileage + tax + mpg + age + model_octavia + model_citigo + \n",
      "    model_yeti_out + model_superb + model_kodiaq + model_rapid + \n",
      "    model_karoq + model_fabia + model_yeti + model_scala + model_roomster + \n",
      "    model_kamiq + transmission_manual + transmission_automatic + \n",
      "    transmission_semiauto + transmission_other + fuelType_petrol + \n",
      "    fuelType_diesel + fuelType_hybrid + fuelType_other + engineSize_2.0 + \n",
      "    engineSize_1.2 + engineSize_1.6 + engineSize_1.0 + engineSize_1.5 + \n",
      "    engineSize_1.4 + engineSize_1.9 + engineSize_1.8\n",
      "\n",
      "\n",
      "Step:  AIC=83523.59\n",
      "price ~ mileage + tax + mpg + age + model_octavia + model_citigo + \n",
      "    model_yeti_out + model_superb + model_kodiaq + model_rapid + \n",
      "    model_karoq + model_fabia + model_yeti + model_scala + model_roomster + \n",
      "    model_kamiq + transmission_manual + transmission_automatic + \n",
      "    transmission_semiauto + transmission_other + fuelType_petrol + \n",
      "    fuelType_diesel + fuelType_hybrid + engineSize_2.0 + engineSize_1.2 + \n",
      "    engineSize_1.6 + engineSize_1.0 + engineSize_1.5 + engineSize_1.4 + \n",
      "    engineSize_1.9 + engineSize_1.8\n",
      "\n",
      "\n",
      "Step:  AIC=83523.59\n",
      "price ~ mileage + tax + mpg + age + model_octavia + model_citigo + \n",
      "    model_yeti_out + model_superb + model_kodiaq + model_rapid + \n",
      "    model_karoq + model_fabia + model_yeti + model_scala + model_roomster + \n",
      "    model_kamiq + transmission_manual + transmission_automatic + \n",
      "    transmission_semiauto + fuelType_petrol + fuelType_diesel + \n",
      "    fuelType_hybrid + engineSize_2.0 + engineSize_1.2 + engineSize_1.6 + \n",
      "    engineSize_1.0 + engineSize_1.5 + engineSize_1.4 + engineSize_1.9 + \n",
      "    engineSize_1.8\n",
      "\n",
      "\n",
      "Step:  AIC=83523.59\n",
      "price ~ mileage + tax + mpg + age + model_octavia + model_citigo + \n",
      "    model_yeti_out + model_superb + model_kodiaq + model_rapid + \n",
      "    model_karoq + model_fabia + model_yeti + model_scala + model_roomster + \n",
      "    transmission_manual + transmission_automatic + transmission_semiauto + \n",
      "    fuelType_petrol + fuelType_diesel + fuelType_hybrid + engineSize_2.0 + \n",
      "    engineSize_1.2 + engineSize_1.6 + engineSize_1.0 + engineSize_1.5 + \n",
      "    engineSize_1.4 + engineSize_1.9 + engineSize_1.8\n",
      "\n",
      "                         Df   Deviance   AIC\n",
      "- transmission_manual     1 1.4386e+10 83522\n",
      "- model_superb            1 1.4386e+10 83522\n",
      "- fuelType_petrol         1 1.4386e+10 83522\n",
      "- transmission_semiauto   1 1.4387e+10 83522\n",
      "- transmission_automatic  1 1.4388e+10 83522\n",
      "- fuelType_diesel         1 1.4390e+10 83523\n",
      "<none>                      1.4386e+10 83524\n",
      "- engineSize_1.8          1 1.4393e+10 83524\n",
      "- engineSize_1.0          1 1.4402e+10 83527\n",
      "- engineSize_1.5          1 1.4409e+10 83529\n",
      "- engineSize_1.4          1 1.4410e+10 83530\n",
      "- engineSize_1.2          1 1.4412e+10 83530\n",
      "- engineSize_1.6          1 1.4420e+10 83533\n",
      "- engineSize_2.0          1 1.4439e+10 83539\n",
      "- tax                     1 1.4440e+10 83539\n",
      "- engineSize_1.9          1 1.4482e+10 83553\n",
      "- model_karoq             1 1.4536e+10 83570\n",
      "- model_roomster          1 1.4609e+10 83594\n",
      "- model_scala             1 1.4691e+10 83620\n",
      "- model_octavia           1 1.4779e+10 83648\n",
      "- model_yeti              1 1.4965e+10 83707\n",
      "- model_yeti_out          1 1.5064e+10 83738\n",
      "- model_kodiaq            1 1.5197e+10 83779\n",
      "- model_rapid             1 1.5230e+10 83789\n",
      "- model_citigo            1 1.5730e+10 83941\n",
      "- model_fabia             1 1.5746e+10 83946\n",
      "- mileage                 1 1.7092e+10 84331\n",
      "- fuelType_hybrid         1 1.7472e+10 84434\n",
      "- mpg                     1 1.7584e+10 84464\n",
      "- age                     1 1.8652e+10 84741\n",
      "\n",
      "Step:  AIC=83521.6\n",
      "price ~ mileage + tax + mpg + age + model_octavia + model_citigo + \n",
      "    model_yeti_out + model_superb + model_kodiaq + model_rapid + \n",
      "    model_karoq + model_fabia + model_yeti + model_scala + model_roomster + \n",
      "    transmission_automatic + transmission_semiauto + fuelType_petrol + \n",
      "    fuelType_diesel + fuelType_hybrid + engineSize_2.0 + engineSize_1.2 + \n",
      "    engineSize_1.6 + engineSize_1.0 + engineSize_1.5 + engineSize_1.4 + \n",
      "    engineSize_1.9 + engineSize_1.8\n",
      "\n",
      "                         Df   Deviance   AIC\n",
      "- model_superb            1 1.4386e+10 83520\n",
      "- fuelType_petrol         1 1.4386e+10 83520\n",
      "- fuelType_diesel         1 1.4390e+10 83521\n",
      "<none>                      1.4386e+10 83522\n",
      "- engineSize_1.8          1 1.4393e+10 83522\n",
      "- engineSize_1.0          1 1.4402e+10 83525\n",
      "- engineSize_1.5          1 1.4409e+10 83527\n",
      "- engineSize_1.4          1 1.4410e+10 83528\n",
      "- engineSize_1.2          1 1.4412e+10 83528\n",
      "- engineSize_1.6          1 1.4420e+10 83531\n",
      "- engineSize_2.0          1 1.4439e+10 83537\n",
      "- tax                     1 1.4440e+10 83537\n",
      "- engineSize_1.9          1 1.4482e+10 83551\n",
      "- model_karoq             1 1.4536e+10 83569\n",
      "- model_roomster          1 1.4609e+10 83592\n",
      "- model_scala             1 1.4692e+10 83618\n",
      "- model_octavia           1 1.4779e+10 83646\n",
      "- model_yeti              1 1.4965e+10 83705\n",
      "- model_yeti_out          1 1.5064e+10 83736\n",
      "- model_kodiaq            1 1.5197e+10 83777\n",
      "- model_rapid             1 1.5230e+10 83787\n",
      "- transmission_automatic  1 1.5464e+10 83859\n",
      "- transmission_semiauto   1 1.5550e+10 83885\n",
      "- model_citigo            1 1.5730e+10 83939\n",
      "- model_fabia             1 1.5746e+10 83944\n",
      "- mileage                 1 1.7092e+10 84329\n",
      "- fuelType_hybrid         1 1.7473e+10 84432\n",
      "- mpg                     1 1.7585e+10 84463\n",
      "- age                     1 1.8652e+10 84739\n",
      "\n",
      "Step:  AIC=83519.77\n",
      "price ~ mileage + tax + mpg + age + model_octavia + model_citigo + \n",
      "    model_yeti_out + model_kodiaq + model_rapid + model_karoq + \n",
      "    model_fabia + model_yeti + model_scala + model_roomster + \n",
      "    transmission_automatic + transmission_semiauto + fuelType_petrol + \n",
      "    fuelType_diesel + fuelType_hybrid + engineSize_2.0 + engineSize_1.2 + \n",
      "    engineSize_1.6 + engineSize_1.0 + engineSize_1.5 + engineSize_1.4 + \n",
      "    engineSize_1.9 + engineSize_1.8\n",
      "\n",
      "                         Df   Deviance   AIC\n",
      "- fuelType_petrol         1 1.4387e+10 83518\n",
      "- fuelType_diesel         1 1.4391e+10 83519\n",
      "<none>                      1.4386e+10 83520\n",
      "- engineSize_1.8          1 1.4394e+10 83520\n",
      "- engineSize_1.0          1 1.4403e+10 83523\n",
      "- engineSize_1.5          1 1.4410e+10 83525\n",
      "- engineSize_1.4          1 1.4411e+10 83526\n",
      "- engineSize_1.2          1 1.4413e+10 83526\n",
      "- engineSize_1.6          1 1.4421e+10 83529\n",
      "- engineSize_2.0          1 1.4439e+10 83535\n",
      "- tax                     1 1.4442e+10 83536\n",
      "- engineSize_1.9          1 1.4483e+10 83549\n",
      "- model_roomster          1 1.4623e+10 83594\n",
      "- model_karoq             1 1.4782e+10 83645\n",
      "- model_scala             1 1.4891e+10 83680\n",
      "- model_yeti              1 1.5277e+10 83800\n",
      "- transmission_automatic  1 1.5465e+10 83857\n",
      "- transmission_semiauto   1 1.5550e+10 83883\n",
      "- model_rapid             1 1.5742e+10 83941\n",
      "- model_yeti_out          1 1.5882e+10 83982\n",
      "- model_octavia           1 1.6041e+10 84029\n",
      "- model_kodiaq            1 1.6524e+10 84168\n",
      "- model_citigo            1 1.6811e+10 84249\n",
      "- mileage                 1 1.7105e+10 84331\n",
      "- fuelType_hybrid         1 1.7483e+10 84433\n",
      "- mpg                     1 1.7685e+10 84487\n",
      "- model_fabia             1 1.7708e+10 84493\n",
      "- age                     1 1.8652e+10 84737\n",
      "\n",
      "Step:  AIC=83518.03\n",
      "price ~ mileage + tax + mpg + age + model_octavia + model_citigo + \n",
      "    model_yeti_out + model_kodiaq + model_rapid + model_karoq + \n",
      "    model_fabia + model_yeti + model_scala + model_roomster + \n",
      "    transmission_automatic + transmission_semiauto + fuelType_diesel + \n",
      "    fuelType_hybrid + engineSize_2.0 + engineSize_1.2 + engineSize_1.6 + \n",
      "    engineSize_1.0 + engineSize_1.5 + engineSize_1.4 + engineSize_1.9 + \n",
      "    engineSize_1.8\n",
      "\n",
      "                         Df   Deviance   AIC\n",
      "<none>                      1.4387e+10 83518\n",
      "- engineSize_1.8          1 1.4394e+10 83518\n",
      "- engineSize_1.0          1 1.4404e+10 83522\n",
      "- engineSize_1.5          1 1.4410e+10 83524\n",
      "- engineSize_1.4          1 1.4412e+10 83524\n",
      "- engineSize_1.2          1 1.4413e+10 83525\n",
      "- engineSize_1.6          1 1.4421e+10 83527\n",
      "- engineSize_2.0          1 1.4440e+10 83533\n",
      "- tax                     1 1.4442e+10 83534\n",
      "- engineSize_1.9          1 1.4484e+10 83547\n",
      "- fuelType_diesel         1 1.4566e+10 83574\n",
      "- model_roomster          1 1.4624e+10 83593\n",
      "- model_karoq             1 1.4782e+10 83643\n",
      "- model_scala             1 1.4893e+10 83678\n",
      "- model_yeti              1 1.5277e+10 83798\n",
      "- transmission_automatic  1 1.5471e+10 83857\n",
      "- transmission_semiauto   1 1.5550e+10 83881\n",
      "- model_rapid             1 1.5745e+10 83939\n",
      "- model_yeti_out          1 1.5886e+10 83981\n",
      "- model_octavia           1 1.6044e+10 84028\n",
      "- model_kodiaq            1 1.6524e+10 84166\n",
      "- model_citigo            1 1.6814e+10 84248\n",
      "- mileage                 1 1.7106e+10 84329\n",
      "- mpg                     1 1.7685e+10 84485\n",
      "- model_fabia             1 1.7710e+10 84492\n",
      "- age                     1 1.8655e+10 84736\n",
      "- fuelType_hybrid         1 1.9189e+10 84868\n",
      "Start:  AIC=95492.15\n",
      "price ~ 1\n",
      "\n",
      "                         Df   Deviance   AIC\n",
      "+ age                     1 1.1635e+11 93284\n",
      "+ model_kodiaq            1 1.3552e+11 94000\n",
      "+ transmission_manual     1 1.3818e+11 94091\n",
      "+ mileage                 1 1.4117e+11 94192\n",
      "+ engineSize_2.0          1 1.4475e+11 94310\n",
      "+ transmission_automatic  1 1.4617e+11 94355\n",
      "+ tax                     1 1.5127e+11 94516\n",
      "+ mpg                     1 1.5303e+11 94571\n",
      "+ model_fabia             1 1.5564e+11 94650\n",
      "+ engineSize_1.0          1 1.6093e+11 94807\n",
      "+ model_citigo            1 1.6531e+11 94933\n",
      "+ model_superb            1 1.7126e+11 95099\n",
      "+ model_karoq             1 1.7253e+11 95134\n",
      "+ engineSize_1.2          1 1.7264e+11 95137\n",
      "+ engineSize_1.5          1 1.7349e+11 95160\n",
      "+ fuelType_petrol         1 1.7437e+11 95184\n",
      "+ fuelType_diesel         1 1.7587e+11 95224\n",
      "+ transmission_semiauto   1 1.8081e+11 95354\n",
      "+ fuelType_hybrid         1 1.8207e+11 95387\n",
      "+ model_rapid             1 1.8221e+11 95390\n",
      "+ model_kamiq             1 1.8295e+11 95409\n",
      "+ model_yeti              1 1.8500e+11 95462\n",
      "+ model_scala             1 1.8503e+11 95463\n",
      "+ model_yeti_out          1 1.8537e+11 95471\n",
      "+ model_roomster          1 1.8546e+11 95473\n",
      "+ engineSize_1.9          1 1.8554e+11 95475\n",
      "+ engineSize_1.6          1 1.8584e+11 95483\n",
      "+ engineSize_1.8          1 1.8616e+11 95491\n",
      "+ engineSize_2.5          1 1.8616e+11 95491\n",
      "+ model_octavia           1 1.8617e+11 95491\n",
      "<none>                      1.8628e+11 95492\n",
      "+ engineSize_1.4          1 1.8628e+11 95494\n",
      "+ transmission_other      1 1.8628e+11 95494\n",
      "+ fuelType_other          1 1.8628e+11 95494\n",
      "\n",
      "Step:  AIC=93283.8\n",
      "price ~ age\n",
      "\n",
      "                         Df   Deviance   AIC\n",
      "+ engineSize_1.0          1 7.4738e+10 91207\n",
      "+ engineSize_2.0          1 7.7521e+10 91379\n",
      "+ model_kodiaq            1 8.2426e+10 91667\n",
      "+ transmission_manual     1 8.5951e+10 91864\n",
      "+ model_fabia             1 8.9543e+10 92056\n",
      "+ transmission_automatic  1 9.3457e+10 92257\n",
      "+ mpg                     1 9.7645e+10 92463\n",
      "+ fuelType_petrol         1 1.0130e+11 92636\n",
      "+ fuelType_diesel         1 1.0237e+11 92685\n",
      "+ model_superb            1 1.0460e+11 92786\n",
      "+ model_citigo            1 1.0575e+11 92837\n",
      "+ model_karoq             1 1.1112e+11 93070\n",
      "+ transmission_semiauto   1 1.1205e+11 93109\n",
      "+ tax                     1 1.1229e+11 93119\n",
      "+ engineSize_1.5          1 1.1414e+11 93196\n",
      "+ fuelType_hybrid         1 1.1436e+11 93205\n",
      "+ engineSize_1.4          1 1.1488e+11 93226\n",
      "+ model_rapid             1 1.1519e+11 93239\n",
      "+ engineSize_1.2          1 1.1532e+11 93244\n",
      "+ mileage                 1 1.1554e+11 93253\n",
      "+ engineSize_1.6          1 1.1597e+11 93271\n",
      "+ model_kamiq             1 1.1602e+11 93273\n",
      "+ engineSize_1.9          1 1.1614e+11 93277\n",
      "+ model_yeti_out          1 1.1615e+11 93278\n",
      "+ model_yeti              1 1.1616e+11 93278\n",
      "+ model_scala             1 1.1618e+11 93279\n",
      "+ engineSize_2.5          1 1.1620e+11 93280\n",
      "+ model_octavia           1 1.1626e+11 93282\n",
      "+ engineSize_1.8          1 1.1630e+11 93284\n",
      "<none>                      1.1635e+11 93284\n",
      "+ model_roomster          1 1.1631e+11 93284\n",
      "+ fuelType_other          1 1.1634e+11 93285\n",
      "+ transmission_other      1 1.1634e+11 93286\n",
      "\n",
      "Step:  AIC=91207.44\n",
      "price ~ age + engineSize_1.0\n",
      "\n",
      "                         Df   Deviance   AIC\n",
      "+ model_kodiaq            1 5.4492e+10 89726\n",
      "+ engineSize_2.0          1 5.9207e+10 90116\n",
      "+ transmission_automatic  1 6.3644e+10 90455\n",
      "+ transmission_manual     1 6.4028e+10 90483\n",
      "+ mpg                     1 6.4119e+10 90490\n",
      "+ engineSize_1.2          1 6.7363e+10 90722\n",
      "+ model_fabia             1 6.7787e+10 90751\n",
      "+ engineSize_1.6          1 6.9855e+10 90892\n",
      "+ tax                     1 7.0378e+10 90927\n",
      "+ model_octavia           1 7.0642e+10 90945\n",
      "+ mileage                 1 7.1390e+10 90994\n",
      "+ model_superb            1 7.1668e+10 91012\n",
      "+ model_karoq             1 7.1806e+10 91022\n",
      "+ fuelType_hybrid         1 7.3554e+10 91134\n",
      "+ model_rapid             1 7.3795e+10 91150\n",
      "+ fuelType_petrol         1 7.3861e+10 91154\n",
      "+ fuelType_diesel         1 7.4087e+10 91168\n",
      "+ model_kamiq             1 7.4162e+10 91173\n",
      "+ model_yeti_out          1 7.4358e+10 91185\n",
      "+ transmission_semiauto   1 7.4385e+10 91187\n",
      "+ engineSize_1.9          1 7.4514e+10 91195\n",
      "+ engineSize_2.5          1 7.4570e+10 91199\n",
      "+ engineSize_1.5          1 7.4645e+10 91204\n",
      "+ model_citigo            1 7.4651e+10 91204\n",
      "+ engineSize_1.4          1 7.4704e+10 91207\n",
      "+ engineSize_1.8          1 7.4704e+10 91207\n",
      "<none>                      7.4738e+10 91207\n",
      "+ fuelType_other          1 7.4723e+10 91209\n",
      "+ model_roomster          1 7.4727e+10 91209\n",
      "+ model_scala             1 7.4730e+10 91209\n",
      "+ transmission_other      1 7.4732e+10 91209\n",
      "+ model_yeti              1 7.4737e+10 91209\n",
      "\n",
      "Step:  AIC=89725.84\n",
      "price ~ age + engineSize_1.0 + model_kodiaq\n",
      "\n",
      "                         Df   Deviance   AIC\n",
      "+ engineSize_2.0          1 4.5013e+10 88830\n",
      "+ transmission_manual     1 4.7162e+10 89049\n",
      "+ model_superb            1 4.7408e+10 89074\n",
      "+ model_fabia             1 4.9138e+10 89242\n",
      "+ model_karoq             1 4.9161e+10 89244\n",
      "+ engineSize_1.2          1 4.9964e+10 89320\n",
      "+ mpg                     1 5.0600e+10 89380\n",
      "+ transmission_automatic  1 5.0961e+10 89413\n",
      "+ mileage                 1 5.1500e+10 89463\n",
      "+ tax                     1 5.1646e+10 89476\n",
      "+ engineSize_1.6          1 5.2231e+10 89529\n",
      "+ transmission_semiauto   1 5.2594e+10 89561\n",
      "+ fuelType_hybrid         1 5.2870e+10 89586\n",
      "+ model_kamiq             1 5.3387e+10 89632\n",
      "+ model_octavia           1 5.3455e+10 89638\n",
      "+ model_rapid             1 5.3734e+10 89662\n",
      "+ fuelType_petrol         1 5.3898e+10 89676\n",
      "+ fuelType_diesel         1 5.4119e+10 89696\n",
      "+ model_citigo            1 5.4197e+10 89702\n",
      "+ engineSize_1.4          1 5.4286e+10 89710\n",
      "+ model_scala             1 5.4336e+10 89714\n",
      "+ engineSize_1.9          1 5.4339e+10 89715\n",
      "+ engineSize_2.5          1 5.4364e+10 89717\n",
      "+ model_yeti_out          1 5.4450e+10 89724\n",
      "+ engineSize_1.8          1 5.4463e+10 89725\n",
      "<none>                      5.4492e+10 89726\n",
      "+ model_yeti              1 5.4483e+10 89727\n",
      "+ transmission_other      1 5.4485e+10 89727\n",
      "+ engineSize_1.5          1 5.4485e+10 89727\n",
      "+ model_roomster          1 5.4486e+10 89727\n",
      "+ fuelType_other          1 5.4489e+10 89728\n",
      "\n",
      "Step:  AIC=88830.39\n",
      "price ~ age + engineSize_1.0 + model_kodiaq + engineSize_2.0\n",
      "\n",
      "                         Df   Deviance   AIC\n",
      "+ transmission_manual     1 3.8933e+10 88151\n",
      "+ model_karoq             1 3.8954e+10 88153\n",
      "+ mileage                 1 4.0848e+10 88376\n",
      "+ mpg                     1 4.1951e+10 88502\n",
      "+ model_fabia             1 4.1958e+10 88502\n",
      "+ transmission_automatic  1 4.2030e+10 88510\n",
      "+ model_superb            1 4.2108e+10 88519\n",
      "+ fuelType_hybrid         1 4.2943e+10 88611\n",
      "+ tax                     1 4.2982e+10 88616\n",
      "+ model_kamiq             1 4.3326e+10 88653\n",
      "+ engineSize_1.5          1 4.3380e+10 88659\n",
      "+ transmission_semiauto   1 4.3487e+10 88670\n",
      "+ model_octavia           1 4.3590e+10 88682\n",
      "+ fuelType_diesel         1 4.3643e+10 88687\n",
      "+ engineSize_1.2          1 4.4010e+10 88727\n",
      "+ fuelType_petrol         1 4.4129e+10 88739\n",
      "+ model_scala             1 4.4608e+10 88790\n",
      "+ model_rapid             1 4.4647e+10 88794\n",
      "+ model_citigo            1 4.4663e+10 88796\n",
      "+ engineSize_1.6          1 4.4718e+10 88802\n",
      "+ engineSize_1.9          1 4.4808e+10 88811\n",
      "+ engineSize_1.4          1 4.4826e+10 88813\n",
      "+ engineSize_2.5          1 4.4866e+10 88817\n",
      "+ engineSize_1.8          1 4.4962e+10 88827\n",
      "+ model_roomster          1 4.4976e+10 88829\n",
      "+ model_yeti              1 4.4981e+10 88829\n",
      "+ model_yeti_out          1 4.4989e+10 88830\n",
      "<none>                      4.5013e+10 88830\n",
      "+ transmission_other      1 4.5005e+10 88832\n",
      "+ fuelType_other          1 4.5013e+10 88832\n",
      "\n",
      "Step:  AIC=88151.01\n",
      "price ~ age + engineSize_1.0 + model_kodiaq + engineSize_2.0 + \n",
      "    transmission_manual\n",
      "\n",
      "                         Df   Deviance   AIC\n",
      "+ model_karoq             1 3.2563e+10 87314\n",
      "+ mileage                 1 3.5770e+10 87755\n",
      "+ model_fabia             1 3.6675e+10 87872\n",
      "+ model_superb            1 3.6895e+10 87900\n",
      "+ mpg                     1 3.7003e+10 87914\n",
      "+ fuelType_hybrid         1 3.7182e+10 87937\n",
      "+ model_kamiq             1 3.7510e+10 87978\n",
      "+ engineSize_1.5          1 3.7707e+10 88003\n",
      "+ engineSize_1.2          1 3.7712e+10 88003\n",
      "+ model_octavia           1 3.7790e+10 88013\n",
      "+ tax                     1 3.7805e+10 88015\n",
      "+ fuelType_diesel         1 3.8361e+10 88083\n",
      "+ model_citigo            1 3.8568e+10 88109\n",
      "+ transmission_semiauto   1 3.8604e+10 88113\n",
      "+ transmission_automatic  1 3.8605e+10 88113\n",
      "+ fuelType_petrol         1 3.8634e+10 88117\n",
      "+ model_scala             1 3.8676e+10 88122\n",
      "+ engineSize_1.4          1 3.8755e+10 88131\n",
      "+ model_rapid             1 3.8758e+10 88132\n",
      "+ engineSize_1.9          1 3.8765e+10 88133\n",
      "+ model_yeti_out          1 3.8820e+10 88139\n",
      "+ engineSize_2.5          1 3.8850e+10 88143\n",
      "+ engineSize_1.6          1 3.8866e+10 88145\n",
      "+ engineSize_1.8          1 3.8891e+10 88148\n",
      "+ model_roomster          1 3.8896e+10 88148\n",
      "<none>                      3.8933e+10 88151\n",
      "+ model_yeti              1 3.8932e+10 88153\n",
      "+ transmission_other      1 3.8933e+10 88153\n",
      "+ fuelType_other          1 3.8933e+10 88153\n",
      "\n",
      "Step:  AIC=87313.93\n",
      "price ~ age + engineSize_1.0 + model_kodiaq + engineSize_2.0 + \n",
      "    transmission_manual + model_karoq\n",
      "\n",
      "                         Df   Deviance   AIC\n",
      "+ model_superb            1 2.9119e+10 86791\n",
      "+ mileage                 1 2.9805e+10 86900\n",
      "+ fuelType_hybrid         1 3.0532e+10 87013\n",
      "+ model_kamiq             1 3.0630e+10 87029\n",
      "+ model_fabia             1 3.1238e+10 87121\n",
      "+ mpg                     1 3.1592e+10 87174\n",
      "+ fuelType_diesel         1 3.1804e+10 87205\n",
      "+ tax                     1 3.1838e+10 87210\n",
      "+ engineSize_1.2          1 3.1946e+10 87226\n",
      "+ model_scala             1 3.2032e+10 87239\n",
      "+ engineSize_1.5          1 3.2090e+10 87247\n",
      "+ fuelType_petrol         1 3.2152e+10 87256\n",
      "+ model_citigo            1 3.2188e+10 87262\n",
      "+ engineSize_1.4          1 3.2235e+10 87268\n",
      "+ model_octavia           1 3.2257e+10 87272\n",
      "+ engineSize_1.9          1 3.2436e+10 87298\n",
      "+ model_rapid             1 3.2442e+10 87298\n",
      "+ engineSize_1.6          1 3.2456e+10 87301\n",
      "+ engineSize_2.5          1 3.2499e+10 87307\n",
      "+ engineSize_1.8          1 3.2525e+10 87311\n",
      "+ model_roomster          1 3.2533e+10 87312\n",
      "+ model_yeti_out          1 3.2537e+10 87312\n",
      "<none>                      3.2563e+10 87314\n",
      "+ model_yeti              1 3.2556e+10 87315\n",
      "+ transmission_automatic  1 3.2562e+10 87316\n",
      "+ transmission_other      1 3.2562e+10 87316\n",
      "+ transmission_semiauto   1 3.2562e+10 87316\n",
      "+ fuelType_other          1 3.2563e+10 87316\n",
      "\n",
      "Step:  AIC=86791.02\n",
      "price ~ age + engineSize_1.0 + model_kodiaq + engineSize_2.0 + \n",
      "    transmission_manual + model_karoq + model_superb\n",
      "\n",
      "                         Df   Deviance   AIC\n",
      "+ mileage                 1 2.5977e+10 86257\n",
      "+ model_kamiq             1 2.6797e+10 86403\n",
      "+ fuelType_hybrid         1 2.7752e+10 86567\n",
      "+ mpg                     1 2.8015e+10 86611\n",
      "+ model_fabia             1 2.8145e+10 86633\n",
      "+ tax                     1 2.8311e+10 86661\n",
      "+ model_scala             1 2.8362e+10 86669\n",
      "+ fuelType_diesel         1 2.8450e+10 86684\n",
      "+ model_citigo            1 2.8659e+10 86718\n",
      "+ fuelType_petrol         1 2.8727e+10 86729\n",
      "+ engineSize_1.5          1 2.8834e+10 86747\n",
      "+ engineSize_1.2          1 2.8920e+10 86761\n",
      "+ engineSize_1.9          1 2.9004e+10 86774\n",
      "+ model_octavia           1 2.9012e+10 86776\n",
      "+ engineSize_1.6          1 2.9018e+10 86777\n",
      "+ engineSize_1.4          1 2.9025e+10 86778\n",
      "+ model_rapid             1 2.9026e+10 86778\n",
      "+ model_yeti              1 2.9063e+10 86784\n",
      "+ model_yeti_out          1 2.9072e+10 86785\n",
      "+ model_roomster          1 2.9089e+10 86788\n",
      "+ engineSize_2.5          1 2.9096e+10 86789\n",
      "<none>                      2.9119e+10 86791\n",
      "+ engineSize_1.8          1 2.9111e+10 86792\n",
      "+ transmission_other      1 2.9117e+10 86793\n",
      "+ fuelType_other          1 2.9117e+10 86793\n",
      "+ transmission_automatic  1 2.9118e+10 86793\n",
      "+ transmission_semiauto   1 2.9118e+10 86793\n",
      "\n",
      "Step:  AIC=86256.8\n",
      "price ~ age + engineSize_1.0 + model_kodiaq + engineSize_2.0 + \n",
      "    transmission_manual + model_karoq + model_superb + mileage\n",
      "\n",
      "                         Df   Deviance   AIC\n",
      "+ model_kamiq             1 2.3785e+10 85845\n",
      "+ fuelType_hybrid         1 2.4585e+10 86000\n",
      "+ model_fabia             1 2.4790e+10 86039\n",
      "+ model_scala             1 2.5251e+10 86126\n",
      "+ model_citigo            1 2.5282e+10 86131\n",
      "+ mpg                     1 2.5332e+10 86141\n",
      "+ tax                     1 2.5377e+10 86149\n",
      "+ engineSize_1.9          1 2.5430e+10 86159\n",
      "+ engineSize_1.2          1 2.5472e+10 86167\n",
      "+ model_octavia           1 2.5622e+10 86194\n",
      "+ engineSize_1.5          1 2.5740e+10 86216\n",
      "+ fuelType_diesel         1 2.5771e+10 86222\n",
      "+ engineSize_1.4          1 2.5903e+10 86245\n",
      "+ fuelType_petrol         1 2.5910e+10 86247\n",
      "+ model_rapid             1 2.5914e+10 86247\n",
      "+ model_yeti              1 2.5939e+10 86252\n",
      "+ model_yeti_out          1 2.5942e+10 86253\n",
      "<none>                      2.5977e+10 86257\n",
      "+ model_roomster          1 2.5968e+10 86257\n",
      "+ engineSize_1.8          1 2.5969e+10 86257\n",
      "+ transmission_other      1 2.5975e+10 86258\n",
      "+ engineSize_2.5          1 2.5975e+10 86258\n",
      "+ fuelType_other          1 2.5975e+10 86258\n",
      "+ engineSize_1.6          1 2.5977e+10 86259\n",
      "+ transmission_automatic  1 2.5977e+10 86259\n",
      "+ transmission_semiauto   1 2.5977e+10 86259\n",
      "\n",
      "Step:  AIC=85844.77\n",
      "price ~ age + engineSize_1.0 + model_kodiaq + engineSize_2.0 + \n",
      "    transmission_manual + model_karoq + model_superb + mileage + \n",
      "    model_kamiq\n",
      "\n",
      "                         Df   Deviance   AIC\n",
      "+ fuelType_hybrid         1 2.2318e+10 85548\n",
      "+ model_scala             1 2.2821e+10 85653\n",
      "+ model_fabia             1 2.3008e+10 85691\n",
      "+ model_octavia           1 2.3082e+10 85706\n",
      "+ model_citigo            1 2.3166e+10 85723\n",
      "+ tax                     1 2.3218e+10 85734\n",
      "+ engineSize_1.9          1 2.3294e+10 85749\n",
      "+ mpg                     1 2.3435e+10 85777\n",
      "+ engineSize_1.2          1 2.3440e+10 85778\n",
      "+ fuelType_diesel         1 2.3592e+10 85809\n",
      "+ engineSize_1.4          1 2.3689e+10 85828\n",
      "+ engineSize_1.5          1 2.3713e+10 85833\n",
      "+ model_yeti_out          1 2.3722e+10 85834\n",
      "+ fuelType_petrol         1 2.3722e+10 85834\n",
      "+ model_rapid             1 2.3732e+10 85836\n",
      "+ model_yeti              1 2.3743e+10 85839\n",
      "<none>                      2.3785e+10 85845\n",
      "+ model_roomster          1 2.3778e+10 85845\n",
      "+ engineSize_1.8          1 2.3779e+10 85846\n",
      "+ transmission_other      1 2.3782e+10 85846\n",
      "+ fuelType_other          1 2.3782e+10 85846\n",
      "+ engineSize_1.6          1 2.3784e+10 85847\n",
      "+ engineSize_2.5          1 2.3784e+10 85847\n",
      "+ transmission_semiauto   1 2.3785e+10 85847\n",
      "+ transmission_automatic  1 2.3785e+10 85847\n",
      "\n",
      "Step:  AIC=85547.8\n",
      "price ~ age + engineSize_1.0 + model_kodiaq + engineSize_2.0 + \n",
      "    transmission_manual + model_karoq + model_superb + mileage + \n",
      "    model_kamiq + fuelType_hybrid\n",
      "\n",
      "                         Df   Deviance   AIC\n",
      "+ mpg                     1 1.8124e+10 84572\n",
      "+ model_scala             1 2.1293e+10 85329\n",
      "+ model_fabia             1 2.1568e+10 85389\n",
      "+ model_octavia           1 2.1620e+10 85401\n",
      "+ model_citigo            1 2.1658e+10 85409\n",
      "+ tax                     1 2.1726e+10 85424\n",
      "+ engineSize_1.9          1 2.1842e+10 85449\n",
      "+ engineSize_1.2          1 2.2005e+10 85483\n",
      "+ fuelType_petrol         1 2.2153e+10 85515\n",
      "+ fuelType_diesel         1 2.2156e+10 85516\n",
      "+ engineSize_1.5          1 2.2172e+10 85519\n",
      "+ model_yeti_out          1 2.2259e+10 85537\n",
      "+ model_rapid             1 2.2265e+10 85539\n",
      "+ model_yeti              1 2.2280e+10 85542\n",
      "<none>                      2.2318e+10 85548\n",
      "+ engineSize_1.6          1 2.2308e+10 85548\n",
      "+ engineSize_1.8          1 2.2311e+10 85548\n",
      "+ model_roomster          1 2.2312e+10 85549\n",
      "+ engineSize_1.4          1 2.2313e+10 85549\n",
      "+ transmission_semiauto   1 2.2314e+10 85549\n",
      "+ transmission_automatic  1 2.2314e+10 85549\n",
      "+ transmission_other      1 2.2314e+10 85549\n",
      "+ fuelType_other          1 2.2315e+10 85549\n",
      "+ engineSize_2.5          1 2.2317e+10 85550\n",
      "\n",
      "Step:  AIC=84572.39\n",
      "price ~ age + engineSize_1.0 + model_kodiaq + engineSize_2.0 + \n",
      "    transmission_manual + model_karoq + model_superb + mileage + \n",
      "    model_kamiq + fuelType_hybrid + mpg\n",
      "\n",
      "                         Df   Deviance   AIC\n",
      "+ fuelType_diesel         1 1.6510e+10 84136\n",
      "+ engineSize_1.6          1 1.6522e+10 84140\n",
      "+ fuelType_petrol         1 1.6551e+10 84148\n",
      "+ model_octavia           1 1.6631e+10 84171\n",
      "+ engineSize_1.2          1 1.7119e+10 84306\n",
      "+ model_fabia             1 1.7383e+10 84378\n",
      "+ model_scala             1 1.7687e+10 84460\n",
      "+ engineSize_1.9          1 1.7866e+10 84507\n",
      "+ model_citigo            1 1.7913e+10 84519\n",
      "+ model_rapid             1 1.8079e+10 84563\n",
      "+ engineSize_1.5          1 1.8085e+10 84564\n",
      "+ model_yeti_out          1 1.8091e+10 84566\n",
      "+ transmission_semiauto   1 1.8104e+10 84569\n",
      "+ transmission_automatic  1 1.8104e+10 84569\n",
      "+ model_yeti              1 1.8112e+10 84571\n",
      "<none>                      1.8124e+10 84572\n",
      "+ tax                     1 1.8117e+10 84573\n",
      "+ model_roomster          1 1.8120e+10 84573\n",
      "+ engineSize_1.4          1 1.8122e+10 84574\n",
      "+ fuelType_other          1 1.8122e+10 84574\n",
      "+ engineSize_2.5          1 1.8122e+10 84574\n",
      "+ engineSize_1.8          1 1.8122e+10 84574\n",
      "+ transmission_other      1 1.8123e+10 84574\n",
      "\n",
      "Step:  AIC=84136.45\n",
      "price ~ age + engineSize_1.0 + model_kodiaq + engineSize_2.0 + \n",
      "    transmission_manual + model_karoq + model_superb + mileage + \n",
      "    model_kamiq + fuelType_hybrid + mpg + fuelType_diesel\n",
      "\n",
      "                         Df   Deviance   AIC\n",
      "+ model_octavia           1 1.5288e+10 83777\n",
      "+ model_fabia             1 1.6093e+10 84018\n",
      "+ engineSize_1.2          1 1.6188e+10 84046\n",
      "+ engineSize_1.6          1 1.6215e+10 84054\n",
      "+ engineSize_1.9          1 1.6373e+10 84099\n",
      "+ model_scala             1 1.6384e+10 84102\n",
      "+ model_citigo            1 1.6429e+10 84115\n",
      "+ model_rapid             1 1.6453e+10 84122\n",
      "+ model_yeti_out          1 1.6461e+10 84124\n",
      "+ engineSize_1.4          1 1.6467e+10 84126\n",
      "+ model_yeti              1 1.6469e+10 84127\n",
      "+ engineSize_2.5          1 1.6481e+10 84130\n",
      "+ tax                     1 1.6481e+10 84130\n",
      "+ model_roomster          1 1.6488e+10 84132\n",
      "<none>                      1.6510e+10 84136\n",
      "+ transmission_automatic  1 1.6503e+10 84137\n",
      "+ transmission_semiauto   1 1.6503e+10 84137\n",
      "+ engineSize_1.8          1 1.6505e+10 84137\n",
      "+ fuelType_petrol         1 1.6510e+10 84138\n",
      "+ fuelType_other          1 1.6510e+10 84138\n",
      "+ engineSize_1.5          1 1.6510e+10 84138\n",
      "+ transmission_other      1 1.6510e+10 84138\n",
      "\n",
      "Step:  AIC=83777.23\n",
      "price ~ age + engineSize_1.0 + model_kodiaq + engineSize_2.0 + \n",
      "    transmission_manual + model_karoq + model_superb + mileage + \n",
      "    model_kamiq + fuelType_hybrid + mpg + fuelType_diesel + model_octavia\n",
      "\n",
      "                         Df   Deviance   AIC\n",
      "+ model_scala             1 1.4955e+10 83676\n",
      "+ engineSize_1.9          1 1.5190e+10 83749\n",
      "+ engineSize_1.6          1 1.5202e+10 83753\n",
      "+ engineSize_1.5          1 1.5224e+10 83760\n",
      "+ model_citigo            1 1.5229e+10 83761\n",
      "+ model_yeti_out          1 1.5236e+10 83763\n",
      "+ engineSize_2.5          1 1.5243e+10 83765\n",
      "+ tax                     1 1.5247e+10 83767\n",
      "+ model_fabia             1 1.5250e+10 83768\n",
      "+ engineSize_1.8          1 1.5271e+10 83774\n",
      "+ model_roomster          1 1.5272e+10 83774\n",
      "+ engineSize_1.2          1 1.5280e+10 83777\n",
      "+ model_rapid             1 1.5281e+10 83777\n",
      "<none>                      1.5288e+10 83777\n",
      "+ engineSize_1.4          1 1.5283e+10 83778\n",
      "+ transmission_semiauto   1 1.5287e+10 83779\n",
      "+ transmission_automatic  1 1.5287e+10 83779\n",
      "+ model_yeti              1 1.5287e+10 83779\n",
      "+ fuelType_petrol         1 1.5287e+10 83779\n",
      "+ fuelType_other          1 1.5287e+10 83779\n",
      "+ transmission_other      1 1.5288e+10 83779\n",
      "\n",
      "Step:  AIC=83675.69\n",
      "price ~ age + engineSize_1.0 + model_kodiaq + engineSize_2.0 + \n",
      "    transmission_manual + model_karoq + model_superb + mileage + \n",
      "    model_kamiq + fuelType_hybrid + mpg + fuelType_diesel + model_octavia + \n",
      "    model_scala\n",
      "\n",
      "                         Df   Deviance   AIC\n",
      "+ model_yeti_out          1 1.4837e+10 83640\n",
      "+ engineSize_1.9          1 1.4855e+10 83646\n",
      "+ engineSize_1.5          1 1.4865e+10 83650\n",
      "+ engineSize_1.6          1 1.4882e+10 83655\n",
      "+ model_citigo            1 1.4897e+10 83660\n",
      "+ engineSize_2.5          1 1.4911e+10 83664\n",
      "+ engineSize_1.2          1 1.4915e+10 83665\n",
      "+ tax                     1 1.4932e+10 83671\n",
      "+ engineSize_1.8          1 1.4937e+10 83672\n",
      "+ model_roomster          1 1.4941e+10 83673\n",
      "+ engineSize_1.4          1 1.4944e+10 83674\n",
      "<none>                      1.4955e+10 83676\n",
      "+ model_rapid             1 1.4952e+10 83677\n",
      "+ transmission_automatic  1 1.4953e+10 83677\n",
      "+ transmission_other      1 1.4953e+10 83677\n",
      "+ transmission_semiauto   1 1.4953e+10 83677\n",
      "+ model_fabia             1 1.4954e+10 83677\n",
      "+ model_yeti              1 1.4954e+10 83677\n",
      "+ fuelType_petrol         1 1.4954e+10 83677\n",
      "+ fuelType_other          1 1.4954e+10 83677\n",
      "\n",
      "Step:  AIC=83640.5\n",
      "price ~ age + engineSize_1.0 + model_kodiaq + engineSize_2.0 + \n",
      "    transmission_manual + model_karoq + model_superb + mileage + \n",
      "    model_kamiq + fuelType_hybrid + mpg + fuelType_diesel + model_octavia + \n",
      "    model_scala + model_yeti_out\n",
      "\n",
      "                         Df   Deviance   AIC\n",
      "+ engineSize_1.9          1 1.4729e+10 83608\n",
      "+ engineSize_1.6          1 1.4754e+10 83616\n",
      "+ engineSize_1.5          1 1.4761e+10 83619\n",
      "+ model_citigo            1 1.4780e+10 83624\n",
      "+ engineSize_2.5          1 1.4794e+10 83629\n",
      "+ tax                     1 1.4798e+10 83630\n",
      "+ engineSize_1.2          1 1.4811e+10 83634\n",
      "+ model_fabia             1 1.4813e+10 83635\n",
      "+ engineSize_1.8          1 1.4819e+10 83637\n",
      "+ model_yeti              1 1.4822e+10 83638\n",
      "+ engineSize_1.4          1 1.4824e+10 83639\n",
      "+ model_roomster          1 1.4828e+10 83640\n",
      "+ transmission_automatic  1 1.4830e+10 83640\n",
      "<none>                      1.4837e+10 83640\n",
      "+ transmission_semiauto   1 1.4830e+10 83641\n",
      "+ transmission_other      1 1.4835e+10 83642\n",
      "+ fuelType_petrol         1 1.4835e+10 83642\n",
      "+ fuelType_other          1 1.4835e+10 83642\n",
      "+ model_rapid             1 1.4837e+10 83642\n",
      "\n",
      "Step:  AIC=83608.35\n",
      "price ~ age + engineSize_1.0 + model_kodiaq + engineSize_2.0 + \n",
      "    transmission_manual + model_karoq + model_superb + mileage + \n",
      "    model_kamiq + fuelType_hybrid + mpg + fuelType_diesel + model_octavia + \n",
      "    model_scala + model_yeti_out + engineSize_1.9\n",
      "\n",
      "                         Df   Deviance   AIC\n",
      "+ engineSize_1.6          1 1.4617e+10 83575\n",
      "+ engineSize_1.5          1 1.4653e+10 83586\n",
      "+ model_citigo            1 1.4671e+10 83592\n",
      "+ tax                     1 1.4680e+10 83595\n",
      "+ engineSize_2.5          1 1.4689e+10 83598\n",
      "+ engineSize_1.2          1 1.4703e+10 83602\n",
      "+ model_yeti              1 1.4710e+10 83604\n",
      "+ model_fabia             1 1.4710e+10 83604\n",
      "+ engineSize_1.8          1 1.4714e+10 83605\n",
      "+ engineSize_1.4          1 1.4719e+10 83607\n",
      "+ model_roomster          1 1.4722e+10 83608\n",
      "<none>                      1.4729e+10 83608\n",
      "+ transmission_automatic  1 1.4723e+10 83609\n",
      "+ transmission_semiauto   1 1.4724e+10 83609\n",
      "+ transmission_other      1 1.4728e+10 83610\n",
      "+ fuelType_petrol         1 1.4728e+10 83610\n",
      "+ fuelType_other          1 1.4728e+10 83610\n",
      "+ model_rapid             1 1.4729e+10 83610\n",
      "\n",
      "Step:  AIC=83574.56\n",
      "price ~ age + engineSize_1.0 + model_kodiaq + engineSize_2.0 + \n",
      "    transmission_manual + model_karoq + model_superb + mileage + \n",
      "    model_kamiq + fuelType_hybrid + mpg + fuelType_diesel + model_octavia + \n",
      "    model_scala + model_yeti_out + engineSize_1.9 + engineSize_1.6\n",
      "\n",
      "                         Df   Deviance   AIC\n",
      "+ model_citigo            1 1.4547e+10 83554\n",
      "+ tax                     1 1.4567e+10 83560\n",
      "+ engineSize_1.2          1 1.4580e+10 83565\n",
      "+ engineSize_2.5          1 1.4585e+10 83566\n",
      "+ engineSize_1.5          1 1.4588e+10 83567\n",
      "+ model_fabia             1 1.4590e+10 83568\n",
      "+ model_yeti              1 1.4596e+10 83570\n",
      "+ engineSize_1.8          1 1.4604e+10 83572\n",
      "+ model_roomster          1 1.4607e+10 83573\n",
      "<none>                      1.4617e+10 83575\n",
      "+ transmission_automatic  1 1.4614e+10 83575\n",
      "+ transmission_semiauto   1 1.4614e+10 83575\n",
      "+ fuelType_petrol         1 1.4616e+10 83576\n",
      "+ fuelType_other          1 1.4616e+10 83576\n",
      "+ transmission_other      1 1.4616e+10 83576\n",
      "+ engineSize_1.4          1 1.4617e+10 83577\n",
      "+ model_rapid             1 1.4617e+10 83577\n",
      "\n",
      "Step:  AIC=83553.88\n",
      "price ~ age + engineSize_1.0 + model_kodiaq + engineSize_2.0 + \n",
      "    transmission_manual + model_karoq + model_superb + mileage + \n",
      "    model_kamiq + fuelType_hybrid + mpg + fuelType_diesel + model_octavia + \n",
      "    model_scala + model_yeti_out + engineSize_1.9 + engineSize_1.6 + \n",
      "    model_citigo\n",
      "\n",
      "                         Df   Deviance   AIC\n",
      "+ tax                     1 1.4479e+10 83534\n",
      "+ engineSize_2.5          1 1.4514e+10 83545\n",
      "+ engineSize_1.2          1 1.4525e+10 83549\n",
      "+ model_yeti              1 1.4527e+10 83549\n",
      "+ engineSize_1.5          1 1.4532e+10 83551\n",
      "+ engineSize_1.8          1 1.4533e+10 83551\n",
      "+ model_roomster          1 1.4536e+10 83552\n",
      "<none>                      1.4547e+10 83554\n",
      "+ transmission_automatic  1 1.4541e+10 83554\n",
      "+ transmission_semiauto   1 1.4541e+10 83554\n",
      "+ model_fabia             1 1.4544e+10 83555\n",
      "+ transmission_other      1 1.4545e+10 83555\n",
      "+ fuelType_petrol         1 1.4546e+10 83556\n",
      "+ fuelType_other          1 1.4546e+10 83556\n",
      "+ model_rapid             1 1.4546e+10 83556\n",
      "+ engineSize_1.4          1 1.4547e+10 83556\n",
      "\n",
      "Step:  AIC=83533.85\n",
      "price ~ age + engineSize_1.0 + model_kodiaq + engineSize_2.0 + \n",
      "    transmission_manual + model_karoq + model_superb + mileage + \n",
      "    model_kamiq + fuelType_hybrid + mpg + fuelType_diesel + model_octavia + \n",
      "    model_scala + model_yeti_out + engineSize_1.9 + engineSize_1.6 + \n",
      "    model_citigo + tax\n",
      "\n",
      "                         Df   Deviance   AIC\n",
      "+ model_yeti              1 1.4446e+10 83525\n",
      "+ engineSize_2.5          1 1.4454e+10 83528\n",
      "+ engineSize_1.2          1 1.4465e+10 83531\n",
      "+ engineSize_1.5          1 1.4469e+10 83533\n",
      "+ engineSize_1.8          1 1.4469e+10 83533\n",
      "+ model_fabia             1 1.4472e+10 83534\n",
      "+ model_roomster          1 1.4472e+10 83534\n",
      "<none>                      1.4479e+10 83534\n",
      "+ transmission_automatic  1 1.4473e+10 83534\n",
      "+ transmission_semiauto   1 1.4473e+10 83534\n",
      "+ transmission_other      1 1.4477e+10 83535\n",
      "+ fuelType_petrol         1 1.4477e+10 83535\n",
      "+ fuelType_other          1 1.4477e+10 83535\n",
      "+ model_rapid             1 1.4477e+10 83535\n",
      "+ engineSize_1.4          1 1.4479e+10 83536\n",
      "\n",
      "Step:  AIC=83525.11\n",
      "price ~ age + engineSize_1.0 + model_kodiaq + engineSize_2.0 + \n",
      "    transmission_manual + model_karoq + model_superb + mileage + \n",
      "    model_kamiq + fuelType_hybrid + mpg + fuelType_diesel + model_octavia + \n",
      "    model_scala + model_yeti_out + engineSize_1.9 + engineSize_1.6 + \n",
      "    model_citigo + tax + model_yeti\n",
      "\n",
      "                         Df   Deviance   AIC\n",
      "+ engineSize_2.5          1 1.4423e+10 83520\n",
      "+ engineSize_1.2          1 1.4436e+10 83524\n",
      "+ engineSize_1.8          1 1.4437e+10 83524\n",
      "+ engineSize_1.5          1 1.4438e+10 83525\n",
      "+ transmission_automatic  1 1.4439e+10 83525\n",
      "+ transmission_semiauto   1 1.4439e+10 83525\n",
      "<none>                      1.4446e+10 83525\n",
      "+ model_roomster          1 1.4442e+10 83526\n",
      "+ transmission_other      1 1.4444e+10 83527\n",
      "+ fuelType_petrol         1 1.4444e+10 83527\n",
      "+ fuelType_other          1 1.4444e+10 83527\n",
      "+ model_fabia             1 1.4445e+10 83527\n",
      "+ engineSize_1.4          1 1.4445e+10 83527\n",
      "+ model_rapid             1 1.4445e+10 83527\n",
      "\n",
      "Step:  AIC=83519.81\n",
      "price ~ age + engineSize_1.0 + model_kodiaq + engineSize_2.0 + \n",
      "    transmission_manual + model_karoq + model_superb + mileage + \n",
      "    model_kamiq + fuelType_hybrid + mpg + fuelType_diesel + model_octavia + \n",
      "    model_scala + model_yeti_out + engineSize_1.9 + engineSize_1.6 + \n",
      "    model_citigo + tax + model_yeti + engineSize_2.5\n",
      "\n",
      "                         Df   Deviance   AIC\n",
      "+ engineSize_1.2          1 1.4413e+10 83518\n",
      "+ engineSize_1.8          1 1.4414e+10 83519\n",
      "+ engineSize_1.5          1 1.4415e+10 83519\n",
      "+ transmission_automatic  1 1.4417e+10 83520\n",
      "<none>                      1.4423e+10 83520\n",
      "+ transmission_semiauto   1 1.4417e+10 83520\n",
      "+ model_roomster          1 1.4419e+10 83520\n",
      "+ transmission_other      1 1.4422e+10 83521\n",
      "+ model_fabia             1 1.4422e+10 83521\n",
      "+ fuelType_petrol         1 1.4422e+10 83521\n",
      "+ fuelType_other          1 1.4422e+10 83521\n",
      "+ model_rapid             1 1.4423e+10 83522\n",
      "+ engineSize_1.4          1 1.4423e+10 83522\n",
      "\n",
      "Step:  AIC=83518.39\n",
      "price ~ age + engineSize_1.0 + model_kodiaq + engineSize_2.0 + \n",
      "    transmission_manual + model_karoq + model_superb + mileage + \n",
      "    model_kamiq + fuelType_hybrid + mpg + fuelType_diesel + model_octavia + \n",
      "    model_scala + model_yeti_out + engineSize_1.9 + engineSize_1.6 + \n",
      "    model_citigo + tax + model_yeti + engineSize_2.5 + engineSize_1.2\n",
      "\n",
      "                         Df   Deviance   AIC\n",
      "+ engineSize_1.8          1 1.4404e+10 83517\n",
      "+ transmission_automatic  1 1.4406e+10 83518\n",
      "+ transmission_semiauto   1 1.4406e+10 83518\n",
      "<none>                      1.4413e+10 83518\n",
      "+ model_roomster          1 1.4408e+10 83519\n",
      "+ engineSize_1.4          1 1.4409e+10 83519\n",
      "+ engineSize_1.5          1 1.4411e+10 83520\n",
      "+ transmission_other      1 1.4411e+10 83520\n",
      "+ fuelType_petrol         1 1.4412e+10 83520\n",
      "+ fuelType_other          1 1.4412e+10 83520\n",
      "+ model_fabia             1 1.4412e+10 83520\n",
      "+ model_rapid             1 1.4413e+10 83520\n",
      "\n",
      "Step:  AIC=83517.45\n",
      "price ~ age + engineSize_1.0 + model_kodiaq + engineSize_2.0 + \n",
      "    transmission_manual + model_karoq + model_superb + mileage + \n",
      "    model_kamiq + fuelType_hybrid + mpg + fuelType_diesel + model_octavia + \n",
      "    model_scala + model_yeti_out + engineSize_1.9 + engineSize_1.6 + \n",
      "    model_citigo + tax + model_yeti + engineSize_2.5 + engineSize_1.2 + \n",
      "    engineSize_1.8\n",
      "\n",
      "                         Df   Deviance   AIC\n",
      "+ transmission_automatic  1 1.4396e+10 83517\n",
      "+ transmission_semiauto   1 1.4397e+10 83517\n",
      "<none>                      1.4404e+10 83517\n",
      "+ model_roomster          1 1.4399e+10 83518\n",
      "+ engineSize_1.5          1 1.4401e+10 83519\n",
      "+ engineSize_1.4          1 1.4401e+10 83519\n",
      "+ transmission_other      1 1.4402e+10 83519\n",
      "+ fuelType_petrol         1 1.4403e+10 83519\n",
      "+ fuelType_other          1 1.4403e+10 83519\n",
      "+ model_fabia             1 1.4403e+10 83519\n",
      "+ model_rapid             1 1.4404e+10 83519\n",
      "\n",
      "Step:  AIC=83517.08\n",
      "price ~ age + engineSize_1.0 + model_kodiaq + engineSize_2.0 + \n",
      "    transmission_manual + model_karoq + model_superb + mileage + \n",
      "    model_kamiq + fuelType_hybrid + mpg + fuelType_diesel + model_octavia + \n",
      "    model_scala + model_yeti_out + engineSize_1.9 + engineSize_1.6 + \n",
      "    model_citigo + tax + model_yeti + engineSize_2.5 + engineSize_1.2 + \n",
      "    engineSize_1.8 + transmission_automatic\n",
      "\n",
      "                        Df   Deviance   AIC\n",
      "<none>                     1.4396e+10 83517\n",
      "+ model_roomster         1 1.4391e+10 83517\n",
      "+ engineSize_1.5         1 1.4393e+10 83518\n",
      "+ engineSize_1.4         1 1.4393e+10 83518\n",
      "+ transmission_semiauto  1 1.4395e+10 83519\n",
      "+ transmission_other     1 1.4395e+10 83519\n",
      "+ model_fabia            1 1.4395e+10 83519\n",
      "+ fuelType_petrol        1 1.4396e+10 83519\n",
      "+ fuelType_other         1 1.4396e+10 83519\n",
      "+ model_rapid            1 1.4396e+10 83519\n"
     ]
    }
   ],
   "source": [
    "model1 <- glm(price ~ 1, data = train)\n",
    "model2 <- glm(price ~ age, data = train)\n",
    "model3 <- glm(price ~ age + mileage, data = train)\n",
    "model4 <- glm(price ~., data = train)\n",
    "model5 <- step(model4, direction = \"backward\",)\n",
    "model6 <- step(model1, direction = \"forward\", scope = formula(model4))\n",
    "\n",
    "model <- list(model1, model2, model3, model4, model5, model6)"
   ]
  },
  {
   "cell_type": "code",
   "execution_count": 85,
   "id": "986d683a-af6c-4c74-ae77-b342fcc65835",
   "metadata": {},
   "outputs": [
    {
     "data": {
      "text/html": [
       "<ol class=list-inline>\n",
       "\t<li>39692849.6867718</li>\n",
       "\t<li>24801032.5275635</li>\n",
       "\t<li>24634505.6392651</li>\n",
       "\t<li>3135184.2343155</li>\n",
       "\t<li>3115744.56183385</li>\n",
       "\t<li>3114297.43109512</li>\n",
       "</ol>\n"
      ],
      "text/latex": [
       "\\begin{enumerate*}\n",
       "\\item 39692849.6867718\n",
       "\\item 24801032.5275635\n",
       "\\item 24634505.6392651\n",
       "\\item 3135184.2343155\n",
       "\\item 3115744.56183385\n",
       "\\item 3114297.43109512\n",
       "\\end{enumerate*}\n"
      ],
      "text/markdown": [
       "1. 39692849.6867718\n",
       "2. 24801032.5275635\n",
       "3. 24634505.6392651\n",
       "4. 3135184.2343155\n",
       "5. 3115744.56183385\n",
       "6. 3114297.43109512\n",
       "\n",
       "\n"
      ],
      "text/plain": [
       "[1] 39692850 24801033 24634506  3135184  3115745  3114297"
      ]
     },
     "metadata": {},
     "output_type": "display_data"
    }
   ],
   "source": [
    "options(warn=-1) # a few warnings appear below\n",
    "\n",
    "errors <- c()\n",
    "for(i in 1:length(model)){\n",
    "  errors[i] <- cv.glm(train, model[[i]], K=10)$delta[1]\n",
    "}\n",
    "\n",
    "errors\n",
    "\n",
    "options(warn=0)\n"
   ]
  },
  {
   "cell_type": "code",
   "execution_count": 87,
   "id": "30a9bc73-737d-4a60-93b2-b5d0ce350f67",
   "metadata": {},
   "outputs": [
    {
     "data": {
      "text/html": [
       "34"
      ],
      "text/latex": [
       "34"
      ],
      "text/markdown": [
       "34"
      ],
      "text/plain": [
       "[1] 34"
      ]
     },
     "metadata": {},
     "output_type": "display_data"
    },
    {
     "data": {
      "text/html": [
       "27"
      ],
      "text/latex": [
       "27"
      ],
      "text/markdown": [
       "27"
      ],
      "text/plain": [
       "[1] 27"
      ]
     },
     "metadata": {},
     "output_type": "display_data"
    },
    {
     "data": {
      "text/html": [
       "25"
      ],
      "text/latex": [
       "25"
      ],
      "text/markdown": [
       "25"
      ],
      "text/plain": [
       "[1] 25"
      ]
     },
     "metadata": {},
     "output_type": "display_data"
    }
   ],
   "source": [
    "length(names(model4$coefficients)) #34\n",
    "length(names(model5$coefficients)) #27\n",
    "length(names(model6$coefficients)) #25"
   ]
  },
  {
   "cell_type": "code",
   "execution_count": 89,
   "id": "72fa0944-0703-435b-a2eb-f812e5a4b53b",
   "metadata": {
    "scrolled": true
   },
   "outputs": [
    {
     "data": {
      "text/plain": [
       "price ~ mileage + tax + mpg + age + model_octavia + model_citigo + \n",
       "    model_yeti_out + model_kodiaq + model_rapid + model_karoq + \n",
       "    model_fabia + model_yeti + model_scala + model_roomster + \n",
       "    transmission_automatic + transmission_semiauto + fuelType_diesel + \n",
       "    fuelType_hybrid + engineSize_2.0 + engineSize_1.2 + engineSize_1.6 + \n",
       "    engineSize_1.0 + engineSize_1.5 + engineSize_1.4 + engineSize_1.9 + \n",
       "    engineSize_1.8"
      ]
     },
     "metadata": {},
     "output_type": "display_data"
    },
    {
     "data": {
      "text/plain": [
       "price ~ age + engineSize_1.0 + model_kodiaq + engineSize_2.0 + \n",
       "    transmission_manual + model_karoq + model_superb + mileage + \n",
       "    model_kamiq + fuelType_hybrid + mpg + fuelType_diesel + model_octavia + \n",
       "    model_scala + model_yeti_out + engineSize_1.9 + engineSize_1.6 + \n",
       "    model_citigo + tax + model_yeti + engineSize_2.5 + engineSize_1.2 + \n",
       "    engineSize_1.8 + transmission_automatic"
      ]
     },
     "metadata": {},
     "output_type": "display_data"
    }
   ],
   "source": [
    "formula(model5)\n",
    "formula(model6)"
   ]
  },
  {
   "cell_type": "code",
   "execution_count": 91,
   "id": "f82f15f1-77c9-4355-9cae-c57d1f3d2a77",
   "metadata": {
    "scrolled": true
   },
   "outputs": [
    {
     "data": {
      "text/plain": [
       "\n",
       "Call:\n",
       "glm(formula = price ~ age + engineSize_1.0 + model_kodiaq + engineSize_2.0 + \n",
       "    transmission_manual + model_karoq + model_superb + mileage + \n",
       "    model_kamiq + fuelType_hybrid + mpg + fuelType_diesel + model_octavia + \n",
       "    model_scala + model_yeti_out + engineSize_1.9 + engineSize_1.6 + \n",
       "    model_citigo + tax + model_yeti + engineSize_2.5 + engineSize_1.2 + \n",
       "    engineSize_1.8 + transmission_automatic, data = train)\n",
       "\n",
       "Deviance Residuals: \n",
       "    Min       1Q   Median       3Q      Max  \n",
       "-9054.3  -1047.4    -86.5    926.1  11788.9  \n",
       "\n",
       "Coefficients:\n",
       "                         Estimate Std. Error t value Pr(>|t|)    \n",
       "(Intercept)             2.592e+04  3.500e+02  74.056  < 2e-16 ***\n",
       "age                    -9.703e+02  2.523e+01 -38.457  < 2e-16 ***\n",
       "engineSize_1.0         -7.715e+02  1.160e+02  -6.651 3.23e-11 ***\n",
       "model_kodiaq            7.737e+03  1.669e+02  46.359  < 2e-16 ***\n",
       "engineSize_2.0          2.429e+03  1.369e+02  17.745  < 2e-16 ***\n",
       "transmission_manual    -1.395e+03  7.166e+01 -19.463  < 2e-16 ***\n",
       "model_karoq             5.636e+03  1.461e+02  38.590  < 2e-16 ***\n",
       "model_superb            4.130e+03  1.315e+02  31.415  < 2e-16 ***\n",
       "mileage                -6.196e-02  2.082e-03 -29.751  < 2e-16 ***\n",
       "model_kamiq             4.195e+03  1.976e+02  21.233  < 2e-16 ***\n",
       "fuelType_hybrid         3.591e+04  9.149e+02  39.252  < 2e-16 ***\n",
       "mpg                    -1.759e+02  5.436e+00 -32.351  < 2e-16 ***\n",
       "fuelType_diesel         1.130e+03  1.523e+02   7.417 1.42e-13 ***\n",
       "model_octavia           1.996e+03  1.065e+02  18.743  < 2e-16 ***\n",
       "model_scala             1.933e+03  1.701e+02  11.362  < 2e-16 ***\n",
       "model_yeti_out          9.767e+02  1.292e+02   7.559 4.87e-14 ***\n",
       "engineSize_1.9          5.943e+03  8.392e+02   7.082 1.63e-12 ***\n",
       "engineSize_1.6          9.670e+02  1.531e+02   6.316 2.93e-10 ***\n",
       "model_citigo           -5.867e+02  1.180e+02  -4.974 6.80e-07 ***\n",
       "tax                    -2.859e+00  6.484e-01  -4.409 1.06e-05 ***\n",
       "model_yeti              5.761e+02  1.979e+02   2.912  0.00361 ** \n",
       "engineSize_2.5         -4.933e+03  1.795e+03  -2.748  0.00602 ** \n",
       "engineSize_1.2          2.405e+02  1.272e+02   1.891  0.05868 .  \n",
       "engineSize_1.8         -1.791e+03  1.027e+03  -1.745  0.08107 .  \n",
       "transmission_automatic  1.396e+02  9.078e+01   1.538  0.12421    \n",
       "---\n",
       "Signif. codes:  0 '***' 0.001 '**' 0.01 '*' 0.05 '.' 0.1 ' ' 1\n",
       "\n",
       "(Dispersion parameter for gaussian family taken to be 3082078)\n",
       "\n",
       "    Null deviance: 1.8628e+11  on 4695  degrees of freedom\n",
       "Residual deviance: 1.4396e+10  on 4671  degrees of freedom\n",
       "AIC: 83517\n",
       "\n",
       "Number of Fisher Scoring iterations: 2\n"
      ]
     },
     "metadata": {},
     "output_type": "display_data"
    }
   ],
   "source": [
    "summary(model6)"
   ]
  },
  {
   "cell_type": "markdown",
   "id": "ad05887c-6285-4686-aa12-48b0c74ca7e5",
   "metadata": {},
   "source": [
    "#### Prediction"
   ]
  },
  {
   "cell_type": "code",
   "execution_count": 94,
   "id": "c4c5f93c-8153-4c24-a396-e5cc61f6ac79",
   "metadata": {},
   "outputs": [],
   "source": [
    "prediction <- predict.glm(model6, test)"
   ]
  },
  {
   "cell_type": "code",
   "execution_count": 96,
   "id": "3d3641c8-6197-434d-bd92-752e9b17dba6",
   "metadata": {},
   "outputs": [
    {
     "data": {
      "text/html": [
       "<dl class=dl-horizontal>\n",
       "\t<dt>491</dt>\n",
       "\t\t<dd>8997.68157137511</dd>\n",
       "\t<dt>440</dt>\n",
       "\t\t<dd>11488.9439261128</dd>\n",
       "\t<dt>89</dt>\n",
       "\t\t<dd>9945.82563727423</dd>\n",
       "\t<dt>5075</dt>\n",
       "\t\t<dd>7379.08994247537</dd>\n",
       "\t<dt>508</dt>\n",
       "\t\t<dd>13855.3529804224</dd>\n",
       "\t<dt>2197</dt>\n",
       "\t\t<dd>14132.0026955248</dd>\n",
       "</dl>\n"
      ],
      "text/latex": [
       "\\begin{description*}\n",
       "\\item[491] 8997.68157137511\n",
       "\\item[440] 11488.9439261128\n",
       "\\item[89] 9945.82563727423\n",
       "\\item[5075] 7379.08994247537\n",
       "\\item[508] 13855.3529804224\n",
       "\\item[2197] 14132.0026955248\n",
       "\\end{description*}\n"
      ],
      "text/markdown": [
       "491\n",
       ":   8997.68157137511440\n",
       ":   11488.943926112889\n",
       ":   9945.825637274235075\n",
       ":   7379.08994247537508\n",
       ":   13855.35298042242197\n",
       ":   14132.0026955248\n",
       "\n"
      ],
      "text/plain": [
       "      491       440        89      5075       508      2197 \n",
       " 8997.682 11488.944  9945.826  7379.090 13855.353 14132.003 "
      ]
     },
     "metadata": {},
     "output_type": "display_data"
    }
   ],
   "source": [
    "head(prediction)"
   ]
  },
  {
   "cell_type": "code",
   "execution_count": 98,
   "id": "3ccbd98c-40b9-45ff-9d8d-2d1e808a5bab",
   "metadata": {},
   "outputs": [
    {
     "data": {
      "text/html": [
       "<ol class=list-inline>\n",
       "\t<li>7599</li>\n",
       "\t<li>11998</li>\n",
       "\t<li>10700</li>\n",
       "\t<li>6500</li>\n",
       "\t<li>11910</li>\n",
       "\t<li>12999</li>\n",
       "</ol>\n"
      ],
      "text/latex": [
       "\\begin{enumerate*}\n",
       "\\item 7599\n",
       "\\item 11998\n",
       "\\item 10700\n",
       "\\item 6500\n",
       "\\item 11910\n",
       "\\item 12999\n",
       "\\end{enumerate*}\n"
      ],
      "text/markdown": [
       "1. 7599\n",
       "2. 11998\n",
       "3. 10700\n",
       "4. 6500\n",
       "5. 11910\n",
       "6. 12999\n",
       "\n",
       "\n"
      ],
      "text/plain": [
       "[1]  7599 11998 10700  6500 11910 12999"
      ]
     },
     "metadata": {},
     "output_type": "display_data"
    }
   ],
   "source": [
    "head(test$price)"
   ]
  },
  {
   "cell_type": "code",
   "execution_count": 100,
   "id": "596f3ac2-3b73-417a-94cb-87f497e0f1be",
   "metadata": {},
   "outputs": [
    {
     "data": {
      "text/html": [
       "2778570.89004378"
      ],
      "text/latex": [
       "2778570.89004378"
      ],
      "text/markdown": [
       "2778570.89004378"
      ],
      "text/plain": [
       "[1] 2778571"
      ]
     },
     "metadata": {},
     "output_type": "display_data"
    }
   ],
   "source": [
    "mse_lm <- mean((prediction-test$price)**2)\n",
    "mse_lm\n",
    "# 2778571"
   ]
  },
  {
   "cell_type": "code",
   "execution_count": 102,
   "id": "fc8333bc-4e09-4511-82ca-3d42790a810d",
   "metadata": {},
   "outputs": [
    {
     "data": {
      "text/html": [
       "1250.02611968375"
      ],
      "text/latex": [
       "1250.02611968375"
      ],
      "text/markdown": [
       "1250.02611968375"
      ],
      "text/plain": [
       "[1] 1250.026"
      ]
     },
     "metadata": {},
     "output_type": "display_data"
    }
   ],
   "source": [
    "mae_lm <- mean(abs(prediction-test$price))\n",
    "mae_lm\n",
    "# 1250.026"
   ]
  },
  {
   "cell_type": "markdown",
   "id": "6f3cbfa3-71b7-44e0-a482-a7a0acf777c8",
   "metadata": {},
   "source": [
    "### 5. Boostrap\n"
   ]
  },
  {
   "cell_type": "code",
   "execution_count": 105,
   "id": "1e66a625-3f8d-4204-b33d-8b32558b1574",
   "metadata": {},
   "outputs": [],
   "source": [
    "boot.fn <- function(data, index){\n",
    "  coef(glm(price ~ age + engineSize_1.0 + model_kodiaq + engineSize_2.0 + \n",
    "             transmission_manual + model_karoq + model_superb + mileage + \n",
    "             model_kamiq + fuelType_hybrid + mpg + fuelType_diesel + model_octavia + \n",
    "             model_scala + model_yeti_out + engineSize_1.9 + engineSize_1.6 + \n",
    "             model_citigo + tax + model_yeti + engineSize_2.5 + engineSize_1.2 + \n",
    "             engineSize_1.8 + transmission_automatic, data = data, subset = index))\n",
    "}\n",
    "\n",
    "len_train <- length(train$price)"
   ]
  },
  {
   "cell_type": "markdown",
   "id": "37ce0d13-e4df-41e6-82c1-6ca7c5b47ae4",
   "metadata": {},
   "source": [
    "#### Coefficient estimation – full dataset"
   ]
  },
  {
   "cell_type": "code",
   "execution_count": 108,
   "id": "614825e8-299a-45cf-99d8-d6a5e34cd1cb",
   "metadata": {
    "scrolled": true
   },
   "outputs": [
    {
     "data": {
      "text/html": [
       "<dl class=dl-horizontal>\n",
       "\t<dt>(Intercept)</dt>\n",
       "\t\t<dd>25919.9046060817</dd>\n",
       "\t<dt>age</dt>\n",
       "\t\t<dd>-970.315710525451</dd>\n",
       "\t<dt>engineSize_1.0</dt>\n",
       "\t\t<dd>-771.485589548139</dd>\n",
       "\t<dt>model_kodiaq</dt>\n",
       "\t\t<dd>7737.31875928401</dd>\n",
       "\t<dt>engineSize_2.0</dt>\n",
       "\t\t<dd>2429.25068891455</dd>\n",
       "\t<dt>transmission_manual</dt>\n",
       "\t\t<dd>-1394.67987636238</dd>\n",
       "\t<dt>model_karoq</dt>\n",
       "\t\t<dd>5636.37022664956</dd>\n",
       "\t<dt>model_superb</dt>\n",
       "\t\t<dd>4129.78766002762</dd>\n",
       "\t<dt>mileage</dt>\n",
       "\t\t<dd>-0.0619565233464763</dd>\n",
       "\t<dt>model_kamiq</dt>\n",
       "\t\t<dd>4195.43520953397</dd>\n",
       "\t<dt>fuelType_hybrid</dt>\n",
       "\t\t<dd>35912.4271776753</dd>\n",
       "\t<dt>mpg</dt>\n",
       "\t\t<dd>-175.865021118666</dd>\n",
       "\t<dt>fuelType_diesel</dt>\n",
       "\t\t<dd>1129.56192456429</dd>\n",
       "\t<dt>model_octavia</dt>\n",
       "\t\t<dd>1996.18794179281</dd>\n",
       "\t<dt>model_scala</dt>\n",
       "\t\t<dd>1933.21703637609</dd>\n",
       "\t<dt>model_yeti_out</dt>\n",
       "\t\t<dd>976.655500015284</dd>\n",
       "\t<dt>engineSize_1.9</dt>\n",
       "\t\t<dd>5943.00772281042</dd>\n",
       "\t<dt>engineSize_1.6</dt>\n",
       "\t\t<dd>966.954432482448</dd>\n",
       "\t<dt>model_citigo</dt>\n",
       "\t\t<dd>-586.747749460676</dd>\n",
       "\t<dt>tax</dt>\n",
       "\t\t<dd>-2.85916634598044</dd>\n",
       "\t<dt>model_yeti</dt>\n",
       "\t\t<dd>576.09083609593</dd>\n",
       "\t<dt>engineSize_2.5</dt>\n",
       "\t\t<dd>-4932.99653806646</dd>\n",
       "\t<dt>engineSize_1.2</dt>\n",
       "\t\t<dd>240.549758745497</dd>\n",
       "\t<dt>engineSize_1.8</dt>\n",
       "\t\t<dd>-1791.13817229103</dd>\n",
       "\t<dt>transmission_automatic</dt>\n",
       "\t\t<dd>139.582862468458</dd>\n",
       "</dl>\n"
      ],
      "text/latex": [
       "\\begin{description*}\n",
       "\\item[(Intercept)] 25919.9046060817\n",
       "\\item[age] -970.315710525451\n",
       "\\item[engineSize\\textbackslash{}\\_1.0] -771.485589548139\n",
       "\\item[model\\textbackslash{}\\_kodiaq] 7737.31875928401\n",
       "\\item[engineSize\\textbackslash{}\\_2.0] 2429.25068891455\n",
       "\\item[transmission\\textbackslash{}\\_manual] -1394.67987636238\n",
       "\\item[model\\textbackslash{}\\_karoq] 5636.37022664956\n",
       "\\item[model\\textbackslash{}\\_superb] 4129.78766002762\n",
       "\\item[mileage] -0.0619565233464763\n",
       "\\item[model\\textbackslash{}\\_kamiq] 4195.43520953397\n",
       "\\item[fuelType\\textbackslash{}\\_hybrid] 35912.4271776753\n",
       "\\item[mpg] -175.865021118666\n",
       "\\item[fuelType\\textbackslash{}\\_diesel] 1129.56192456429\n",
       "\\item[model\\textbackslash{}\\_octavia] 1996.18794179281\n",
       "\\item[model\\textbackslash{}\\_scala] 1933.21703637609\n",
       "\\item[model\\textbackslash{}\\_yeti\\textbackslash{}\\_out] 976.655500015284\n",
       "\\item[engineSize\\textbackslash{}\\_1.9] 5943.00772281042\n",
       "\\item[engineSize\\textbackslash{}\\_1.6] 966.954432482448\n",
       "\\item[model\\textbackslash{}\\_citigo] -586.747749460676\n",
       "\\item[tax] -2.85916634598044\n",
       "\\item[model\\textbackslash{}\\_yeti] 576.09083609593\n",
       "\\item[engineSize\\textbackslash{}\\_2.5] -4932.99653806646\n",
       "\\item[engineSize\\textbackslash{}\\_1.2] 240.549758745497\n",
       "\\item[engineSize\\textbackslash{}\\_1.8] -1791.13817229103\n",
       "\\item[transmission\\textbackslash{}\\_automatic] 139.582862468458\n",
       "\\end{description*}\n"
      ],
      "text/markdown": [
       "(Intercept)\n",
       ":   25919.9046060817age\n",
       ":   -970.315710525451engineSize_1.0\n",
       ":   -771.485589548139model_kodiaq\n",
       ":   7737.31875928401engineSize_2.0\n",
       ":   2429.25068891455transmission_manual\n",
       ":   -1394.67987636238model_karoq\n",
       ":   5636.37022664956model_superb\n",
       ":   4129.78766002762mileage\n",
       ":   -0.0619565233464763model_kamiq\n",
       ":   4195.43520953397fuelType_hybrid\n",
       ":   35912.4271776753mpg\n",
       ":   -175.865021118666fuelType_diesel\n",
       ":   1129.56192456429model_octavia\n",
       ":   1996.18794179281model_scala\n",
       ":   1933.21703637609model_yeti_out\n",
       ":   976.655500015284engineSize_1.9\n",
       ":   5943.00772281042engineSize_1.6\n",
       ":   966.954432482448model_citigo\n",
       ":   -586.747749460676tax\n",
       ":   -2.85916634598044model_yeti\n",
       ":   576.09083609593engineSize_2.5\n",
       ":   -4932.99653806646engineSize_1.2\n",
       ":   240.549758745497engineSize_1.8\n",
       ":   -1791.13817229103transmission_automatic\n",
       ":   139.582862468458\n",
       "\n"
      ],
      "text/plain": [
       "           (Intercept)                    age         engineSize_1.0 \n",
       "          2.591990e+04          -9.703157e+02          -7.714856e+02 \n",
       "          model_kodiaq         engineSize_2.0    transmission_manual \n",
       "          7.737319e+03           2.429251e+03          -1.394680e+03 \n",
       "           model_karoq           model_superb                mileage \n",
       "          5.636370e+03           4.129788e+03          -6.195652e-02 \n",
       "           model_kamiq        fuelType_hybrid                    mpg \n",
       "          4.195435e+03           3.591243e+04          -1.758650e+02 \n",
       "       fuelType_diesel          model_octavia            model_scala \n",
       "          1.129562e+03           1.996188e+03           1.933217e+03 \n",
       "        model_yeti_out         engineSize_1.9         engineSize_1.6 \n",
       "          9.766555e+02           5.943008e+03           9.669544e+02 \n",
       "          model_citigo                    tax             model_yeti \n",
       "         -5.867477e+02          -2.859166e+00           5.760908e+02 \n",
       "        engineSize_2.5         engineSize_1.2         engineSize_1.8 \n",
       "         -4.932997e+03           2.405498e+02          -1.791138e+03 \n",
       "transmission_automatic \n",
       "          1.395829e+02 "
      ]
     },
     "metadata": {},
     "output_type": "display_data"
    }
   ],
   "source": [
    "a <- boot.fn(train, 1:len_train)\n",
    "a"
   ]
  },
  {
   "cell_type": "markdown",
   "id": "d667e33a-0f9c-4397-92d0-a3a60be25269",
   "metadata": {},
   "source": [
    "#### Coefficient estimation – bootstrap version"
   ]
  },
  {
   "cell_type": "code",
   "execution_count": 111,
   "id": "15785aca-ef3e-4518-b034-e6a3ffa36119",
   "metadata": {
    "scrolled": true
   },
   "outputs": [
    {
     "data": {
      "text/html": [
       "<dl class=dl-horizontal>\n",
       "\t<dt>(Intercept)</dt>\n",
       "\t\t<dd>25523.0479071979</dd>\n",
       "\t<dt>age</dt>\n",
       "\t\t<dd>-939.538516533159</dd>\n",
       "\t<dt>engineSize_1.0</dt>\n",
       "\t\t<dd>-773.188420010269</dd>\n",
       "\t<dt>model_kodiaq</dt>\n",
       "\t\t<dd>8063.45991757845</dd>\n",
       "\t<dt>engineSize_2.0</dt>\n",
       "\t\t<dd>2405.99866026479</dd>\n",
       "\t<dt>transmission_manual</dt>\n",
       "\t\t<dd>-1440.97755694273</dd>\n",
       "\t<dt>model_karoq</dt>\n",
       "\t\t<dd>5723.40083818612</dd>\n",
       "\t<dt>model_superb</dt>\n",
       "\t\t<dd>4208.16679040977</dd>\n",
       "\t<dt>mileage</dt>\n",
       "\t\t<dd>-0.0631457602616686</dd>\n",
       "\t<dt>model_kamiq</dt>\n",
       "\t\t<dd>4491.21406273887</dd>\n",
       "\t<dt>fuelType_hybrid</dt>\n",
       "\t\t<dd>35781.3880712758</dd>\n",
       "\t<dt>mpg</dt>\n",
       "\t\t<dd>-169.557353999979</dd>\n",
       "\t<dt>fuelType_diesel</dt>\n",
       "\t\t<dd>1068.65298016292</dd>\n",
       "\t<dt>model_octavia</dt>\n",
       "\t\t<dd>2146.31630451363</dd>\n",
       "\t<dt>model_scala</dt>\n",
       "\t\t<dd>2011.39246929168</dd>\n",
       "\t<dt>model_yeti_out</dt>\n",
       "\t\t<dd>878.799054785359</dd>\n",
       "\t<dt>engineSize_1.9</dt>\n",
       "\t\t<dd>4175.31542778053</dd>\n",
       "\t<dt>engineSize_1.6</dt>\n",
       "\t\t<dd>997.204274811918</dd>\n",
       "\t<dt>model_citigo</dt>\n",
       "\t\t<dd>-596.32704318224</dd>\n",
       "\t<dt>tax</dt>\n",
       "\t\t<dd>-3.52117921986661</dd>\n",
       "\t<dt>model_yeti</dt>\n",
       "\t\t<dd>514.467820510038</dd>\n",
       "\t<dt>engineSize_2.5</dt>\n",
       "\t\t<dd>-4908.47971088522</dd>\n",
       "\t<dt>engineSize_1.2</dt>\n",
       "\t\t<dd>373.90573384716</dd>\n",
       "\t<dt>engineSize_1.8</dt>\n",
       "\t\t<dd>-1801.10920375136</dd>\n",
       "\t<dt>transmission_automatic</dt>\n",
       "\t\t<dd>207.129751365012</dd>\n",
       "</dl>\n"
      ],
      "text/latex": [
       "\\begin{description*}\n",
       "\\item[(Intercept)] 25523.0479071979\n",
       "\\item[age] -939.538516533159\n",
       "\\item[engineSize\\textbackslash{}\\_1.0] -773.188420010269\n",
       "\\item[model\\textbackslash{}\\_kodiaq] 8063.45991757845\n",
       "\\item[engineSize\\textbackslash{}\\_2.0] 2405.99866026479\n",
       "\\item[transmission\\textbackslash{}\\_manual] -1440.97755694273\n",
       "\\item[model\\textbackslash{}\\_karoq] 5723.40083818612\n",
       "\\item[model\\textbackslash{}\\_superb] 4208.16679040977\n",
       "\\item[mileage] -0.0631457602616686\n",
       "\\item[model\\textbackslash{}\\_kamiq] 4491.21406273887\n",
       "\\item[fuelType\\textbackslash{}\\_hybrid] 35781.3880712758\n",
       "\\item[mpg] -169.557353999979\n",
       "\\item[fuelType\\textbackslash{}\\_diesel] 1068.65298016292\n",
       "\\item[model\\textbackslash{}\\_octavia] 2146.31630451363\n",
       "\\item[model\\textbackslash{}\\_scala] 2011.39246929168\n",
       "\\item[model\\textbackslash{}\\_yeti\\textbackslash{}\\_out] 878.799054785359\n",
       "\\item[engineSize\\textbackslash{}\\_1.9] 4175.31542778053\n",
       "\\item[engineSize\\textbackslash{}\\_1.6] 997.204274811918\n",
       "\\item[model\\textbackslash{}\\_citigo] -596.32704318224\n",
       "\\item[tax] -3.52117921986661\n",
       "\\item[model\\textbackslash{}\\_yeti] 514.467820510038\n",
       "\\item[engineSize\\textbackslash{}\\_2.5] -4908.47971088522\n",
       "\\item[engineSize\\textbackslash{}\\_1.2] 373.90573384716\n",
       "\\item[engineSize\\textbackslash{}\\_1.8] -1801.10920375136\n",
       "\\item[transmission\\textbackslash{}\\_automatic] 207.129751365012\n",
       "\\end{description*}\n"
      ],
      "text/markdown": [
       "(Intercept)\n",
       ":   25523.0479071979age\n",
       ":   -939.538516533159engineSize_1.0\n",
       ":   -773.188420010269model_kodiaq\n",
       ":   8063.45991757845engineSize_2.0\n",
       ":   2405.99866026479transmission_manual\n",
       ":   -1440.97755694273model_karoq\n",
       ":   5723.40083818612model_superb\n",
       ":   4208.16679040977mileage\n",
       ":   -0.0631457602616686model_kamiq\n",
       ":   4491.21406273887fuelType_hybrid\n",
       ":   35781.3880712758mpg\n",
       ":   -169.557353999979fuelType_diesel\n",
       ":   1068.65298016292model_octavia\n",
       ":   2146.31630451363model_scala\n",
       ":   2011.39246929168model_yeti_out\n",
       ":   878.799054785359engineSize_1.9\n",
       ":   4175.31542778053engineSize_1.6\n",
       ":   997.204274811918model_citigo\n",
       ":   -596.32704318224tax\n",
       ":   -3.52117921986661model_yeti\n",
       ":   514.467820510038engineSize_2.5\n",
       ":   -4908.47971088522engineSize_1.2\n",
       ":   373.90573384716engineSize_1.8\n",
       ":   -1801.10920375136transmission_automatic\n",
       ":   207.129751365012\n",
       "\n"
      ],
      "text/plain": [
       "           (Intercept)                    age         engineSize_1.0 \n",
       "          2.552305e+04          -9.395385e+02          -7.731884e+02 \n",
       "          model_kodiaq         engineSize_2.0    transmission_manual \n",
       "          8.063460e+03           2.405999e+03          -1.440978e+03 \n",
       "           model_karoq           model_superb                mileage \n",
       "          5.723401e+03           4.208167e+03          -6.314576e-02 \n",
       "           model_kamiq        fuelType_hybrid                    mpg \n",
       "          4.491214e+03           3.578139e+04          -1.695574e+02 \n",
       "       fuelType_diesel          model_octavia            model_scala \n",
       "          1.068653e+03           2.146316e+03           2.011392e+03 \n",
       "        model_yeti_out         engineSize_1.9         engineSize_1.6 \n",
       "          8.787991e+02           4.175315e+03           9.972043e+02 \n",
       "          model_citigo                    tax             model_yeti \n",
       "         -5.963270e+02          -3.521179e+00           5.144678e+02 \n",
       "        engineSize_2.5         engineSize_1.2         engineSize_1.8 \n",
       "         -4.908480e+03           3.739057e+02          -1.801109e+03 \n",
       "transmission_automatic \n",
       "          2.071298e+02 "
      ]
     },
     "metadata": {},
     "output_type": "display_data"
    }
   ],
   "source": [
    "b <- boot.fn(train, sample(len_train,len_train, replace=T))\n",
    "b"
   ]
  },
  {
   "cell_type": "code",
   "execution_count": 113,
   "id": "43698e34-5df9-49cd-ac89-d781f6bc3841",
   "metadata": {},
   "outputs": [
    {
     "data": {
      "text/plain": [
       "     Min.   1st Qu.    Median      Mean   3rd Qu.      Max. \n",
       "   0.0012   23.2520   61.6230  156.6332  131.0391 1767.6923 "
      ]
     },
     "metadata": {},
     "output_type": "display_data"
    }
   ],
   "source": [
    "summary(abs(a-b))"
   ]
  },
  {
   "cell_type": "markdown",
   "id": "7b023f0c-a01b-4e7a-827d-dff299ba84e7",
   "metadata": {},
   "source": [
    "#### Estimation of standard deviations using the bootstrap method"
   ]
  },
  {
   "cell_type": "code",
   "execution_count": 116,
   "id": "a92c85e5-1204-41f1-a078-c358e689f3e4",
   "metadata": {
    "scrolled": true
   },
   "outputs": [
    {
     "data": {
      "text/plain": [
       "\n",
       "ORDINARY NONPARAMETRIC BOOTSTRAP\n",
       "\n",
       "\n",
       "Call:\n",
       "boot(data = train, statistic = boot.fn, R = 1000)\n",
       "\n",
       "\n",
       "Bootstrap Statistics :\n",
       "          original        bias     std. error\n",
       "t1*   2.591990e+04 -27.426518328 4.427050e+02\n",
       "t2*  -9.703157e+02   2.865252148 3.490322e+01\n",
       "t3*  -7.714856e+02   2.443283874 1.109009e+02\n",
       "t4*   7.737319e+03   5.892184218 2.085529e+02\n",
       "t5*   2.429251e+03   7.631179015 1.749536e+02\n",
       "t6*  -1.394680e+03  -3.075400752 6.501293e+01\n",
       "t7*   5.636370e+03   9.694379877 1.612438e+02\n",
       "t8*   4.129788e+03  10.015712258 1.381014e+02\n",
       "t9*  -6.195652e-02  -0.000563187 2.800996e-03\n",
       "t10*  4.195435e+03  -1.092690703 1.731741e+02\n",
       "t11*  3.591243e+04 -82.922726858 1.206382e+03\n",
       "t12* -1.758650e+02   0.522997390 7.147052e+00\n",
       "t13*  1.129562e+03  -6.133553865 2.057387e+02\n",
       "t14*  1.996188e+03   3.716724941 9.217863e+01\n",
       "t15*  1.933217e+03   4.926847199 1.498338e+02\n",
       "t16*  9.766555e+02   7.729443277 1.102434e+02\n",
       "t17*  5.943008e+03  63.216107860 1.997475e+03\n",
       "t18*  9.669544e+02   4.447903255 1.775829e+02\n",
       "t19* -5.867477e+02  -1.785480137 8.995398e+01\n",
       "t20* -2.859166e+00  -0.011929998 6.498595e-01\n",
       "t21*  5.760908e+02   5.846694591 1.536177e+02\n",
       "t22* -4.932997e+03   7.938205489 5.569501e+02\n",
       "t23*  2.405498e+02   1.113249734 1.223726e+02\n",
       "t24* -1.791138e+03 -24.794454019 1.146688e+03\n",
       "t25*  1.395829e+02  -5.625723271 1.043242e+02"
      ]
     },
     "metadata": {},
     "output_type": "display_data"
    }
   ],
   "source": [
    "boot.est <- boot(train, boot.fn, 1000)\n",
    "boot.est"
   ]
  },
  {
   "cell_type": "code",
   "execution_count": 117,
   "id": "df50a8ba-a82a-4235-bc87-7405fe909418",
   "metadata": {
    "scrolled": true
   },
   "outputs": [
    {
     "data": {
      "text/html": [
       "<table>\n",
       "<thead><tr><th></th><th scope=col>Estimate</th><th scope=col>Std. Error</th><th scope=col>t value</th><th scope=col>Pr(&gt;|t|)</th></tr></thead>\n",
       "<tbody>\n",
       "\t<tr><th scope=row>(Intercept)</th><td> 2.591990e+04</td><td>3.500033e+02 </td><td> 74.056163   </td><td> 0.000000e+00</td></tr>\n",
       "\t<tr><th scope=row>age</th><td>-9.703157e+02</td><td>2.523131e+01 </td><td>-38.456807   </td><td>2.385057e-281</td></tr>\n",
       "\t<tr><th scope=row>engineSize_1.0</th><td>-7.714856e+02</td><td>1.159868e+02 </td><td> -6.651495   </td><td> 3.234699e-11</td></tr>\n",
       "\t<tr><th scope=row>model_kodiaq</th><td> 7.737319e+03</td><td>1.669015e+02 </td><td> 46.358605   </td><td> 0.000000e+00</td></tr>\n",
       "\t<tr><th scope=row>engineSize_2.0</th><td> 2.429251e+03</td><td>1.368999e+02 </td><td> 17.744723   </td><td> 3.142969e-68</td></tr>\n",
       "\t<tr><th scope=row>transmission_manual</th><td>-1.394680e+03</td><td>7.165981e+01 </td><td>-19.462512   </td><td> 3.471761e-81</td></tr>\n",
       "\t<tr><th scope=row>model_karoq</th><td> 5.636370e+03</td><td>1.460559e+02 </td><td> 38.590494   </td><td>4.775123e-283</td></tr>\n",
       "\t<tr><th scope=row>model_superb</th><td> 4.129788e+03</td><td>1.314594e+02 </td><td> 31.414935   </td><td>1.063320e-196</td></tr>\n",
       "\t<tr><th scope=row>mileage</th><td>-6.195652e-02</td><td>2.082484e-03 </td><td>-29.751258   </td><td>2.851468e-178</td></tr>\n",
       "\t<tr><th scope=row>model_kamiq</th><td> 4.195435e+03</td><td>1.975924e+02 </td><td> 21.232773   </td><td> 1.374423e-95</td></tr>\n",
       "\t<tr><th scope=row>fuelType_hybrid</th><td> 3.591243e+04</td><td>9.149241e+02 </td><td> 39.251812   </td><td>1.708383e-291</td></tr>\n",
       "\t<tr><th scope=row>mpg</th><td>-1.758650e+02</td><td>5.436162e+00 </td><td>-32.350954   </td><td>2.356671e-207</td></tr>\n",
       "\t<tr><th scope=row>fuelType_diesel</th><td> 1.129562e+03</td><td>1.523018e+02 </td><td>  7.416601   </td><td> 1.419312e-13</td></tr>\n",
       "\t<tr><th scope=row>model_octavia</th><td> 1.996188e+03</td><td>1.065050e+02 </td><td> 18.742668   </td><td> 1.243676e-75</td></tr>\n",
       "\t<tr><th scope=row>model_scala</th><td> 1.933217e+03</td><td>1.701405e+02 </td><td> 11.362476   </td><td> 1.565065e-29</td></tr>\n",
       "\t<tr><th scope=row>model_yeti_out</th><td> 9.766555e+02</td><td>1.292096e+02 </td><td>  7.558690   </td><td> 4.871194e-14</td></tr>\n",
       "\t<tr><th scope=row>engineSize_1.9</th><td> 5.943008e+03</td><td>8.391801e+02 </td><td>  7.081922   </td><td> 1.633643e-12</td></tr>\n",
       "\t<tr><th scope=row>engineSize_1.6</th><td> 9.669544e+02</td><td>1.530974e+02 </td><td>  6.315943   </td><td> 2.934812e-10</td></tr>\n",
       "\t<tr><th scope=row>model_citigo</th><td>-5.867477e+02</td><td>1.179667e+02 </td><td> -4.973844   </td><td> 6.799268e-07</td></tr>\n",
       "\t<tr><th scope=row>tax</th><td>-2.859166e+00</td><td>6.484330e-01 </td><td> -4.409348   </td><td> 1.060115e-05</td></tr>\n",
       "\t<tr><th scope=row>model_yeti</th><td> 5.760908e+02</td><td>1.978580e+02 </td><td>  2.911639   </td><td> 3.612403e-03</td></tr>\n",
       "\t<tr><th scope=row>engineSize_2.5</th><td>-4.932997e+03</td><td>1.795167e+03 </td><td> -2.747932   </td><td> 6.020272e-03</td></tr>\n",
       "\t<tr><th scope=row>engineSize_1.2</th><td> 2.405498e+02</td><td>1.272052e+02 </td><td>  1.891038   </td><td> 5.868114e-02</td></tr>\n",
       "\t<tr><th scope=row>engineSize_1.8</th><td>-1.791138e+03</td><td>1.026501e+03 </td><td> -1.744896   </td><td> 8.106867e-02</td></tr>\n",
       "\t<tr><th scope=row>transmission_automatic</th><td> 1.395829e+02</td><td>9.077758e+01 </td><td>  1.537636   </td><td> 1.242054e-01</td></tr>\n",
       "</tbody>\n",
       "</table>\n"
      ],
      "text/latex": [
       "\\begin{tabular}{r|llll}\n",
       "  & Estimate & Std. Error & t value & Pr(>\\textbar{}t\\textbar{})\\\\\n",
       "\\hline\n",
       "\t(Intercept) &  2.591990e+04 & 3.500033e+02  &  74.056163    &  0.000000e+00\\\\\n",
       "\tage & -9.703157e+02 & 2.523131e+01  & -38.456807    & 2.385057e-281\\\\\n",
       "\tengineSize\\_1.0 & -7.714856e+02 & 1.159868e+02  &  -6.651495    &  3.234699e-11\\\\\n",
       "\tmodel\\_kodiaq &  7.737319e+03 & 1.669015e+02  &  46.358605    &  0.000000e+00\\\\\n",
       "\tengineSize\\_2.0 &  2.429251e+03 & 1.368999e+02  &  17.744723    &  3.142969e-68\\\\\n",
       "\ttransmission\\_manual & -1.394680e+03 & 7.165981e+01  & -19.462512    &  3.471761e-81\\\\\n",
       "\tmodel\\_karoq &  5.636370e+03 & 1.460559e+02  &  38.590494    & 4.775123e-283\\\\\n",
       "\tmodel\\_superb &  4.129788e+03 & 1.314594e+02  &  31.414935    & 1.063320e-196\\\\\n",
       "\tmileage & -6.195652e-02 & 2.082484e-03  & -29.751258    & 2.851468e-178\\\\\n",
       "\tmodel\\_kamiq &  4.195435e+03 & 1.975924e+02  &  21.232773    &  1.374423e-95\\\\\n",
       "\tfuelType\\_hybrid &  3.591243e+04 & 9.149241e+02  &  39.251812    & 1.708383e-291\\\\\n",
       "\tmpg & -1.758650e+02 & 5.436162e+00  & -32.350954    & 2.356671e-207\\\\\n",
       "\tfuelType\\_diesel &  1.129562e+03 & 1.523018e+02  &   7.416601    &  1.419312e-13\\\\\n",
       "\tmodel\\_octavia &  1.996188e+03 & 1.065050e+02  &  18.742668    &  1.243676e-75\\\\\n",
       "\tmodel\\_scala &  1.933217e+03 & 1.701405e+02  &  11.362476    &  1.565065e-29\\\\\n",
       "\tmodel\\_yeti\\_out &  9.766555e+02 & 1.292096e+02  &   7.558690    &  4.871194e-14\\\\\n",
       "\tengineSize\\_1.9 &  5.943008e+03 & 8.391801e+02  &   7.081922    &  1.633643e-12\\\\\n",
       "\tengineSize\\_1.6 &  9.669544e+02 & 1.530974e+02  &   6.315943    &  2.934812e-10\\\\\n",
       "\tmodel\\_citigo & -5.867477e+02 & 1.179667e+02  &  -4.973844    &  6.799268e-07\\\\\n",
       "\ttax & -2.859166e+00 & 6.484330e-01  &  -4.409348    &  1.060115e-05\\\\\n",
       "\tmodel\\_yeti &  5.760908e+02 & 1.978580e+02  &   2.911639    &  3.612403e-03\\\\\n",
       "\tengineSize\\_2.5 & -4.932997e+03 & 1.795167e+03  &  -2.747932    &  6.020272e-03\\\\\n",
       "\tengineSize\\_1.2 &  2.405498e+02 & 1.272052e+02  &   1.891038    &  5.868114e-02\\\\\n",
       "\tengineSize\\_1.8 & -1.791138e+03 & 1.026501e+03  &  -1.744896    &  8.106867e-02\\\\\n",
       "\ttransmission\\_automatic &  1.395829e+02 & 9.077758e+01  &   1.537636    &  1.242054e-01\\\\\n",
       "\\end{tabular}\n"
      ],
      "text/markdown": [
       "\n",
       "| <!--/--> | Estimate | Std. Error | t value | Pr(>|t|) |\n",
       "|---|---|---|---|---|\n",
       "| (Intercept) |  2.591990e+04 | 3.500033e+02  |  74.056163    |  0.000000e+00 |\n",
       "| age | -9.703157e+02 | 2.523131e+01  | -38.456807    | 2.385057e-281 |\n",
       "| engineSize_1.0 | -7.714856e+02 | 1.159868e+02  |  -6.651495    |  3.234699e-11 |\n",
       "| model_kodiaq |  7.737319e+03 | 1.669015e+02  |  46.358605    |  0.000000e+00 |\n",
       "| engineSize_2.0 |  2.429251e+03 | 1.368999e+02  |  17.744723    |  3.142969e-68 |\n",
       "| transmission_manual | -1.394680e+03 | 7.165981e+01  | -19.462512    |  3.471761e-81 |\n",
       "| model_karoq |  5.636370e+03 | 1.460559e+02  |  38.590494    | 4.775123e-283 |\n",
       "| model_superb |  4.129788e+03 | 1.314594e+02  |  31.414935    | 1.063320e-196 |\n",
       "| mileage | -6.195652e-02 | 2.082484e-03  | -29.751258    | 2.851468e-178 |\n",
       "| model_kamiq |  4.195435e+03 | 1.975924e+02  |  21.232773    |  1.374423e-95 |\n",
       "| fuelType_hybrid |  3.591243e+04 | 9.149241e+02  |  39.251812    | 1.708383e-291 |\n",
       "| mpg | -1.758650e+02 | 5.436162e+00  | -32.350954    | 2.356671e-207 |\n",
       "| fuelType_diesel |  1.129562e+03 | 1.523018e+02  |   7.416601    |  1.419312e-13 |\n",
       "| model_octavia |  1.996188e+03 | 1.065050e+02  |  18.742668    |  1.243676e-75 |\n",
       "| model_scala |  1.933217e+03 | 1.701405e+02  |  11.362476    |  1.565065e-29 |\n",
       "| model_yeti_out |  9.766555e+02 | 1.292096e+02  |   7.558690    |  4.871194e-14 |\n",
       "| engineSize_1.9 |  5.943008e+03 | 8.391801e+02  |   7.081922    |  1.633643e-12 |\n",
       "| engineSize_1.6 |  9.669544e+02 | 1.530974e+02  |   6.315943    |  2.934812e-10 |\n",
       "| model_citigo | -5.867477e+02 | 1.179667e+02  |  -4.973844    |  6.799268e-07 |\n",
       "| tax | -2.859166e+00 | 6.484330e-01  |  -4.409348    |  1.060115e-05 |\n",
       "| model_yeti |  5.760908e+02 | 1.978580e+02  |   2.911639    |  3.612403e-03 |\n",
       "| engineSize_2.5 | -4.932997e+03 | 1.795167e+03  |  -2.747932    |  6.020272e-03 |\n",
       "| engineSize_1.2 |  2.405498e+02 | 1.272052e+02  |   1.891038    |  5.868114e-02 |\n",
       "| engineSize_1.8 | -1.791138e+03 | 1.026501e+03  |  -1.744896    |  8.106867e-02 |\n",
       "| transmission_automatic |  1.395829e+02 | 9.077758e+01  |   1.537636    |  1.242054e-01 |\n",
       "\n"
      ],
      "text/plain": [
       "                       Estimate      Std. Error   t value    Pr(>|t|)     \n",
       "(Intercept)             2.591990e+04 3.500033e+02  74.056163  0.000000e+00\n",
       "age                    -9.703157e+02 2.523131e+01 -38.456807 2.385057e-281\n",
       "engineSize_1.0         -7.714856e+02 1.159868e+02  -6.651495  3.234699e-11\n",
       "model_kodiaq            7.737319e+03 1.669015e+02  46.358605  0.000000e+00\n",
       "engineSize_2.0          2.429251e+03 1.368999e+02  17.744723  3.142969e-68\n",
       "transmission_manual    -1.394680e+03 7.165981e+01 -19.462512  3.471761e-81\n",
       "model_karoq             5.636370e+03 1.460559e+02  38.590494 4.775123e-283\n",
       "model_superb            4.129788e+03 1.314594e+02  31.414935 1.063320e-196\n",
       "mileage                -6.195652e-02 2.082484e-03 -29.751258 2.851468e-178\n",
       "model_kamiq             4.195435e+03 1.975924e+02  21.232773  1.374423e-95\n",
       "fuelType_hybrid         3.591243e+04 9.149241e+02  39.251812 1.708383e-291\n",
       "mpg                    -1.758650e+02 5.436162e+00 -32.350954 2.356671e-207\n",
       "fuelType_diesel         1.129562e+03 1.523018e+02   7.416601  1.419312e-13\n",
       "model_octavia           1.996188e+03 1.065050e+02  18.742668  1.243676e-75\n",
       "model_scala             1.933217e+03 1.701405e+02  11.362476  1.565065e-29\n",
       "model_yeti_out          9.766555e+02 1.292096e+02   7.558690  4.871194e-14\n",
       "engineSize_1.9          5.943008e+03 8.391801e+02   7.081922  1.633643e-12\n",
       "engineSize_1.6          9.669544e+02 1.530974e+02   6.315943  2.934812e-10\n",
       "model_citigo           -5.867477e+02 1.179667e+02  -4.973844  6.799268e-07\n",
       "tax                    -2.859166e+00 6.484330e-01  -4.409348  1.060115e-05\n",
       "model_yeti              5.760908e+02 1.978580e+02   2.911639  3.612403e-03\n",
       "engineSize_2.5         -4.932997e+03 1.795167e+03  -2.747932  6.020272e-03\n",
       "engineSize_1.2          2.405498e+02 1.272052e+02   1.891038  5.868114e-02\n",
       "engineSize_1.8         -1.791138e+03 1.026501e+03  -1.744896  8.106867e-02\n",
       "transmission_automatic  1.395829e+02 9.077758e+01   1.537636  1.242054e-01"
      ]
     },
     "metadata": {},
     "output_type": "display_data"
    }
   ],
   "source": [
    "summary(model6)$coeff"
   ]
  },
  {
   "cell_type": "code",
   "execution_count": 118,
   "id": "308aa2d3-f606-4502-8e67-d1074040fd68",
   "metadata": {},
   "outputs": [
    {
     "data": {
      "text/html": [
       "<table>\n",
       "<thead><tr><th></th><th scope=col>Classic_Est</th><th scope=col>Bootstrap_Est</th></tr></thead>\n",
       "<tbody>\n",
       "\t<tr><th scope=row>(Intercept)</th><td> 2.591990e+04</td><td> 2.591990e+04</td></tr>\n",
       "\t<tr><th scope=row>age</th><td>-9.703157e+02</td><td>-9.703157e+02</td></tr>\n",
       "\t<tr><th scope=row>engineSize_1.0</th><td>-7.714856e+02</td><td>-7.714856e+02</td></tr>\n",
       "\t<tr><th scope=row>model_kodiaq</th><td> 7.737319e+03</td><td> 7.737319e+03</td></tr>\n",
       "\t<tr><th scope=row>engineSize_2.0</th><td> 2.429251e+03</td><td> 2.429251e+03</td></tr>\n",
       "\t<tr><th scope=row>transmission_manual</th><td>-1.394680e+03</td><td>-1.394680e+03</td></tr>\n",
       "\t<tr><th scope=row>model_karoq</th><td> 5.636370e+03</td><td> 5.636370e+03</td></tr>\n",
       "\t<tr><th scope=row>model_superb</th><td> 4.129788e+03</td><td> 4.129788e+03</td></tr>\n",
       "\t<tr><th scope=row>mileage</th><td>-6.195652e-02</td><td>-6.195652e-02</td></tr>\n",
       "\t<tr><th scope=row>model_kamiq</th><td> 4.195435e+03</td><td> 4.195435e+03</td></tr>\n",
       "\t<tr><th scope=row>fuelType_hybrid</th><td> 3.591243e+04</td><td> 3.591243e+04</td></tr>\n",
       "\t<tr><th scope=row>mpg</th><td>-1.758650e+02</td><td>-1.758650e+02</td></tr>\n",
       "\t<tr><th scope=row>fuelType_diesel</th><td> 1.129562e+03</td><td> 1.129562e+03</td></tr>\n",
       "\t<tr><th scope=row>model_octavia</th><td> 1.996188e+03</td><td> 1.996188e+03</td></tr>\n",
       "\t<tr><th scope=row>model_scala</th><td> 1.933217e+03</td><td> 1.933217e+03</td></tr>\n",
       "\t<tr><th scope=row>model_yeti_out</th><td> 9.766555e+02</td><td> 9.766555e+02</td></tr>\n",
       "\t<tr><th scope=row>engineSize_1.9</th><td> 5.943008e+03</td><td> 5.943008e+03</td></tr>\n",
       "\t<tr><th scope=row>engineSize_1.6</th><td> 9.669544e+02</td><td> 9.669544e+02</td></tr>\n",
       "\t<tr><th scope=row>model_citigo</th><td>-5.867477e+02</td><td>-5.867477e+02</td></tr>\n",
       "\t<tr><th scope=row>tax</th><td>-2.859166e+00</td><td>-2.859166e+00</td></tr>\n",
       "\t<tr><th scope=row>model_yeti</th><td> 5.760908e+02</td><td> 5.760908e+02</td></tr>\n",
       "\t<tr><th scope=row>engineSize_2.5</th><td>-4.932997e+03</td><td>-4.932997e+03</td></tr>\n",
       "\t<tr><th scope=row>engineSize_1.2</th><td> 2.405498e+02</td><td> 2.405498e+02</td></tr>\n",
       "\t<tr><th scope=row>engineSize_1.8</th><td>-1.791138e+03</td><td>-1.791138e+03</td></tr>\n",
       "\t<tr><th scope=row>transmission_automatic</th><td> 1.395829e+02</td><td> 1.395829e+02</td></tr>\n",
       "</tbody>\n",
       "</table>\n"
      ],
      "text/latex": [
       "\\begin{tabular}{r|ll}\n",
       "  & Classic\\_Est & Bootstrap\\_Est\\\\\n",
       "\\hline\n",
       "\t(Intercept) &  2.591990e+04 &  2.591990e+04\\\\\n",
       "\tage & -9.703157e+02 & -9.703157e+02\\\\\n",
       "\tengineSize\\_1.0 & -7.714856e+02 & -7.714856e+02\\\\\n",
       "\tmodel\\_kodiaq &  7.737319e+03 &  7.737319e+03\\\\\n",
       "\tengineSize\\_2.0 &  2.429251e+03 &  2.429251e+03\\\\\n",
       "\ttransmission\\_manual & -1.394680e+03 & -1.394680e+03\\\\\n",
       "\tmodel\\_karoq &  5.636370e+03 &  5.636370e+03\\\\\n",
       "\tmodel\\_superb &  4.129788e+03 &  4.129788e+03\\\\\n",
       "\tmileage & -6.195652e-02 & -6.195652e-02\\\\\n",
       "\tmodel\\_kamiq &  4.195435e+03 &  4.195435e+03\\\\\n",
       "\tfuelType\\_hybrid &  3.591243e+04 &  3.591243e+04\\\\\n",
       "\tmpg & -1.758650e+02 & -1.758650e+02\\\\\n",
       "\tfuelType\\_diesel &  1.129562e+03 &  1.129562e+03\\\\\n",
       "\tmodel\\_octavia &  1.996188e+03 &  1.996188e+03\\\\\n",
       "\tmodel\\_scala &  1.933217e+03 &  1.933217e+03\\\\\n",
       "\tmodel\\_yeti\\_out &  9.766555e+02 &  9.766555e+02\\\\\n",
       "\tengineSize\\_1.9 &  5.943008e+03 &  5.943008e+03\\\\\n",
       "\tengineSize\\_1.6 &  9.669544e+02 &  9.669544e+02\\\\\n",
       "\tmodel\\_citigo & -5.867477e+02 & -5.867477e+02\\\\\n",
       "\ttax & -2.859166e+00 & -2.859166e+00\\\\\n",
       "\tmodel\\_yeti &  5.760908e+02 &  5.760908e+02\\\\\n",
       "\tengineSize\\_2.5 & -4.932997e+03 & -4.932997e+03\\\\\n",
       "\tengineSize\\_1.2 &  2.405498e+02 &  2.405498e+02\\\\\n",
       "\tengineSize\\_1.8 & -1.791138e+03 & -1.791138e+03\\\\\n",
       "\ttransmission\\_automatic &  1.395829e+02 &  1.395829e+02\\\\\n",
       "\\end{tabular}\n"
      ],
      "text/markdown": [
       "\n",
       "| <!--/--> | Classic_Est | Bootstrap_Est |\n",
       "|---|---|---|\n",
       "| (Intercept) |  2.591990e+04 |  2.591990e+04 |\n",
       "| age | -9.703157e+02 | -9.703157e+02 |\n",
       "| engineSize_1.0 | -7.714856e+02 | -7.714856e+02 |\n",
       "| model_kodiaq |  7.737319e+03 |  7.737319e+03 |\n",
       "| engineSize_2.0 |  2.429251e+03 |  2.429251e+03 |\n",
       "| transmission_manual | -1.394680e+03 | -1.394680e+03 |\n",
       "| model_karoq |  5.636370e+03 |  5.636370e+03 |\n",
       "| model_superb |  4.129788e+03 |  4.129788e+03 |\n",
       "| mileage | -6.195652e-02 | -6.195652e-02 |\n",
       "| model_kamiq |  4.195435e+03 |  4.195435e+03 |\n",
       "| fuelType_hybrid |  3.591243e+04 |  3.591243e+04 |\n",
       "| mpg | -1.758650e+02 | -1.758650e+02 |\n",
       "| fuelType_diesel |  1.129562e+03 |  1.129562e+03 |\n",
       "| model_octavia |  1.996188e+03 |  1.996188e+03 |\n",
       "| model_scala |  1.933217e+03 |  1.933217e+03 |\n",
       "| model_yeti_out |  9.766555e+02 |  9.766555e+02 |\n",
       "| engineSize_1.9 |  5.943008e+03 |  5.943008e+03 |\n",
       "| engineSize_1.6 |  9.669544e+02 |  9.669544e+02 |\n",
       "| model_citigo | -5.867477e+02 | -5.867477e+02 |\n",
       "| tax | -2.859166e+00 | -2.859166e+00 |\n",
       "| model_yeti |  5.760908e+02 |  5.760908e+02 |\n",
       "| engineSize_2.5 | -4.932997e+03 | -4.932997e+03 |\n",
       "| engineSize_1.2 |  2.405498e+02 |  2.405498e+02 |\n",
       "| engineSize_1.8 | -1.791138e+03 | -1.791138e+03 |\n",
       "| transmission_automatic |  1.395829e+02 |  1.395829e+02 |\n",
       "\n"
      ],
      "text/plain": [
       "                       Classic_Est   Bootstrap_Est\n",
       "(Intercept)             2.591990e+04  2.591990e+04\n",
       "age                    -9.703157e+02 -9.703157e+02\n",
       "engineSize_1.0         -7.714856e+02 -7.714856e+02\n",
       "model_kodiaq            7.737319e+03  7.737319e+03\n",
       "engineSize_2.0          2.429251e+03  2.429251e+03\n",
       "transmission_manual    -1.394680e+03 -1.394680e+03\n",
       "model_karoq             5.636370e+03  5.636370e+03\n",
       "model_superb            4.129788e+03  4.129788e+03\n",
       "mileage                -6.195652e-02 -6.195652e-02\n",
       "model_kamiq             4.195435e+03  4.195435e+03\n",
       "fuelType_hybrid         3.591243e+04  3.591243e+04\n",
       "mpg                    -1.758650e+02 -1.758650e+02\n",
       "fuelType_diesel         1.129562e+03  1.129562e+03\n",
       "model_octavia           1.996188e+03  1.996188e+03\n",
       "model_scala             1.933217e+03  1.933217e+03\n",
       "model_yeti_out          9.766555e+02  9.766555e+02\n",
       "engineSize_1.9          5.943008e+03  5.943008e+03\n",
       "engineSize_1.6          9.669544e+02  9.669544e+02\n",
       "model_citigo           -5.867477e+02 -5.867477e+02\n",
       "tax                    -2.859166e+00 -2.859166e+00\n",
       "model_yeti              5.760908e+02  5.760908e+02\n",
       "engineSize_2.5         -4.932997e+03 -4.932997e+03\n",
       "engineSize_1.2          2.405498e+02  2.405498e+02\n",
       "engineSize_1.8         -1.791138e+03 -1.791138e+03\n",
       "transmission_automatic  1.395829e+02  1.395829e+02"
      ]
     },
     "metadata": {},
     "output_type": "display_data"
    }
   ],
   "source": [
    "# Comparison\n",
    "comparison <- data.frame(Classic_Est = summary(model6)$coeff[, 1], Bootstrap_Est = boot.est$t0)\n",
    "comparison"
   ]
  },
  {
   "cell_type": "code",
   "execution_count": null,
   "id": "ddbf32cd-54df-41f9-88c9-3565874443f1",
   "metadata": {},
   "outputs": [],
   "source": []
  }
 ],
 "metadata": {
  "kernelspec": {
   "display_name": "R [conda env:rbase]",
   "language": "R",
   "name": "conda-env-rbase-r"
  },
  "language_info": {
   "codemirror_mode": "r",
   "file_extension": ".r",
   "mimetype": "text/x-r-source",
   "name": "R",
   "pygments_lexer": "r",
   "version": "3.6.1"
  }
 },
 "nbformat": 4,
 "nbformat_minor": 5
}
